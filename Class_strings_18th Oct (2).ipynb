{
 "cells": [
  {
   "cell_type": "markdown",
   "id": "8d560fb3",
   "metadata": {},
   "source": [
    "# Class\n",
    "\n",
    "    - A class is a user-defined blueprint or prototype from which objects are created.\n",
    "    - Defines the properties (attributes) and behaviors (methods) that the objects belonging to that class will have.\n"
   ]
  },
  {
   "cell_type": "code",
   "execution_count": 14,
   "id": "59bc1d2a",
   "metadata": {
    "scrolled": true
   },
   "outputs": [
    {
     "name": "stdout",
     "output_type": "stream",
     "text": [
      " Hello <class 'str'>\n"
     ]
    }
   ],
   "source": [
    "x = \" Hello\"\n",
    "print(x, type(x))"
   ]
  },
  {
   "cell_type": "markdown",
   "id": "9056ec5a",
   "metadata": {},
   "source": [
    "### ASCII Values\n",
    "- It is a numeric value given to different characters and symbols, for computers to store and manipulate. \n",
    "- The characters that can be in the form of upper function and lower function of alphabets like, (A,B,C,D,...),(a,b,c,d,...).\n"
   ]
  },
  {
   "cell_type": "code",
   "execution_count": 1,
   "id": "6ba2b9d0",
   "metadata": {},
   "outputs": [
    {
     "data": {
      "text/plain": [
       "65"
      ]
     },
     "execution_count": 1,
     "metadata": {},
     "output_type": "execute_result"
    }
   ],
   "source": [
    "ord(\"A\")"
   ]
  },
  {
   "cell_type": "code",
   "execution_count": 2,
   "id": "93f7dd6b",
   "metadata": {},
   "outputs": [
    {
     "data": {
      "text/plain": [
       "97"
      ]
     },
     "execution_count": 2,
     "metadata": {},
     "output_type": "execute_result"
    }
   ],
   "source": [
    "ord(\"a\")"
   ]
  },
  {
   "cell_type": "markdown",
   "id": "7e9edb72",
   "metadata": {},
   "source": [
    "## Methods in String\n",
    "\n",
    "- strings are immutable,the resulting strings from string methods have a new memory location.\n",
    "- In order to use these strings, we need re-assign it to a variable."
   ]
  },
  {
   "cell_type": "code",
   "execution_count": 4,
   "id": "c961f369",
   "metadata": {},
   "outputs": [
    {
     "name": "stdout",
     "output_type": "stream",
     "text": [
      " Hello <class 'str'>\n"
     ]
    }
   ],
   "source": [
    "x = \" Hello\"\n",
    "print(x, type(x))"
   ]
  },
  {
   "cell_type": "code",
   "execution_count": 5,
   "id": "c50304b7",
   "metadata": {},
   "outputs": [
    {
     "data": {
      "text/plain": [
       "['__add__',\n",
       " '__class__',\n",
       " '__contains__',\n",
       " '__delattr__',\n",
       " '__dir__',\n",
       " '__doc__',\n",
       " '__eq__',\n",
       " '__format__',\n",
       " '__ge__',\n",
       " '__getattribute__',\n",
       " '__getitem__',\n",
       " '__getnewargs__',\n",
       " '__getstate__',\n",
       " '__gt__',\n",
       " '__hash__',\n",
       " '__init__',\n",
       " '__init_subclass__',\n",
       " '__iter__',\n",
       " '__le__',\n",
       " '__len__',\n",
       " '__lt__',\n",
       " '__mod__',\n",
       " '__mul__',\n",
       " '__ne__',\n",
       " '__new__',\n",
       " '__reduce__',\n",
       " '__reduce_ex__',\n",
       " '__repr__',\n",
       " '__rmod__',\n",
       " '__rmul__',\n",
       " '__setattr__',\n",
       " '__sizeof__',\n",
       " '__str__',\n",
       " '__subclasshook__',\n",
       " 'capitalize',\n",
       " 'casefold',\n",
       " 'center',\n",
       " 'count',\n",
       " 'encode',\n",
       " 'endswith',\n",
       " 'expandtabs',\n",
       " 'find',\n",
       " 'format',\n",
       " 'format_map',\n",
       " 'index',\n",
       " 'isalnum',\n",
       " 'isalpha',\n",
       " 'isascii',\n",
       " 'isdecimal',\n",
       " 'isdigit',\n",
       " 'isidentifier',\n",
       " 'islower',\n",
       " 'isnumeric',\n",
       " 'isprintable',\n",
       " 'isspace',\n",
       " 'istitle',\n",
       " 'isupper',\n",
       " 'join',\n",
       " 'ljust',\n",
       " 'lower',\n",
       " 'lstrip',\n",
       " 'maketrans',\n",
       " 'partition',\n",
       " 'removeprefix',\n",
       " 'removesuffix',\n",
       " 'replace',\n",
       " 'rfind',\n",
       " 'rindex',\n",
       " 'rjust',\n",
       " 'rpartition',\n",
       " 'rsplit',\n",
       " 'rstrip',\n",
       " 'split',\n",
       " 'splitlines',\n",
       " 'startswith',\n",
       " 'strip',\n",
       " 'swapcase',\n",
       " 'title',\n",
       " 'translate',\n",
       " 'upper',\n",
       " 'zfill']"
      ]
     },
     "execution_count": 5,
     "metadata": {},
     "output_type": "execute_result"
    }
   ],
   "source": [
    "dir(x)"
   ]
  },
  {
   "cell_type": "markdown",
   "id": "4bcf5448",
   "metadata": {},
   "source": [
    "# # String_Upper_Case()\n",
    "\n",
    "- This method changes all the characters in a string to capital alphabets\n",
    "- Symbols and Numbers are ignored.\n",
    "\n",
    "### Syntax\n",
    "\n",
    "-  string.lower(\n",
    "\n",
    "### Parameter values\n",
    "\n",
    " - No parameters"
   ]
  },
  {
   "cell_type": "code",
   "execution_count": 5,
   "id": "ea6399af",
   "metadata": {},
   "outputs": [
    {
     "name": "stdout",
     "output_type": "stream",
     "text": [
      "Help on built-in function upper:\n",
      "\n",
      "upper() method of builtins.str instance\n",
      "    Return a copy of the string converted to uppercase.\n",
      "\n"
     ]
    }
   ],
   "source": [
    "help(x.upper)"
   ]
  },
  {
   "cell_type": "code",
   "execution_count": 6,
   "id": "28bde0e2",
   "metadata": {},
   "outputs": [
    {
     "data": {
      "text/plain": [
       "'PYTHON'"
      ]
     },
     "execution_count": 6,
     "metadata": {},
     "output_type": "execute_result"
    }
   ],
   "source": [
    "x = \"Python\"\n",
    "x.upper()"
   ]
  },
  {
   "cell_type": "code",
   "execution_count": 2,
   "id": "14321b25",
   "metadata": {},
   "outputs": [
    {
     "name": "stdout",
     "output_type": "stream",
     "text": [
      "HELLO MY FRIENDS\n"
     ]
    }
   ],
   "source": [
    "p = \"Hello my friends\"\n",
    "\n",
    "x = p.upper()\n",
    "\n",
    "print(x)"
   ]
  },
  {
   "cell_type": "markdown",
   "id": "c0c17bca",
   "metadata": {},
   "source": [
    "## String_lower_case() \n",
    "\n",
    "- This method changes all the characters in a string to small letters\n",
    "\n",
    "### Syntax\n",
    "\n",
    "- string.lower()\n",
    "\n",
    "### Parameter values\n",
    "\n",
    " - No parameters"
   ]
  },
  {
   "cell_type": "code",
   "execution_count": 6,
   "id": "cf75f6eb",
   "metadata": {},
   "outputs": [
    {
     "name": "stdout",
     "output_type": "stream",
     "text": [
      "Help on built-in function lower:\n",
      "\n",
      "lower() method of builtins.str instance\n",
      "    Return a copy of the string converted to lowercase.\n",
      "\n"
     ]
    }
   ],
   "source": [
    "help(x.lower)"
   ]
  },
  {
   "cell_type": "code",
   "execution_count": 3,
   "id": "1e6f82e5",
   "metadata": {},
   "outputs": [
    {
     "name": "stdout",
     "output_type": "stream",
     "text": [
      "Python\n"
     ]
    },
    {
     "data": {
      "text/plain": [
       "'python'"
      ]
     },
     "execution_count": 3,
     "metadata": {},
     "output_type": "execute_result"
    }
   ],
   "source": [
    "x = \"Python\"\n",
    "print(x)\n",
    "x.lower()"
   ]
  },
  {
   "cell_type": "code",
   "execution_count": 23,
   "id": "a5722050",
   "metadata": {},
   "outputs": [
    {
     "data": {
      "text/plain": [
       "'SHE SELLS SEASHELLS BY THE SEASHORE'"
      ]
     },
     "execution_count": 23,
     "metadata": {},
     "output_type": "execute_result"
    }
   ],
   "source": [
    "# Upper case\n",
    "str = \"She sells seashells by the seashore\"\n",
    "str.upper()"
   ]
  },
  {
   "cell_type": "code",
   "execution_count": 25,
   "id": "547f2cc3",
   "metadata": {},
   "outputs": [
    {
     "data": {
      "text/plain": [
       "'she sells seashells by the seashore'"
      ]
     },
     "execution_count": 25,
     "metadata": {},
     "output_type": "execute_result"
    }
   ],
   "source": [
    "# Lower case\n",
    "str.lower()"
   ]
  },
  {
   "cell_type": "markdown",
   "id": "207d36ef",
   "metadata": {},
   "source": [
    "* Strings are <u>**'immutable'**<\\u>, the resulting strings from string methods have a new memeory location.\n",
    "- in order to use strings, we need to reassign it to a variable.\n",
    "- Python String Immutability is the property of an object according to which we can not change the object after we declared or     after the creation of it is known as Immutabilty"
   ]
  },
  {
   "cell_type": "code",
   "execution_count": 7,
   "id": "1d88b0eb",
   "metadata": {},
   "outputs": [
    {
     "ename": "TypeError",
     "evalue": "'str' object does not support item assignment",
     "output_type": "error",
     "traceback": [
      "\u001b[1;31m---------------------------------------------------------------------------\u001b[0m",
      "\u001b[1;31mTypeError\u001b[0m                                 Traceback (most recent call last)",
      "Cell \u001b[1;32mIn[7], line 4\u001b[0m\n\u001b[0;32m      1\u001b[0m z \u001b[38;5;241m=\u001b[39m \u001b[38;5;124m\"\u001b[39m\u001b[38;5;124mHello, world!\u001b[39m\u001b[38;5;124m\"\u001b[39m\n\u001b[0;32m      3\u001b[0m \u001b[38;5;66;03m# Attempt to modify the string\u001b[39;00m\n\u001b[1;32m----> 4\u001b[0m z[\u001b[38;5;241m0\u001b[39m] \u001b[38;5;241m=\u001b[39m \u001b[38;5;124m'\u001b[39m\u001b[38;5;124mh\u001b[39m\u001b[38;5;124m'\u001b[39m\n",
      "\u001b[1;31mTypeError\u001b[0m: 'str' object does not support item assignment"
     ]
    }
   ],
   "source": [
    "z = \"Hello, world!\"\n",
    " \n",
    "# Attempt to modify the string\n",
    "z[0] = 'h' # Raises TypeError: 'str' object does not support item assignment-----"
   ]
  },
  {
   "cell_type": "code",
   "execution_count": 8,
   "id": "e6451d2a",
   "metadata": {},
   "outputs": [
    {
     "data": {
      "text/plain": [
       "'ABC'"
      ]
     },
     "execution_count": 8,
     "metadata": {},
     "output_type": "execute_result"
    }
   ],
   "source": [
    "x = 'ABC'\n",
    "x.upper()"
   ]
  },
  {
   "cell_type": "code",
   "execution_count": 9,
   "id": "54735cfc",
   "metadata": {},
   "outputs": [
    {
     "name": "stdout",
     "output_type": "stream",
     "text": [
      "140706321734120 2722025714080\n"
     ]
    }
   ],
   "source": [
    "print(id(x), id(x.upper))"
   ]
  },
  {
   "cell_type": "code",
   "execution_count": 10,
   "id": "36bb4de2",
   "metadata": {},
   "outputs": [
    {
     "data": {
      "text/plain": [
       "'abc'"
      ]
     },
     "execution_count": 10,
     "metadata": {},
     "output_type": "execute_result"
    }
   ],
   "source": [
    "x = 'abc'\n",
    "x.lower()\n"
   ]
  },
  {
   "cell_type": "code",
   "execution_count": 11,
   "id": "a0487954",
   "metadata": {},
   "outputs": [
    {
     "name": "stdout",
     "output_type": "stream",
     "text": [
      "140706321286224 2722025715360\n"
     ]
    }
   ],
   "source": [
    "print(id(x),id(x.lower))"
   ]
  },
  {
   "cell_type": "markdown",
   "id": "41bc1ada",
   "metadata": {},
   "source": [
    "## Capitalize()\n",
    "\n",
    "- In python capitalize() will convert the first character into capital letter and the remaining characters will be in lower       case.\n",
    "\n",
    "### Syntax\n",
    "\n",
    "- string.capitalize()\n",
    "\n",
    "### Parameter Values\n",
    "\n",
    "- No parameters\n"
   ]
  },
  {
   "cell_type": "markdown",
   "id": "542ca8cd",
   "metadata": {},
   "source": [
    "help(x.capitalize)"
   ]
  },
  {
   "cell_type": "code",
   "execution_count": 9,
   "id": "30f9b0dd",
   "metadata": {},
   "outputs": [
    {
     "name": "stdout",
     "output_type": "stream",
     "text": [
      "Python is fun!\n"
     ]
    }
   ],
   "source": [
    "r = \"python is FUN!\"\n",
    "\n",
    "x = r.capitalize()\n",
    "\n",
    "print (x)"
   ]
  },
  {
   "cell_type": "code",
   "execution_count": 8,
   "id": "3575529d",
   "metadata": {},
   "outputs": [
    {
     "data": {
      "text/plain": [
       "'She sells seashells by the seashore'"
      ]
     },
     "execution_count": 8,
     "metadata": {},
     "output_type": "execute_result"
    }
   ],
   "source": [
    "str = \"She sells seashells by the seashore\"\n",
    "str.capitalize()"
   ]
  },
  {
   "cell_type": "markdown",
   "id": "b1ea28d7",
   "metadata": {},
   "source": [
    "## title() \n",
    "\n",
    "-  convert the first character in each word to uppercase and the remaining characters to lowercase in the string and returns a      new string.\n",
    "- converts first alphabet of every word will be in capital case'\n",
    "\n",
    "### Syntax\n",
    "\n",
    "- str.title()\n",
    "\n",
    "### parameters: \n",
    "\n",
    "- No parameters."
   ]
  },
  {
   "cell_type": "markdown",
   "id": "30f1de4e",
   "metadata": {},
   "source": [
    "help(x.title)"
   ]
  },
  {
   "cell_type": "code",
   "execution_count": 14,
   "id": "947fea33",
   "metadata": {},
   "outputs": [
    {
     "data": {
      "text/plain": [
       "'She Sells Seashells By The Seashore'"
      ]
     },
     "execution_count": 14,
     "metadata": {},
     "output_type": "execute_result"
    }
   ],
   "source": [
    "str.title()"
   ]
  },
  {
   "cell_type": "code",
   "execution_count": 38,
   "id": "4ac4e9cd",
   "metadata": {},
   "outputs": [
    {
     "data": {
      "text/plain": [
       "'123Abc !Def Zx 1234!!@@C'"
      ]
     },
     "execution_count": 38,
     "metadata": {},
     "output_type": "execute_result"
    }
   ],
   "source": [
    "## title()\n",
    "'123abc !def zx 1234!!@@c'.title()"
   ]
  },
  {
   "cell_type": "markdown",
   "id": "3ab32136",
   "metadata": {},
   "source": [
    "## Split()\n",
    "\n",
    "- The split() function means it will give the each and every string into the new line.\n",
    "- The split() method splits a string into a list.\n",
    "- we  can specify the separator, default separator is any whitespace.\n",
    "-  When maxsplit is specified, the list will contain the specified number of elements plus one.\n",
    "\n",
    "### Syntax\n",
    "\n",
    "- string.split(separator, maxsplit)\n",
    "\n",
    "### Parameter Values\n",
    "\n",
    "#### Description\n",
    "\n",
    "- separator\t Specifies the separator to use when splitting the string. By default any whitespace is a separator (Optional)\n",
    "- maxsplit\t Specifies how many splits to do. Default value is -1, which is \"all occurrences\"(Optional)\n",
    "\n"
   ]
  },
  {
   "cell_type": "code",
   "execution_count": 13,
   "id": "70929690",
   "metadata": {},
   "outputs": [
    {
     "name": "stdout",
     "output_type": "stream",
     "text": [
      "Help on built-in function split:\n",
      "\n",
      "split(sep=None, maxsplit=-1) method of builtins.str instance\n",
      "    Return a list of the substrings in the string, using sep as the separator string.\n",
      "    \n",
      "      sep\n",
      "        The separator used to split the string.\n",
      "    \n",
      "        When set to None (the default value), will split on any whitespace\n",
      "        character (including \\\\n \\\\r \\\\t \\\\f and spaces) and will discard\n",
      "        empty strings from the result.\n",
      "      maxsplit\n",
      "        Maximum number of splits (starting from the left).\n",
      "        -1 (the default value) means no limit.\n",
      "    \n",
      "    Note, str.split() is mainly useful for data that has been intentionally\n",
      "    delimited.  With natural text that includes punctuation, consider using\n",
      "    the regular expression module.\n",
      "\n"
     ]
    }
   ],
   "source": [
    "help(x.split)"
   ]
  },
  {
   "cell_type": "code",
   "execution_count": 15,
   "id": "5405839d",
   "metadata": {},
   "outputs": [
    {
     "name": "stdout",
     "output_type": "stream",
     "text": [
      "['hello', 'my name is Peter', 'I am 26 years old']\n"
     ]
    }
   ],
   "source": [
    "# Split the string, using comma, followed by a space, as a separator:\n",
    "\n",
    "y  = \"hello, my name is Peter, I am 26 years old\"\n",
    "\n",
    "x = y.split(\", \")\n",
    "\n",
    "print(x)"
   ]
  },
  {
   "cell_type": "code",
   "execution_count": 16,
   "id": "04bd0ae9",
   "metadata": {},
   "outputs": [
    {
     "name": "stdout",
     "output_type": "stream",
     "text": [
      "['apple', 'banana#cherry#orange']\n"
     ]
    }
   ],
   "source": [
    "# Split the string into a list with max 2 items:\n",
    "\n",
    "y = \"apple#banana#cherry#orange\"\n",
    "\n",
    "# setting the maxsplit parameter to 1, will return a list with 2 elements!\n",
    "\n",
    "x = y.split(\"#\", 1)\n",
    "\n",
    "print(x)"
   ]
  },
  {
   "cell_type": "code",
   "execution_count": 12,
   "id": "a73e466a",
   "metadata": {},
   "outputs": [
    {
     "data": {
      "text/plain": [
       "['She', 'sells', 'seashells', 'by', 'the', 'seashore']"
      ]
     },
     "execution_count": 12,
     "metadata": {},
     "output_type": "execute_result"
    }
   ],
   "source": [
    "str.split()"
   ]
  },
  {
   "cell_type": "markdown",
   "id": "a5cb88d1",
   "metadata": {},
   "source": [
    "## Swapcase()\n",
    "\n",
    "- This method changes capital letters to small letters and small letters to capital letters.\n",
    "\n",
    "### Syntax\n",
    "\n",
    "- string_name.swapcase()\n",
    "\n",
    "### Parameters\n",
    "\n",
    "- The swapcase() method does not take any parameter.\n",
    "\n",
    "##### Return Value: \n",
    "\n",
    "- The swapcase() method returns a string with all the cases changed. "
   ]
  },
  {
   "cell_type": "code",
   "execution_count": 20,
   "id": "4b3a19d8",
   "metadata": {},
   "outputs": [
    {
     "name": "stdout",
     "output_type": "stream",
     "text": [
      "Help on built-in function swapcase:\n",
      "\n",
      "swapcase() method of builtins.str instance\n",
      "    Convert uppercase characters to lowercase and lowercase characters to uppercase.\n",
      "\n"
     ]
    }
   ],
   "source": [
    "x = 'python'\n",
    "help(x.swapcase)"
   ]
  },
  {
   "cell_type": "code",
   "execution_count": 21,
   "id": "34e053f3",
   "metadata": {},
   "outputs": [
    {
     "name": "stdout",
     "output_type": "stream",
     "text": [
      "seaSheLLs by tHe sEASHOre\n",
      "SEASHELLS BY THE SEASHORE\n",
      "seashells by the seashore\n"
     ]
    }
   ],
   "source": [
    "# Python program to demonstrate the use of\n",
    "# swapcase() method  \n",
    " \n",
    "string = \"SEAsHEllS BY ThE SeashoRE\"\n",
    " \n",
    "# prints after swapping all cases\n",
    "print(string.swapcase())   \n",
    " \n",
    "string = \"seashells by the seashore\"\n",
    "print(string.swapcase())  \n",
    " \n",
    "string = \"SEASHELLS BY THE SEASHORE\"\n",
    "print(string.swapcase())"
   ]
  },
  {
   "cell_type": "code",
   "execution_count": 16,
   "id": "92ea923f",
   "metadata": {},
   "outputs": [
    {
     "data": {
      "text/plain": [
       "'sHE SELLS SEASHELLS BY THE SEASHORE'"
      ]
     },
     "execution_count": 16,
     "metadata": {},
     "output_type": "execute_result"
    }
   ],
   "source": [
    "str.swapcase()"
   ]
  },
  {
   "cell_type": "markdown",
   "id": "afb5dd73",
   "metadata": {},
   "source": [
    "## casefold()\n",
    "\n",
    "- The casefold() changes string lower case to more lowercase, special character like germen character (ß) is already in lower     case so, the lower method doesn’t make the conversion.\n",
    "\n",
    "- The casefold() method will convert ß to its equivalent character ss.\n",
    "  'German ss is '\n",
    "\n",
    "### Syntax\n",
    "\n",
    "- string.casefold()\n",
    "\n",
    "### Parameters\n",
    "\n",
    "- No parameters\n",
    "  "
   ]
  },
  {
   "cell_type": "code",
   "execution_count": 22,
   "id": "f71789f6",
   "metadata": {},
   "outputs": [
    {
     "name": "stdout",
     "output_type": "stream",
     "text": [
      "Help on built-in function casefold:\n",
      "\n",
      "casefold() method of builtins.str instance\n",
      "    Return a version of the string suitable for caseless comparisons.\n",
      "\n"
     ]
    }
   ],
   "source": [
    "help(x.casefold)"
   ]
  },
  {
   "cell_type": "code",
   "execution_count": 17,
   "id": "892a2f52",
   "metadata": {},
   "outputs": [
    {
     "data": {
      "text/plain": [
       "'ss'"
      ]
     },
     "execution_count": 17,
     "metadata": {},
     "output_type": "execute_result"
    }
   ],
   "source": [
    "x = 'ß'\n",
    "x.casefold()"
   ]
  },
  {
   "cell_type": "markdown",
   "id": "6e795609",
   "metadata": {},
   "source": [
    "### Take a two strings of your choice\n",
    "\n",
    "   #### 1) Reverse one string\n",
    "   \n",
    "      - it begins with index -1 to -n , where n is length of string\n",
    "\n",
    "      - negitive indexing moves from right to left.\n",
    "   \n",
    "  "
   ]
  },
  {
   "cell_type": "code",
   "execution_count": 18,
   "id": "d81b0bc9",
   "metadata": {},
   "outputs": [
    {
     "data": {
      "text/plain": [
       "'dlroW'"
      ]
     },
     "execution_count": 18,
     "metadata": {},
     "output_type": "execute_result"
    }
   ],
   "source": [
    "   a = 'Hello'\n",
    "   b = 'World'\n",
    "   b = b[::-1]\n",
    "   b"
   ]
  },
  {
   "cell_type": "markdown",
   "id": "ff67ac6d",
   "metadata": {},
   "source": [
    "####  2) Concatenate these two strings\n",
    "    \n",
    "     -  string concatenation is the operation of joining character strings end-to-end."
   ]
  },
  {
   "cell_type": "code",
   "execution_count": 1,
   "id": "12074a7f",
   "metadata": {},
   "outputs": [
    {
     "data": {
      "text/plain": [
       "'HelloWorld'"
      ]
     },
     "execution_count": 1,
     "metadata": {},
     "output_type": "execute_result"
    }
   ],
   "source": [
    "     a = 'Hello'\n",
    "     b =  'World'\n",
    "     c = a + b\n",
    "     c\n"
   ]
  },
  {
   "cell_type": "markdown",
   "id": "f6c4ce4d",
   "metadata": {},
   "source": [
    "####  3) Get the alternate chars of the concatenate string in reverse order.\n",
    "\n",
    "     - first, we take the two strings then, we add the strings by using concatination operation and assign these value to new          variable these variable will reverse the string by using reverse operation, and to get alternative values to that string        we use step_size value as -2 then we get the required alternate chars of the concatenate string in reverse order."
   ]
  },
  {
   "cell_type": "code",
   "execution_count": 23,
   "id": "664c4ff3",
   "metadata": {},
   "outputs": [
    {
     "data": {
      "text/plain": [
       "'drWle'"
      ]
     },
     "execution_count": 23,
     "metadata": {},
     "output_type": "execute_result"
    }
   ],
   "source": [
    "a = 'Hello'\n",
    "b = 'World'\n",
    "c = a + b\n",
    "c = c[::-2]\n",
    "c"
   ]
  },
  {
   "cell_type": "markdown",
   "id": "dc40735b",
   "metadata": {},
   "source": [
    "# 19th oct 23"
   ]
  },
  {
   "cell_type": "markdown",
   "id": "fb68aa09",
   "metadata": {},
   "source": [
    "# find()\n",
    "\n",
    " \n",
    "-  The find() method finds the first occurrence of the specified value.\n",
    "\n",
    "-  The find() method returns -1 if the value is not found.\n",
    "\n",
    "-  The find() method is almost the same as the index() method, the only difference is that the index() method raises an            exception if the value is not found. (See example below)\n",
    "\n",
    "## Syntax\n",
    "\n",
    "string.find(value, start, end)\n",
    "\n",
    "## Parameters\n",
    "\n",
    "\n",
    "##### Parameter\t       Description\n",
    "\n",
    "- value\t           The value to search for (Required)\n",
    "- start\t           Where to start the search. Default is 0 (Optional)\n",
    "- end\t           Where to end the search. Default is to the end of the string (Optional)"
   ]
  },
  {
   "cell_type": "code",
   "execution_count": 24,
   "id": "7cf2d64d",
   "metadata": {},
   "outputs": [
    {
     "name": "stdout",
     "output_type": "stream",
     "text": [
      "Help on built-in function find:\n",
      "\n",
      "find(...) method of builtins.str instance\n",
      "    S.find(sub[, start[, end]]) -> int\n",
      "    \n",
      "    Return the lowest index in S where substring sub is found,\n",
      "    such that sub is contained within S[start:end].  Optional\n",
      "    arguments start and end are interpreted as in slice notation.\n",
      "    \n",
      "    Return -1 on failure.\n",
      "\n"
     ]
    }
   ],
   "source": [
    "help(x.find)"
   ]
  },
  {
   "cell_type": "code",
   "execution_count": 2,
   "id": "8a0effae",
   "metadata": {
    "scrolled": true
   },
   "outputs": [
    {
     "data": {
      "text/plain": [
       "\"Peter Piper picked a peck of pickled peppers A peck of pickled peppers Peter Piper picked.\\n      If Peter Piper picked a peck of pickled peppers Where's the peck of pickled peppers Peter Piper picked?\""
      ]
     },
     "execution_count": 2,
     "metadata": {},
     "output_type": "execute_result"
    }
   ],
   "source": [
    "xl = '''Peter Piper picked a peck of pickled peppers A peck of pickled peppers Peter Piper picked.\n",
    "      If Peter Piper picked a peck of pickled peppers Where's the peck of pickled peppers Peter Piper picked?'''\n",
    "xl\n"
   ]
  },
  {
   "cell_type": "code",
   "execution_count": 15,
   "id": "92fff044",
   "metadata": {},
   "outputs": [
    {
     "data": {
      "text/plain": [
       "19"
      ]
     },
     "execution_count": 15,
     "metadata": {},
     "output_type": "execute_result"
    }
   ],
   "source": [
    "xl.find('a') # finding 'a' indexing in 19th position"
   ]
  },
  {
   "cell_type": "code",
   "execution_count": 16,
   "id": "0f43995d",
   "metadata": {},
   "outputs": [
    {
     "data": {
      "text/plain": [
       "113"
      ]
     },
     "execution_count": 16,
     "metadata": {},
     "output_type": "execute_result"
    }
   ],
   "source": [
    "xl. find('a', 20) # from index position 20 finds next 'a' in entire string."
   ]
  },
  {
   "cell_type": "code",
   "execution_count": 5,
   "id": "6fb53d5a",
   "metadata": {},
   "outputs": [
    {
     "data": {
      "text/plain": [
       "-1"
      ]
     },
     "execution_count": 5,
     "metadata": {},
     "output_type": "execute_result"
    }
   ],
   "source": [
    "xl. find('a', 0, 10) # starting index is 0 and if the value is not find by default it shows -1 from range given between  0 to 10\n",
    "                       we do not find alphabet 'a'"
   ]
  },
  {
   "cell_type": "markdown",
   "id": "bab60024",
   "metadata": {},
   "source": [
    "## Count()\n",
    "\n",
    "- The count() method returns the number of times a specified value appears in the string.\n",
    "\n",
    "### Syntax\n",
    "\n",
    "- string.count(value, start, end)\n",
    "\n",
    "### Parameters\n",
    "\n",
    "#### Parameter       Description\n",
    "\n",
    "- value\t           A String. The string to value to search for (Required)\n",
    "- start\t           An Integer. The position to start the search,Default is 0 (Optional)\n",
    "- end\t           An Integer. The position to end the search,Default is the end of the string (Optional)"
   ]
  },
  {
   "cell_type": "code",
   "execution_count": 25,
   "id": "ac77fb81",
   "metadata": {},
   "outputs": [
    {
     "name": "stdout",
     "output_type": "stream",
     "text": [
      "Help on built-in function count:\n",
      "\n",
      "count(...) method of builtins.str instance\n",
      "    S.count(sub[, start[, end]]) -> int\n",
      "    \n",
      "    Return the number of non-overlapping occurrences of substring sub in\n",
      "    string S[start:end].  Optional arguments start and end are\n",
      "    interpreted as in slice notation.\n",
      "\n"
     ]
    }
   ],
   "source": [
    "help(x.count)"
   ]
  },
  {
   "cell_type": "code",
   "execution_count": 27,
   "id": "37b18c85",
   "metadata": {},
   "outputs": [
    {
     "data": {
      "text/plain": [
       "4"
      ]
     },
     "execution_count": 27,
     "metadata": {},
     "output_type": "execute_result"
    }
   ],
   "source": [
    "xl = '''Peter Piper picked a peck of pickled peppers A peck of pickled peppers Peter Piper picked.\n",
    "      If Peter Piper picked a peck of pickled peppers Where's the peck of pickled peppers Peter Piper picked?'''\n",
    "\n",
    "xl.count('Peter') # Returns the count of specified value in entire string"
   ]
  },
  {
   "cell_type": "code",
   "execution_count": 7,
   "id": "985a0361",
   "metadata": {},
   "outputs": [
    {
     "data": {
      "text/plain": [
       "28"
      ]
     },
     "execution_count": 7,
     "metadata": {},
     "output_type": "execute_result"
    }
   ],
   "source": [
    "xl.count('p') # Displays the count of  alphabet 'p' in entire string"
   ]
  },
  {
   "cell_type": "code",
   "execution_count": 28,
   "id": "0ddb9954",
   "metadata": {},
   "outputs": [
    {
     "name": "stdout",
     "output_type": "stream",
     "text": [
      "1\n"
     ]
    }
   ],
   "source": [
    "# Search from position 10 to 24:\n",
    "\n",
    "y = \"I love apples, apple are my favorite fruit\"\n",
    "\n",
    "x = y.count(\"apple\", 10, 24)\n",
    "\n",
    "print(x)"
   ]
  },
  {
   "cell_type": "markdown",
   "id": "3d115149",
   "metadata": {},
   "source": [
    "## help()\n",
    "\n",
    "- The Python help function is used to display the documentation of modules, functions, classes, keywords, etc. \n",
    "\n",
    "### Syntax\n",
    "\n",
    "- help([object])"
   ]
  },
  {
   "cell_type": "code",
   "execution_count": 8,
   "id": "88fb7bbf",
   "metadata": {},
   "outputs": [
    {
     "name": "stdout",
     "output_type": "stream",
     "text": [
      "Help on built-in function count:\n",
      "\n",
      "count(...) method of builtins.str instance\n",
      "    S.count(sub[, start[, end]]) -> int\n",
      "    \n",
      "    Return the number of non-overlapping occurrences of substring sub in\n",
      "    string S[start:end].  Optional arguments start and end are\n",
      "    interpreted as in slice notation.\n",
      "\n"
     ]
    }
   ],
   "source": [
    "help(xl.count)"
   ]
  },
  {
   "cell_type": "markdown",
   "id": "d124f417",
   "metadata": {},
   "source": [
    "# rfind()\n",
    "\n",
    "- The rfind() method finds the last occurrence of the specified value.\n",
    "\n",
    "- The rfind() method returns -1 if the value is not found.\n",
    "\n",
    "### Syntax\n",
    "\n",
    "- string.rfind(value, start, end)\n",
    "\n",
    "### Parameters\n",
    "\n",
    "##### Parameter      \tDescription\n",
    "\n",
    "- value\t           The value to search for (Required)\n",
    "- start\t           Where to start the search,Default is 0 (Optional)\n",
    "- end\t           Where to end the search, Default is to the end of the string (Optional)"
   ]
  },
  {
   "cell_type": "code",
   "execution_count": 9,
   "id": "fa5030d8",
   "metadata": {},
   "outputs": [
    {
     "name": "stdout",
     "output_type": "stream",
     "text": [
      "Help on method_descriptor:\n",
      "\n",
      "rfind(...)\n",
      "    S.rfind(sub[, start[, end]]) -> int\n",
      "    \n",
      "    Return the highest index in S where substring sub is found,\n",
      "    such that sub is contained within S[start:end].  Optional\n",
      "    arguments start and end are interpreted as in slice notation.\n",
      "    \n",
      "    Return -1 on failure.\n",
      "\n"
     ]
    }
   ],
   "source": [
    "help(str.rfind)"
   ]
  },
  {
   "cell_type": "code",
   "execution_count": 2,
   "id": "92d84ea2",
   "metadata": {},
   "outputs": [
    {
     "name": "stdout",
     "output_type": "stream",
     "text": [
      "Peter Piper picked a peck of pickled peppers A peck of pickled peppers Peter Piper picked.\n",
      "      If Peter Piper picked a peck of pickled peppers Where's the peck of pickled peppers Peter Piper picked?\n"
     ]
    }
   ],
   "source": [
    "xl = '''Peter Piper picked a peck of pickled peppers A peck of pickled peppers Peter Piper picked.\n",
    "      If Peter Piper picked a peck of pickled peppers Where's the peck of pickled peppers Peter Piper picked?'''\n",
    "print(xl)"
   ]
  },
  {
   "cell_type": "code",
   "execution_count": 14,
   "id": "3443ab18",
   "metadata": {},
   "outputs": [
    {
     "data": {
      "text/plain": [
       "119"
      ]
     },
     "execution_count": 14,
     "metadata": {},
     "output_type": "execute_result"
    }
   ],
   "source": [
    "xl.rfind('a') # finds entire string from right to left and display 'a' in which position it is"
   ]
  },
  {
   "cell_type": "code",
   "execution_count": 17,
   "id": "0ffec0fe",
   "metadata": {},
   "outputs": [
    {
     "data": {
      "text/plain": [
       "113"
      ]
     },
     "execution_count": 17,
     "metadata": {},
     "output_type": "execute_result"
    }
   ],
   "source": [
    "xl.rfind('a', 12, 140) # finds entire string from right to left  finds from 12th position to 140th position where 'a' is present"
   ]
  },
  {
   "cell_type": "code",
   "execution_count": 35,
   "id": "c7a97dce",
   "metadata": {},
   "outputs": [
    {
     "data": {
      "text/plain": [
       "7"
      ]
     },
     "execution_count": 35,
     "metadata": {},
     "output_type": "execute_result"
    }
   ],
   "source": [
    "'malayalam'.rfind('a', 2) # search entire string for alphabet 'a' from right to left postive indexing from right to left\n",
    "                             but counting right to left"
   ]
  },
  {
   "cell_type": "code",
   "execution_count": 37,
   "id": "07627c05",
   "metadata": {},
   "outputs": [
    {
     "data": {
      "text/plain": [
       "5"
      ]
     },
     "execution_count": 37,
     "metadata": {},
     "output_type": "execute_result"
    }
   ],
   "source": [
    "'malayalam'.rfind('a',2,7) # search entire string for alphabet 'a' from right to left from 2nd postion to 7th position "
   ]
  },
  {
   "cell_type": "markdown",
   "id": "d75da695",
   "metadata": {},
   "source": [
    "## index()\n",
    "\n",
    "- The index() method finds the first occurrence of the specified value.\n",
    "\n",
    "- The index() method raises an exception if the value is not found.\n",
    "\n",
    "- The index() method is almost the same as the find() method, the only difference is that the find() method returns -1 if the     value is not found.\n",
    "\n",
    "### Syntax\n",
    "\n",
    "- string.index(value, start, end)\n",
    "\n",
    "### Parameter Values\n",
    "\n",
    "#### Parameter\t      Description\n",
    "\n",
    "- value\t           The value to search for\n",
    "- start\t           Where to start the search,Default is 0\n",
    "- end\t           Where to end the search,Default is to the end of the string\n",
    "\n"
   ]
  },
  {
   "cell_type": "code",
   "execution_count": 30,
   "id": "0f7021a7",
   "metadata": {},
   "outputs": [
    {
     "name": "stdout",
     "output_type": "stream",
     "text": [
      "Help on built-in function index:\n",
      "\n",
      "index(...) method of builtins.str instance\n",
      "    S.index(sub[, start[, end]]) -> int\n",
      "    \n",
      "    Return the lowest index in S where substring sub is found,\n",
      "    such that sub is contained within S[start:end].  Optional\n",
      "    arguments start and end are interpreted as in slice notation.\n",
      "    \n",
      "    Raises ValueError when the substring is not found.\n",
      "\n"
     ]
    }
   ],
   "source": [
    "x = 'python'\n",
    "help(x.index)"
   ]
  },
  {
   "cell_type": "code",
   "execution_count": 40,
   "id": "14a763e7",
   "metadata": {},
   "outputs": [
    {
     "data": {
      "text/plain": [
       "(1, 1)"
      ]
     },
     "execution_count": 40,
     "metadata": {},
     "output_type": "execute_result"
    }
   ],
   "source": [
    "m = 'malayalam'          # finds alphabet 'a' in entire string and index of 'a' left to right\n",
    "m.find('a'),m.index('a')"
   ]
  },
  {
   "cell_type": "code",
   "execution_count": 44,
   "id": "e2cafd57",
   "metadata": {},
   "outputs": [
    {
     "data": {
      "text/plain": [
       "-1"
      ]
     },
     "execution_count": 44,
     "metadata": {},
     "output_type": "execute_result"
    }
   ],
   "source": [
    "m.find('z') ## gives -1 as value because there is no alphabet \"z\" in string"
   ]
  },
  {
   "cell_type": "code",
   "execution_count": 46,
   "id": "df57a6d1",
   "metadata": {},
   "outputs": [
    {
     "ename": "ValueError",
     "evalue": "substring not found",
     "output_type": "error",
     "traceback": [
      "\u001b[1;31m---------------------------------------------------------------------------\u001b[0m",
      "\u001b[1;31mValueError\u001b[0m                                Traceback (most recent call last)",
      "Cell \u001b[1;32mIn[46], line 1\u001b[0m\n\u001b[1;32m----> 1\u001b[0m m\u001b[38;5;241m.\u001b[39mindex(\u001b[38;5;124m'\u001b[39m\u001b[38;5;124mz\u001b[39m\u001b[38;5;124m'\u001b[39m)\n",
      "\u001b[1;31mValueError\u001b[0m: substring not found"
     ]
    }
   ],
   "source": [
    "m.index('z') ## throws an error value error if there is no alphabet \"z\" in string(# uncomment to see the error)"
   ]
  },
  {
   "cell_type": "markdown",
   "id": "6ea04914",
   "metadata": {},
   "source": [
    "### rindex()\n",
    "\n",
    "- The rindex() method finds the last occurrence of the specified value.\n",
    "\n",
    "- The rindex() method raises an exception if the value is not found.\n",
    "\n",
    "- The rindex() method is almost the same as the rfind() method.\n",
    "\n",
    "### Syntax:  \n",
    "\n",
    "- str.rindex(sub, start, end)\n",
    "\n",
    "#### Parameters: \n",
    "\n",
    "- sub   : It’s the substring which needs to be searched in the given string.\n",
    "- start : Starting position where sub is needs to be checked within the string.\n",
    "- end   : Ending position where suffix is needs to be checked within the string.\n",
    "- Return: Returns the highest index of the substring inside the string if substring is found. Otherwise it raises an exception."
   ]
  },
  {
   "cell_type": "code",
   "execution_count": 31,
   "id": "b45584c6",
   "metadata": {},
   "outputs": [
    {
     "name": "stdout",
     "output_type": "stream",
     "text": [
      "Help on built-in function rindex:\n",
      "\n",
      "rindex(...) method of builtins.str instance\n",
      "    S.rindex(sub[, start[, end]]) -> int\n",
      "    \n",
      "    Return the highest index in S where substring sub is found,\n",
      "    such that sub is contained within S[start:end].  Optional\n",
      "    arguments start and end are interpreted as in slice notation.\n",
      "    \n",
      "    Raises ValueError when the substring is not found.\n",
      "\n"
     ]
    }
   ],
   "source": [
    "help(x.rindex)"
   ]
  },
  {
   "cell_type": "code",
   "execution_count": 14,
   "id": "c931ea6c",
   "metadata": {},
   "outputs": [
    {
     "data": {
      "text/plain": [
       "7"
      ]
     },
     "execution_count": 14,
     "metadata": {},
     "output_type": "execute_result"
    }
   ],
   "source": [
    "m = 'malayalam' # search entire string for alphabet 'a' from right to left but indexing is left to right\n",
    "m.rindex('a')"
   ]
  },
  {
   "cell_type": "code",
   "execution_count": 50,
   "id": "e42bfff5",
   "metadata": {},
   "outputs": [],
   "source": [
    "#m.rindex('z') #(uncomment to see the error)"
   ]
  },
  {
   "cell_type": "code",
   "execution_count": 34,
   "id": "f08d0e43",
   "metadata": {},
   "outputs": [
    {
     "name": "stdout",
     "output_type": "stream",
     "text": [
      "0\n",
      "0\n",
      "5\n"
     ]
    }
   ],
   "source": [
    "# Python String rindex() Method with start or end index\n",
    "\n",
    "# If we provide the start and end value to check inside a string, Python String rindex() will search only inside that range. \n",
    "\n",
    "string = \"ring ring\"\n",
    " \n",
    "# checks for the substring in the range 0-4 of the string\n",
    "print(string.rindex(\"ring\", 0, 4))\n",
    " \n",
    "# same as using 0 & 4 as start, end value\n",
    "print(string.rindex(\"ring\", 0, -5))\n",
    " \n",
    "string = \"101001010\"\n",
    "# since there are no '101' substring after string[0:3]\n",
    "# thus it will take the last occurrence of '101'\n",
    "\n",
    "print(string.rindex('101', 2))"
   ]
  },
  {
   "cell_type": "code",
   "execution_count": 35,
   "id": "ad59ce1d",
   "metadata": {},
   "outputs": [
    {
     "name": "stdout",
     "output_type": "stream",
     "text": [
      "5\n",
      "2\n"
     ]
    }
   ],
   "source": [
    "# Python String rindex() Method without start and end index\n",
    "\n",
    "string = \"ring ring\"\n",
    " \n",
    "# search for the substring,\n",
    "# from right in the whole string\n",
    "print(string.rindex(\"ring\"))\n",
    " \n",
    "string = \"geeks\"\n",
    "# this will return the right-most 'e'\n",
    "print(string.rindex('e'))"
   ]
  },
  {
   "cell_type": "markdown",
   "id": "828f1134",
   "metadata": {},
   "source": [
    "## replace() \n",
    "\n",
    "- The replace() method replaces a specified phrase with another specified phrase.\n",
    "\n",
    "- All occurrences of the specified phrase will be replaced, if nothing else is specified.\n",
    "\n",
    "### Syntax\n",
    "\n",
    "- string.replace(oldvalue, newvalue, count)\n",
    "\n",
    "#### Parameter Values\n",
    "\n",
    "- Parameter\t  Description\n",
    "\n",
    "- oldvalue\t The string to search for (Required)\n",
    "- newvalue\t The string to replace the old value with (Required)\n",
    "- count\t     A number specifying how many occurrences of the old value you want to replace. Default is all occurrences(Optional)"
   ]
  },
  {
   "cell_type": "code",
   "execution_count": 53,
   "id": "4e0e9b7a",
   "metadata": {},
   "outputs": [
    {
     "name": "stdout",
     "output_type": "stream",
     "text": [
      "Help on built-in function replace:\n",
      "\n",
      "replace(old, new, count=-1, /) method of builtins.str instance\n",
      "    Return a copy with all occurrences of substring old replaced by new.\n",
      "    \n",
      "      count\n",
      "        Maximum number of occurrences to replace.\n",
      "        -1 (the default value) means replace all occurrences.\n",
      "    \n",
      "    If the optional argument count is given, only the first count occurrences are\n",
      "    replaced.\n",
      "\n"
     ]
    }
   ],
   "source": [
    "help(m.replace)"
   ]
  },
  {
   "cell_type": "code",
   "execution_count": 55,
   "id": "c4e9d8fd",
   "metadata": {},
   "outputs": [
    {
     "data": {
      "text/plain": [
       "'MalayalaM'"
      ]
     },
     "execution_count": 55,
     "metadata": {},
     "output_type": "execute_result"
    }
   ],
   "source": [
    "m.replace('m', 'M') #  replace  'm' from entire string to 'M'"
   ]
  },
  {
   "cell_type": "code",
   "execution_count": 23,
   "id": "31694200",
   "metadata": {},
   "outputs": [
    {
     "data": {
      "text/plain": [
       "'mAlAyAlam'"
      ]
     },
     "execution_count": 23,
     "metadata": {},
     "output_type": "execute_result"
    }
   ],
   "source": [
    "m.replace('a', 'A', 3) # replace 'a' to 'A' (for 3 'a')"
   ]
  },
  {
   "cell_type": "code",
   "execution_count": 59,
   "id": "636e59c4",
   "metadata": {},
   "outputs": [
    {
     "data": {
      "text/plain": [
       "'mAlAyAlAm'"
      ]
     },
     "execution_count": 59,
     "metadata": {},
     "output_type": "execute_result"
    }
   ],
   "source": [
    "m.replace('a', 'A', 5)  # replace 'a' to 'A' (for 5 'a')"
   ]
  },
  {
   "cell_type": "markdown",
   "id": "c4daf858",
   "metadata": {},
   "source": [
    "### split()\n",
    "\n",
    "- The split() method splits a string into a list.\n",
    "\n",
    "- You can specify the separator, default separator is any whitespace.\n",
    "\n",
    "- When maxsplit is specified, the list will contain the specified number of elements plus one.\n",
    "\n",
    "### Syntax\n",
    "\n",
    "- string.split(separator, maxsplit)\n",
    "\n",
    "### Parameter Values\n",
    "\n",
    "#### Description\n",
    "\n",
    "- separator\t Specifies the separator to use when splitting the string. By default any whitespace is a separator (Optional)\n",
    "- maxsplit\t Specifies how many splits to do. Default value is -1, which is \"all occurrences\"(Optional)"
   ]
  },
  {
   "cell_type": "code",
   "execution_count": 36,
   "id": "9111ed29",
   "metadata": {},
   "outputs": [
    {
     "name": "stdout",
     "output_type": "stream",
     "text": [
      "Help on built-in function split:\n",
      "\n",
      "split(sep=None, maxsplit=-1) method of builtins.str instance\n",
      "    Return a list of the substrings in the string, using sep as the separator string.\n",
      "    \n",
      "      sep\n",
      "        The separator used to split the string.\n",
      "    \n",
      "        When set to None (the default value), will split on any whitespace\n",
      "        character (including \\\\n \\\\r \\\\t \\\\f and spaces) and will discard\n",
      "        empty strings from the result.\n",
      "      maxsplit\n",
      "        Maximum number of splits (starting from the left).\n",
      "        -1 (the default value) means no limit.\n",
      "    \n",
      "    Note, str.split() is mainly useful for data that has been intentionally\n",
      "    delimited.  With natural text that includes punctuation, consider using\n",
      "    the regular expression module.\n",
      "\n"
     ]
    }
   ],
   "source": [
    "help(x.split)"
   ]
  },
  {
   "cell_type": "code",
   "execution_count": 10,
   "id": "2342390d",
   "metadata": {},
   "outputs": [
    {
     "data": {
      "text/plain": [
       "\"Peter Piper picked a peck of pickled peppers\\nA peck of pickled peppers Peter Piper picked.\\nIf Peter Piper picked a peck of pickled peppers,\\nWhere's the peck of pickled peppers Peter Piper picked?\""
      ]
     },
     "execution_count": 10,
     "metadata": {},
     "output_type": "execute_result"
    }
   ],
   "source": [
    "xl = '''Peter Piper picked a peck of pickled peppers\n",
    "A peck of pickled peppers Peter Piper picked.\n",
    "If Peter Piper picked a peck of pickled peppers,\n",
    "Where's the peck of pickled peppers Peter Piper picked?'''\n",
    "xl\n"
   ]
  },
  {
   "cell_type": "code",
   "execution_count": 66,
   "id": "c8ed35f9",
   "metadata": {},
   "outputs": [
    {
     "data": {
      "text/plain": [
       "['Peter',\n",
       " 'Piper',\n",
       " 'picked',\n",
       " 'a',\n",
       " 'peck',\n",
       " 'of',\n",
       " 'pickled',\n",
       " 'peppers',\n",
       " 'A',\n",
       " 'peck',\n",
       " 'of',\n",
       " 'pickled',\n",
       " 'peppers',\n",
       " 'Peter',\n",
       " 'Piper',\n",
       " 'picked.',\n",
       " 'If',\n",
       " 'Peter',\n",
       " 'Piper',\n",
       " 'picked',\n",
       " 'a',\n",
       " 'peck',\n",
       " 'of',\n",
       " 'pickled',\n",
       " 'peppers',\n",
       " \"Where's\",\n",
       " 'the',\n",
       " 'peck',\n",
       " 'of',\n",
       " 'pickled',\n",
       " 'peppers',\n",
       " 'Peter',\n",
       " 'Piper',\n",
       " 'picked?']"
      ]
     },
     "execution_count": 66,
     "metadata": {},
     "output_type": "execute_result"
    }
   ],
   "source": [
    "xl.split()"
   ]
  },
  {
   "cell_type": "code",
   "execution_count": 69,
   "id": "206b26e1",
   "metadata": {},
   "outputs": [
    {
     "name": "stdout",
     "output_type": "stream",
     "text": [
      "Help on built-in function split:\n",
      "\n",
      "split(sep=None, maxsplit=-1) method of builtins.str instance\n",
      "    Return a list of the substrings in the string, using sep as the separator string.\n",
      "    \n",
      "      sep\n",
      "        The separator used to split the string.\n",
      "    \n",
      "        When set to None (the default value), will split on any whitespace\n",
      "        character (including \\\\n \\\\r \\\\t \\\\f and spaces) and will discard\n",
      "        empty strings from the result.\n",
      "      maxsplit\n",
      "        Maximum number of splits (starting from the left).\n",
      "        -1 (the default value) means no limit.\n",
      "    \n",
      "    Note, str.split() is mainly useful for data that has been intentionally\n",
      "    delimited.  With natural text that includes punctuation, consider using\n",
      "    the regular expression module.\n",
      "\n"
     ]
    }
   ],
   "source": [
    "help(xl.split)"
   ]
  },
  {
   "cell_type": "code",
   "execution_count": 71,
   "id": "1e7d6080",
   "metadata": {},
   "outputs": [
    {
     "data": {
      "text/plain": [
       "['Peter',\n",
       " 'Piper',\n",
       " 'picked',\n",
       " \"a peck of pickled peppers A peck of pickled peppers Peter Piper picked.\\n      If Peter Piper picked a peck of pickled peppers Where's the peck of pickled peppers Peter Piper picked?\"]"
      ]
     },
     "execution_count": 71,
     "metadata": {},
     "output_type": "execute_result"
    }
   ],
   "source": [
    "xl.split(' ', maxsplit = 3) # splits  only 3 words from entire string"
   ]
  },
  {
   "cell_type": "code",
   "execution_count": 18,
   "id": "cb662775",
   "metadata": {},
   "outputs": [
    {
     "data": {
      "text/plain": [
       "['Peter',\n",
       " 'Piper',\n",
       " 'picked',\n",
       " 'a',\n",
       " \"peck of pickled peppers A peck of pickled peppers Peter Piper picked.\\n      If Peter Piper picked a peck of pickled peppers Where's the peck of pickled peppers Peter Piper picked?\"]"
      ]
     },
     "execution_count": 18,
     "metadata": {},
     "output_type": "execute_result"
    }
   ],
   "source": [
    "xl.split(maxsplit=4) ## split() split spaces from start( left to right) # 4 words"
   ]
  },
  {
   "cell_type": "code",
   "execution_count": 73,
   "id": "9dfd9a72",
   "metadata": {},
   "outputs": [
    {
     "data": {
      "text/plain": [
       "True"
      ]
     },
     "execution_count": 73,
     "metadata": {},
     "output_type": "execute_result"
    }
   ],
   "source": [
    "'rsplit' in dir(str)"
   ]
  },
  {
   "cell_type": "markdown",
   "id": "1cc88b78",
   "metadata": {},
   "source": [
    "### rsplit()\n",
    "\n",
    "- The rsplit() method splits a string into a list, starting from the right.\n",
    "\n",
    "- If no \"max\" is specified, this method will return the same as the split() method.\n",
    "\n",
    "### Syntax:  \n",
    "\n",
    "- str.rsplit(separator, maxsplit)\n",
    "\n",
    "#### Parameters:  \n",
    "\n",
    "- separator: The is a delimiter.The string splits at this specified separator starting from the right side. If not provided then              any white space character is a separator.\n",
    "- maxsplit: It is a number, which tells us to split the string into a maximum of provided number of times. If it is not provided             then there is no limit.  \n",
    "- Return:   Returns a list of strings after breaking the given string from the right side by the specified separator."
   ]
  },
  {
   "cell_type": "code",
   "execution_count": 37,
   "id": "5f8d125c",
   "metadata": {},
   "outputs": [
    {
     "name": "stdout",
     "output_type": "stream",
     "text": [
      "Help on built-in function rsplit:\n",
      "\n",
      "rsplit(sep=None, maxsplit=-1) method of builtins.str instance\n",
      "    Return a list of the substrings in the string, using sep as the separator string.\n",
      "    \n",
      "      sep\n",
      "        The separator used to split the string.\n",
      "    \n",
      "        When set to None (the default value), will split on any whitespace\n",
      "        character (including \\\\n \\\\r \\\\t \\\\f and spaces) and will discard\n",
      "        empty strings from the result.\n",
      "      maxsplit\n",
      "        Maximum number of splits (starting from the left).\n",
      "        -1 (the default value) means no limit.\n",
      "    \n",
      "    Splitting starts at the end of the string and works to the front.\n",
      "\n"
     ]
    }
   ],
   "source": [
    "help(x.rsplit)"
   ]
  },
  {
   "cell_type": "code",
   "execution_count": 24,
   "id": "1dbaf11c",
   "metadata": {},
   "outputs": [
    {
     "data": {
      "text/plain": [
       "[\"Peter Piper picked a peck of pickled peppers\\nA peck of pickled peppers Peter Piper picked.\\nIf Peter Piper picked a peck of pickled peppers,\\nWhere's the peck of pickled peppers Peter Piper picked?\"]"
      ]
     },
     "execution_count": 24,
     "metadata": {},
     "output_type": "execute_result"
    }
   ],
   "source": [
    "xl.rsplit('4') # splits a string from right  "
   ]
  },
  {
   "cell_type": "code",
   "execution_count": 78,
   "id": "cf6d44a4",
   "metadata": {},
   "outputs": [
    {
     "data": {
      "text/plain": [
       "[\"Peter Piper picked a peck of pickled peppers A peck of pickled peppers Peter Piper picked.\\n      If Peter Piper picked a peck of pickled peppers Where's the peck of pickled\",\n",
       " 'peppers',\n",
       " 'Peter',\n",
       " 'Piper',\n",
       " 'picked?']"
      ]
     },
     "execution_count": 78,
     "metadata": {},
     "output_type": "execute_result"
    }
   ],
   "source": [
    "xl.rsplit(maxsplit=4) ## rsplit split the spaces from end(right to left) last 4 words"
   ]
  },
  {
   "cell_type": "code",
   "execution_count": 20,
   "id": "1fa98389",
   "metadata": {},
   "outputs": [
    {
     "data": {
      "text/plain": [
       "['how', 'are', 'you ?']"
      ]
     },
     "execution_count": 20,
     "metadata": {},
     "output_type": "execute_result"
    }
   ],
   "source": [
    "'how are you ?' .split(maxsplit = 2)"
   ]
  },
  {
   "cell_type": "code",
   "execution_count": 21,
   "id": "51c49543",
   "metadata": {},
   "outputs": [
    {
     "data": {
      "text/plain": [
       "['how are', 'you', '?']"
      ]
     },
     "execution_count": 21,
     "metadata": {},
     "output_type": "execute_result"
    }
   ],
   "source": [
    "'how are  you ?' .rsplit(maxsplit = 2)"
   ]
  },
  {
   "cell_type": "markdown",
   "id": "7da25c49",
   "metadata": {},
   "source": [
    "## partition() - gives exactly 3 tokens or 3 sub strings\n",
    "\n",
    "- The partition() method searches for a specified string, and splits the string into a tuple containing three elements.\n",
    "\n",
    "- The first element contains the part before the specified string.\n",
    "\n",
    "- The second element contains the specified string.\n",
    "\n",
    "- The third element contains the part after the string.\n",
    "\n",
    "-  This method searches for the first occurrence of the specified string.\n",
    "\n",
    "### Syntax\n",
    "\n",
    "string.partition(value)\n",
    "\n",
    "#### Parameter \t       Description\n",
    "\n",
    "-    value\t        The string to search for (Required)\n",
    "\n"
   ]
  },
  {
   "cell_type": "code",
   "execution_count": 38,
   "id": "38567286",
   "metadata": {},
   "outputs": [
    {
     "name": "stdout",
     "output_type": "stream",
     "text": [
      "Help on built-in function partition:\n",
      "\n",
      "partition(sep, /) method of builtins.str instance\n",
      "    Partition the string into three parts using the given separator.\n",
      "    \n",
      "    This will search for the separator in the string.  If the separator is found,\n",
      "    returns a 3-tuple containing the part before the separator, the separator\n",
      "    itself, and the part after it.\n",
      "    \n",
      "    If the separator is not found, returns a 3-tuple containing the original string\n",
      "    and two empty strings.\n",
      "\n"
     ]
    }
   ],
   "source": [
    "help(x.partition)"
   ]
  },
  {
   "cell_type": "code",
   "execution_count": 23,
   "id": "bb9116f4",
   "metadata": {},
   "outputs": [
    {
     "data": {
      "text/plain": [
       "('Peter',\n",
       " ' ',\n",
       " \"Piper picked a peck of pickled peppers A peck of pickled peppers Peter Piper picked.\\n      If Peter Piper picked a peck of pickled peppers Where's the peck of pickled peppers Peter Piper picked?\")"
      ]
     },
     "execution_count": 23,
     "metadata": {},
     "output_type": "execute_result"
    }
   ],
   "source": [
    "xl.partition(' ') # 3 values or  sub-strings"
   ]
  },
  {
   "cell_type": "code",
   "execution_count": 85,
   "id": "d1033b6c",
   "metadata": {},
   "outputs": [
    {
     "data": {
      "text/plain": [
       "['m', 'l', 'y', 'l', 'm']"
      ]
     },
     "execution_count": 85,
     "metadata": {},
     "output_type": "execute_result"
    }
   ],
   "source": [
    "m = 'malayalam' # splits 'a' from entire string\n",
    "m.split('a')"
   ]
  },
  {
   "cell_type": "code",
   "execution_count": 87,
   "id": "2b6ab47a",
   "metadata": {},
   "outputs": [
    {
     "data": {
      "text/plain": [
       "('m', 'a', 'layalam')"
      ]
     },
     "execution_count": 87,
     "metadata": {},
     "output_type": "execute_result"
    }
   ],
   "source": [
    "m.partition('a') # 3 tokens or 3 sub strings"
   ]
  },
  {
   "cell_type": "code",
   "execution_count": 89,
   "id": "3c5742cf",
   "metadata": {},
   "outputs": [
    {
     "data": {
      "text/plain": [
       "(('m', 'a', 'layalam'), ('mala', 'y', 'alam'))"
      ]
     },
     "execution_count": 89,
     "metadata": {},
     "output_type": "execute_result"
    }
   ],
   "source": [
    "m.partition('a'), m.partition('y') # 3 sub strings"
   ]
  },
  {
   "cell_type": "code",
   "execution_count": 91,
   "id": "317255ff",
   "metadata": {},
   "outputs": [
    {
     "data": {
      "text/plain": [
       "['malayalam']"
      ]
     },
     "execution_count": 91,
     "metadata": {},
     "output_type": "execute_result"
    }
   ],
   "source": [
    "m.split('z') # no alphabet z in string but vl print entire string"
   ]
  },
  {
   "cell_type": "code",
   "execution_count": 93,
   "id": "78eb78c0",
   "metadata": {},
   "outputs": [
    {
     "data": {
      "text/plain": [
       "('malayalam', '', '')"
      ]
     },
     "execution_count": 93,
     "metadata": {},
     "output_type": "execute_result"
    }
   ],
   "source": [
    "m.partition('z') # no alphabet z in string as it always has to  write 3 tokens,first token entire string 2nd and 3rd are empty strings"
   ]
  },
  {
   "cell_type": "code",
   "execution_count": 95,
   "id": "2d0caa1d",
   "metadata": {},
   "outputs": [
    {
     "data": {
      "text/plain": [
       "'malayalam'"
      ]
     },
     "execution_count": 95,
     "metadata": {},
     "output_type": "execute_result"
    }
   ],
   "source": [
    "m.partition('z')[0]+m.partition('z')[1]+m.partition('z')[2]"
   ]
  },
  {
   "cell_type": "markdown",
   "id": "9ad76158",
   "metadata": {},
   "source": [
    "## rpartition()\n",
    "\n",
    "- The rpartition() method searches for the last occurrence of a specified string, and splits the string into a tuple containing    three elements.\n",
    "\n",
    "- The first element contains the part before the specified string.\n",
    "\n",
    "- The second element contains the specified string.\n",
    "\n",
    "- The third element contains the part after the string.\n",
    "\n",
    "### Syntax\n",
    "\n",
    "string.rpartition(value)\n",
    "\n",
    "### Parameters\n",
    "\n",
    "#### Parameter\tDescription\n",
    "\n",
    "- value\t        The string to search for (Required)"
   ]
  },
  {
   "cell_type": "code",
   "execution_count": 39,
   "id": "c6e57a00",
   "metadata": {},
   "outputs": [
    {
     "name": "stdout",
     "output_type": "stream",
     "text": [
      "Help on built-in function rpartition:\n",
      "\n",
      "rpartition(sep, /) method of builtins.str instance\n",
      "    Partition the string into three parts using the given separator.\n",
      "    \n",
      "    This will search for the separator in the string, starting at the end. If\n",
      "    the separator is found, returns a 3-tuple containing the part before the\n",
      "    separator, the separator itself, and the part after it.\n",
      "    \n",
      "    If the separator is not found, returns a 3-tuple containing two empty strings\n",
      "    and the original string.\n",
      "\n"
     ]
    }
   ],
   "source": [
    "help(x.rpartition)"
   ]
  },
  {
   "cell_type": "code",
   "execution_count": 97,
   "id": "2ac3dd56",
   "metadata": {},
   "outputs": [
    {
     "data": {
      "text/plain": [
       "('malayal', 'a', 'm')"
      ]
     },
     "execution_count": 97,
     "metadata": {},
     "output_type": "execute_result"
    }
   ],
   "source": [
    "m.rpartition('a') ## 3 tokens  starts partition from right to left"
   ]
  },
  {
   "cell_type": "code",
   "execution_count": 99,
   "id": "b9d59e9c",
   "metadata": {},
   "outputs": [
    {
     "data": {
      "text/plain": [
       "('', '', 'malayalam')"
      ]
     },
     "execution_count": 99,
     "metadata": {},
     "output_type": "execute_result"
    }
   ],
   "source": [
    "m.rpartition('z')## partition from right to left "
   ]
  },
  {
   "cell_type": "markdown",
   "id": "4c3f92ec",
   "metadata": {},
   "source": [
    "## splitlines()\n",
    "\n",
    "- The splitlines() method splits a string into a list. The splitting is done at line breaks.\n",
    "\n",
    "### Syntax\n",
    "\n",
    "- string.splitlines(keeplinebreaks)\n",
    "\n",
    "#### Parameter Values\n",
    "\n",
    "#### Parameter\t  Description\n",
    "\n",
    "keeplinebreaks\t Specifies if the line breaks should be included (True), or not (False).Default value is False (Optional)\n",
    "\n"
   ]
  },
  {
   "cell_type": "code",
   "execution_count": 43,
   "id": "ecb4d5b4",
   "metadata": {},
   "outputs": [
    {
     "name": "stdout",
     "output_type": "stream",
     "text": [
      "Help on built-in function splitlines:\n",
      "\n",
      "splitlines(keepends=False) method of builtins.str instance\n",
      "    Return a list of the lines in the string, breaking at line boundaries.\n",
      "    \n",
      "    Line breaks are not included in the resulting list unless keepends is given and\n",
      "    true.\n",
      "\n"
     ]
    }
   ],
   "source": [
    "\n",
    "help(x.splitlines)"
   ]
  },
  {
   "cell_type": "code",
   "execution_count": 11,
   "id": "10f10127",
   "metadata": {},
   "outputs": [
    {
     "data": {
      "text/plain": [
       "['Peter Piper picked a peck of pickled peppers',\n",
       " 'A peck of pickled peppers Peter Piper picked.',\n",
       " 'If Peter Piper picked a peck of pickled peppers,',\n",
       " \"Where's the peck of pickled peppers Peter Piper picked?\"]"
      ]
     },
     "execution_count": 11,
     "metadata": {},
     "output_type": "execute_result"
    }
   ],
   "source": [
    "xl.split('\\n') # split method splits  a string into a list."
   ]
  },
  {
   "cell_type": "code",
   "execution_count": 12,
   "id": "b338a7f0",
   "metadata": {},
   "outputs": [
    {
     "data": {
      "text/plain": [
       "['Peter Piper picked a peck of pickled peppers',\n",
       " 'A peck of pickled peppers Peter Piper picked.',\n",
       " 'If Peter Piper picked a peck of pickled peppers,',\n",
       " \"Where's the peck of pickled peppers Peter Piper picked?\"]"
      ]
     },
     "execution_count": 12,
     "metadata": {},
     "output_type": "execute_result"
    }
   ],
   "source": [
    "xl.splitlines() "
   ]
  }
 ],
 "metadata": {
  "kernelspec": {
   "display_name": "Python 3 (ipykernel)",
   "language": "python",
   "name": "python3"
  },
  "language_info": {
   "codemirror_mode": {
    "name": "ipython",
    "version": 3
   },
   "file_extension": ".py",
   "mimetype": "text/x-python",
   "name": "python",
   "nbconvert_exporter": "python",
   "pygments_lexer": "ipython3",
   "version": "3.11.5"
  }
 },
 "nbformat": 4,
 "nbformat_minor": 5
}
