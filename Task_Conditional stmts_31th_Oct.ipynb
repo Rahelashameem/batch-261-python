{
 "cells": [
  {
   "cell_type": "code",
   "execution_count": null,
   "id": "e56eb0af",
   "metadata": {},
   "outputs": [],
   "source": [
    "### 1. program to find ages and \"You are an adult\" if the age is 18 or older, otherwise prints \"You are a minor'.\n"
   ]
  },
  {
   "cell_type": "code",
   "execution_count": 1,
   "id": "8c8260dc",
   "metadata": {},
   "outputs": [
    {
     "name": "stdout",
     "output_type": "stream",
     "text": [
      "Enter your age: 25\n",
      "You are an adult\n"
     ]
    }
   ],
   "source": [
    "age = int(input(\"Enter your age: \")) ## Accept integers as input values\n",
    "\n",
    "if age>=18:\n",
    "    \n",
    "    print(\"You are an adult\") # to print adult age should be >18\n",
    "    \n",
    "    \n",
    "else:\n",
    "    print(\"You are a minor\")   # to print minor age should be <18 \n",
    "    "
   ]
  },
  {
   "cell_type": "code",
   "execution_count": 2,
   "id": "bd0a7b7c",
   "metadata": {},
   "outputs": [
    {
     "name": "stdout",
     "output_type": "stream",
     "text": [
      "Enter your age: 7\n",
      "You are a minor\n"
     ]
    }
   ],
   "source": [
    "age = int(input(\"Enter your age: \"))\n",
    "\n",
    "\n",
    "if age>=18:\n",
    "    \n",
    "    print(\"You are an adult\") \n",
    "    \n",
    "else:\n",
    "    print(\"You are a minor\")    \n",
    "    "
   ]
  },
  {
   "cell_type": "code",
   "execution_count": null,
   "id": "b073344f",
   "metadata": {},
   "outputs": [],
   "source": [
    "### 2.Program to print letter grades by taking numeric grade as input "
   ]
  },
  {
   "cell_type": "code",
   "execution_count": 14,
   "id": "f644f3cd",
   "metadata": {},
   "outputs": [
    {
     "name": "stdout",
     "output_type": "stream",
     "text": [
      "marks scored: 94\n",
      "Grade A\n"
     ]
    }
   ],
   "source": [
    "marks = int(input('marks scored: ')) ## Accept integers as inputs\n",
    "\n",
    "\n",
    "if 90<=marks<=100:        # print 'A' if marks between 90-100\n",
    "     print('Grade A')\n",
    "        \n",
    "        \n",
    "elif 80<=marks<=89:\n",
    "        print('Grade B')       #print 'B' if marks between 80-89\n",
    "        \n",
    "elif 70<=marks<=79:\n",
    "        print('Grade C')       #print 'C' if marks between 70-79\n",
    "        \n",
    "elif 60<=marks<=69 :\n",
    "        print('Grade D')     #print 'D' if marks between 60-69\n",
    "        \n",
    "else:\n",
    "        print('Fail')        # print 'fail' if below 60\n",
    "               "
   ]
  },
  {
   "cell_type": "code",
   "execution_count": 16,
   "id": "567ed26d",
   "metadata": {},
   "outputs": [
    {
     "name": "stdout",
     "output_type": "stream",
     "text": [
      "marks scored: 55\n",
      "Fail\n"
     ]
    }
   ],
   "source": [
    "marks = int(input('marks scored: '))\n",
    "\n",
    "if 90<=marks<=100: \n",
    "    print('Grade A')\n",
    "    \n",
    "elif 80<=marks<=89:\n",
    "        print('Grade B')\n",
    "        \n",
    "elif 70<=marks<=79:\n",
    "        print('Grade C')\n",
    "        \n",
    "elif 60<=marks<=69 :\n",
    "        print('Grade D')\n",
    "        \n",
    "else:\n",
    "        print('Fail')"
   ]
  },
  {
   "cell_type": "markdown",
   "id": "b826e0c1",
   "metadata": {},
   "source": [
    "### 3. program that calculates the Body Mass Index (BMI) of a person,input their weight in kg and height in meters."
   ]
  },
  {
   "cell_type": "code",
   "execution_count": 25,
   "id": "caaa2c89",
   "metadata": {},
   "outputs": [
    {
     "name": "stdout",
     "output_type": "stream",
     "text": [
      "Enter weight in kilograms: 60\n",
      "Enter height in meters: 1.62\n",
      "Normal weight\n"
     ]
    }
   ],
   "source": [
    "weight = int(input('Enter weight in kilograms: ')) ## int input accepts integer values\n",
    "\n",
    "height = float(input('Enter height in meters: '))  ## float input accepts  flaot values\n",
    "\n",
    "#### To calculate BMI if height and weight is given then we have formula\n",
    "\n",
    "bmi = weight/(height**2)\n",
    "\n",
    "\n",
    "if bmi <18.5:\n",
    "    print(\"Underweight\") # to print under weight\n",
    "    \n",
    "elif 18.5<=bmi<24.9:\n",
    "    print(\"Normal weight\") ## to print Normal weight\n",
    "    \n",
    "elif 25<=bmi<29.9:\n",
    "    print(\"Overweight\")  ## to print overweight \n",
    "    \n",
    "else:\n",
    "        print(\"Obese\") \n",
    "    "
   ]
  },
  {
   "cell_type": "code",
   "execution_count": null,
   "id": "503b92a0",
   "metadata": {},
   "outputs": [],
   "source": [
    "### 4.Write a program that asks the user for three numbers and prints the maximum of the three.\n"
   ]
  },
  {
   "cell_type": "code",
   "execution_count": 1,
   "id": "027bd93a",
   "metadata": {},
   "outputs": [
    {
     "name": "stdout",
     "output_type": "stream",
     "text": [
      "Enter the first number: 12\n",
      "Enter the second number: 67\n",
      "Enter the third number: 45\n",
      "num2 is maximum\n"
     ]
    }
   ],
   "source": [
    "num1 = int(input('Enter the first number: '))  ## integer value as input\n",
    "\n",
    "num2 = int(input('Enter the second number: ')) ##integer value as input\n",
    "\n",
    "num3 = int(input('Enter the third number: '))  ##integer value as input\n",
    "\n",
    "\n",
    "if num1>num2 and num1>num3:\n",
    "    print('num1 is maximum')\n",
    "    \n",
    "elif num2>num1 and num2>num3:\n",
    "    print('num2 is maximum')\n",
    "    \n",
    "else:\n",
    "    print('num3 is maximum')\n"
   ]
  },
  {
   "cell_type": "code",
   "execution_count": null,
   "id": "9950feb3",
   "metadata": {},
   "outputs": [],
   "source": [
    "### 5.Write a program that asks the user for a temperature (in Celsius) and prints \n",
    "###\"It's freezing\" if the temperature is below 0, \"It's cool\" if it's between 0 and 10, \n",
    "### \"It's warm\" if it's between 10 and 20, and \"It's hot\" if it's above 20"
   ]
  },
  {
   "cell_type": "code",
   "execution_count": 26,
   "id": "3a0cb815",
   "metadata": {},
   "outputs": [
    {
     "name": "stdout",
     "output_type": "stream",
     "text": [
      "Enter the temperature in Celsius: 5\n",
      "It's cool\n"
     ]
    }
   ],
   "source": [
    "temperature = float(input(\"Enter the temperature in Celsius: \")) #input value is given in flaot as temperature vl be in decimals\n",
    "\n",
    "\n",
    "if temperature < 0:             # if temp value is below 0 freezing is printed\n",
    "    print(\"It's freezing\") \n",
    "    \n",
    "elif 0 <= temperature <= 10:      # if temp value is between 0 and 10  cool is printed\n",
    "    print(\"It's cool\") \n",
    "    \n",
    "elif 10 < temperature <= 20:      # if temp value is between 10 and 20  warm is printed\n",
    "    print(\"It's warm\")\n",
    "    \n",
    "else:# if temp value is above 20 hot is printed\n",
    "    print(\"It's hot\") "
   ]
  },
  {
   "cell_type": "code",
   "execution_count": null,
   "id": "b8b91e21",
   "metadata": {},
   "outputs": [],
   "source": [
    "### 6. Write a program that asks the user for a number (1-7) and prints the corresponding day of the week.\n"
   ]
  },
  {
   "cell_type": "code",
   "execution_count": 73,
   "id": "890493ea",
   "metadata": {},
   "outputs": [
    {
     "name": "stdout",
     "output_type": "stream",
     "text": [
      "Enter a number: 7\n",
      "Saturday\n"
     ]
    }
   ],
   "source": [
    "Days = int(input(\"Enter a number: \")) ## input given is an integer\n",
    "\n",
    "if 7>=Days<=1:  ## Days must be between 1 to 7\n",
    "    \n",
    "    if Days == 1:\n",
    "        print('Sunday') ## to print sunday must be given 1\n",
    "        \n",
    "elif Days == 2:\n",
    "    print('Monday')   ## to print monday must be given 2\n",
    "    \n",
    "elif Days == 3:\n",
    "    print('Tuesday')   ## to print tuesday must be given 3 \n",
    "    \n",
    "elif Days == 4:\n",
    "    print('Wednesday')  ## to print wednesday must be given 4\n",
    "    \n",
    "elif Days == 5:\n",
    "    print('Thursday') ## to print thursday must be given 5\n",
    "    \n",
    "elif Days == 6:\n",
    "    print('Friday')    ## to print friday must be given 6  \n",
    "    \n",
    "else:\n",
    "    print('Saturday')   ## input 7 is given it will print saturday\n",
    "        "
   ]
  },
  {
   "cell_type": "code",
   "execution_count": null,
   "id": "e0edb40d",
   "metadata": {},
   "outputs": [],
   "source": [
    "### 7.Write a program that asks the user for a number and prints \"In range\" if the number is between 10 and 20 (inclusive), and \"Out of range\" otherwise"
   ]
  },
  {
   "cell_type": "code",
   "execution_count": 76,
   "id": "0c19dc9a",
   "metadata": {},
   "outputs": [
    {
     "name": "stdout",
     "output_type": "stream",
     "text": [
      "Enter a number: 16\n",
      "In range\n"
     ]
    }
   ],
   "source": [
    "number = int(input(\"Enter a number: \")) # input given \n",
    "\n",
    "if 10 <= number <= 20:   # if num value is between 10 and 20 it vl print in range\n",
    "    print(\"In range\")   \n",
    "    \n",
    "else: # if num value is not between 10 and 20 it vl print out of range\n",
    "    print(\"Out of range\")"
   ]
  },
  {
   "cell_type": "code",
   "execution_count": null,
   "id": "bec6e767",
   "metadata": {},
   "outputs": [],
   "source": [
    "### 8. Write a program that asks the user for an integer and prints whether it's even or odd."
   ]
  },
  {
   "cell_type": "code",
   "execution_count": 78,
   "id": "aa70c0ea",
   "metadata": {},
   "outputs": [
    {
     "name": "stdout",
     "output_type": "stream",
     "text": [
      "enter the number:  9\n",
      "Number is Odd\n"
     ]
    }
   ],
   "source": [
    "num = int(input('enter the number:  '))\n",
    "\n",
    "if num%2==0:\n",
    "    print('Number is Even') #if the given number was divisible by 2 ,then it is even number otherwise it is odd\n",
    "else:\n",
    "    print('Number is Odd')"
   ]
  },
  {
   "cell_type": "code",
   "execution_count": null,
   "id": "503571e5",
   "metadata": {},
   "outputs": [],
   "source": [
    "### 9.Write a Python program to add 'ing' at the end of a given string (string length should be equal to or more than If the given string already ends with 'ing' then add 'ly' instead.If the string length of the given string is less than 3, leave it unchanged."
   ]
  },
  {
   "cell_type": "code",
   "execution_count": null,
   "id": "fb07bb97",
   "metadata": {},
   "outputs": [],
   "source": [
    "x = str(input('Enter a string: '))   # string as input\n",
    "\n",
    "if len(x) < 3:                #checks length of string  is below 3 \n",
    "    print('string')       #if it is true it prints string \n",
    "        \n",
    "elif x[-3:] == 'ing':     \n",
    "    print(x+'ly')    ## w[-1]== 'g';w[-2] == 'n';w[-3] == 'i'(w means word)\n",
    "            \n",
    "else:               #3rd negative index it will add 'ing'\n",
    "    print(x + 'ing') \n",
    "\n"
   ]
  },
  {
   "cell_type": "code",
   "execution_count": 11,
   "id": "ae70a6e0",
   "metadata": {},
   "outputs": [
    {
     "name": "stdout",
     "output_type": "stream",
     "text": [
      "Enter a string: keeping\n",
      "keepingly\n"
     ]
    }
   ],
   "source": [
    "x = str(input('Enter a string: '))   # string as input\n",
    "\n",
    "if len(x) < 3:                #checks length of string  is below 3 \n",
    "        print('string')       #if it is true it prints string \n",
    "        \n",
    "elif x[-3:] == 'ing':     \n",
    "            print(x+'ly')    ## w[-1]== 'g';w[-2] == 'n';w[-3] == 'i'(w means word)\n",
    "            \n",
    "else:               #3rd negative index it will add 'ing'\n",
    "    print(x + 'ing') \n"
   ]
  },
  {
   "cell_type": "code",
   "execution_count": 13,
   "id": "2ae45b2a",
   "metadata": {},
   "outputs": [
    {
     "name": "stdout",
     "output_type": "stream",
     "text": [
      "Enter a string: search\n",
      "searching\n"
     ]
    }
   ],
   "source": [
    "x = str(input('Enter a string: '))   # string as input\n",
    "\n",
    "if len(x) < 3:                #checks length of string  is below 3 \n",
    "        print('string')       #if it is true it prints string \n",
    "        \n",
    "elif x[-3:] == 'ing':     \n",
    "            print(x+'ly')    ## w[-1]== 'g';w[-2] == 'n';w[-3] == 'i'(w means word)\n",
    "            \n",
    "else:               #3rd negative index it will add 'ing'\n",
    "    print(x + 'ing') "
   ]
  },
  {
   "cell_type": "code",
   "execution_count": 14,
   "id": "93da6112",
   "metadata": {},
   "outputs": [
    {
     "name": "stdout",
     "output_type": "stream",
     "text": [
      "Enter a string: cling\n",
      "clingly\n"
     ]
    }
   ],
   "source": [
    "x = str(input('Enter a string: '))   # string as input\n",
    "\n",
    "if len(x) < 3:                #checks length of string  is below 3 \n",
    "        print('string')       #if it is true it prints string \n",
    "        \n",
    "elif x[-3:] == 'ing':     \n",
    "            print(x+'ly')    ## w[-1]== 'g';w[-2] == 'n';w[-3] == 'i'(w means word)\n",
    "            \n",
    "else:               #3rd negative index it will add 'ing'\n",
    "    print(x + 'ing') "
   ]
  },
  {
   "cell_type": "code",
   "execution_count": null,
   "id": "e121fcca",
   "metadata": {},
   "outputs": [],
   "source": [
    "### 10. create rock-paper-scissors by using if condition"
   ]
  },
  {
   "cell_type": "code",
   "execution_count": null,
   "id": "7129eb79",
   "metadata": {},
   "outputs": [],
   "source": [
    "a, b = input('player - I: ').lower(), input('player - II').lower()\n",
    "if a =='r':\n",
    "    if b == 'p'\n",
    "     print('b wins')\n",
    "elif b== 's':\n",
    "        print('a wins')"
   ]
  },
  {
   "cell_type": "code",
   "execution_count": 8,
   "id": "38853f66",
   "metadata": {},
   "outputs": [
    {
     "name": "stdout",
     "output_type": "stream",
     "text": [
      "a wins\n"
     ]
    }
   ],
   "source": [
    "if a =='p' and b =='r':\n",
    "    print('a win')\n",
    "elif a == 's'  and b =='p':\n",
    "    print('a wins')\n",
    "elif a == 'r'   and b == 's':\n",
    "    print('a wins')\n",
    "elif a == b:\n",
    "    print('tie')\n",
    "else:\n",
    "    print('b')"
   ]
  },
  {
   "cell_type": "code",
   "execution_count": 7,
   "id": "ba48aa2f",
   "metadata": {},
   "outputs": [
    {
     "name": "stdout",
     "output_type": "stream",
     "text": [
      "player - I: s\n",
      "player - II: p\n",
      "a win\n"
     ]
    }
   ],
   "source": [
    "a, b = input('player - I: ').lower(), input('player - II: ').lower()\n",
    "if (a =='p' and b =='r') or  (a == 's'  and b =='p') or (a == 'r'   and b == 's'):\n",
    "    print('a win')\n",
    "elif a == b:\n",
    "    print('tie')\n",
    "else:\n",
    "    print('b')"
   ]
  },
  {
   "cell_type": "code",
   "execution_count": null,
   "id": "d1ef7178",
   "metadata": {},
   "outputs": [],
   "source": [
    "### rock paper scissor through system"
   ]
  },
  {
   "cell_type": "code",
   "execution_count": 3,
   "id": "b9431627",
   "metadata": {},
   "outputs": [
    {
     "name": "stdout",
     "output_type": "stream",
     "text": [
      "['r', 'p', 's']\n",
      "player - I: r\n",
      "a win\n"
     ]
    }
   ],
   "source": [
    "import random\n",
    "b = list('rps')\n",
    "print(b)\n",
    "random.shuffle(b)\n",
    "b = b[0]\n",
    "a = input('player - I: ').lower()\n",
    "if (a == 'p' and b == 'r') or  (a == 's'  and b == 'p') or (a == 'r'   and b == 's'):\n",
    "    print('a win')\n",
    "elif a == b:\n",
    "    print('tie')\n",
    "else:\n",
    "    print('b')"
   ]
  },
  {
   "cell_type": "markdown",
   "id": "41faed93",
   "metadata": {},
   "source": [
    "### 11.Create a dynamic calculator which asks for numbers and operator and return the answers,\n",
    "\n",
    "-    Example\n",
    "-    Input: Type first number: 10\",\n",
    "\n",
    "-    Type any of this (+, -, *, /, %, **): ,*\n",
    "\n",
    "-    Assignment-2,\n",
    "\n",
    "-    Type second number: 19,\n",
    "\n",
    "-    Output:Answer is 190\n"
   ]
  },
  {
   "cell_type": "code",
   "execution_count": 15,
   "id": "2b6c9d79",
   "metadata": {},
   "outputs": [
    {
     "name": "stdout",
     "output_type": "stream",
     "text": [
      " First number: 10\n",
      "Type any of this (+, -, *, /, %, **): **\n",
      "Second number: 2\n",
      "Answer is 100.0\n"
     ]
    }
   ],
   "source": [
    "num1 = int(input(\" First number: \"))     # int as input \n",
    "\n",
    "operator = input(\"Type any of this (+, -, *, /, %, **): \") #   Declaring operator\n",
    "\n",
    "num2 = float(input(\"Second number: \")) # float as input\n",
    "\n",
    "if operator == \"+\":            #adds two numbers \n",
    "    print(\"Answer is\", num1 + num2)\n",
    "    \n",
    "if operator == \"-\":           #subtracts two numbers\n",
    "     print(\"Answer is\", num1 - num2)\n",
    "        \n",
    "if operator == \"*\":           #multiplies two numbers\n",
    "     print(\"Answer is\", num1 * num2)\n",
    "        \n",
    "if operator == \"/\":           # divides two numbers\n",
    "     print(\"Answer is\", num1 / num2)\n",
    "        \n",
    "if operator == \"%\":          #modulus \n",
    "     print(\"Answer is\", num1 % num2)\n",
    "        \n",
    "if operator == \"**\":      #exponential\n",
    "     print(\"Answer is\", num1 ** num2)"
   ]
  },
  {
   "cell_type": "code",
   "execution_count": 16,
   "id": "fbe27b98",
   "metadata": {},
   "outputs": [
    {
     "name": "stdout",
     "output_type": "stream",
     "text": [
      " First number: 50\n",
      "Type any of this (+, -, *, /, %, **): %\n",
      "Second number: 5\n",
      "Answer is 0.0\n"
     ]
    }
   ],
   "source": [
    "num1 = int(input(\" First number: \"))     # int as input \n",
    "\n",
    "operator = input(\"Type any of this (+, -, *, /, %, **): \") # using operator\n",
    "\n",
    "num2 = float(input(\"Second number: \")) # float as input\n",
    "\n",
    "if operator == \"+\": #adds two numbers \n",
    "    print(\"Answer is\", num1 + num2)\n",
    "    \n",
    "if operator == \"-\":  #subtracts two numbers\n",
    "     print(\"Answer is\", num1 - num2)\n",
    "        \n",
    "if operator == \"*\":    #multiplies two numbers\n",
    "     print(\"Answer is\", num1 * num2)\n",
    "        \n",
    "if operator == \"/\":     # divides two numbers\n",
    "     print(\"Answer is\", num1 / num2)\n",
    "        \n",
    "if operator == \"%\":      #modulus \n",
    "     print(\"Answer is\", num1 % num2)\n",
    "        \n",
    "if operator == \"**\":      #exponential\n",
    "     print(\"Answer is\", num1 ** num2)"
   ]
  },
  {
   "cell_type": "code",
   "execution_count": null,
   "id": "7db989d6",
   "metadata": {},
   "outputs": [],
   "source": [
    "### 12.Manoj Kumar has family and friends.Help him remind them who is who.Given a string with a name, return the relation of that person to Manoj Kumar.,Person Relation, Shiva father ,Letha mother, Tarun brother,Kavitha sister ,,Strange Coder.\n"
   ]
  },
  {
   "cell_type": "code",
   "execution_count": 27,
   "id": "a41a8e13",
   "metadata": {},
   "outputs": [
    {
     "name": "stdout",
     "output_type": "stream",
     "text": [
      "Manoj Relation shiva\n",
      "Stranger\n"
     ]
    }
   ],
   "source": [
    "a=str(input('Manoj Relation ')) # giving input as string\n",
    "\n",
    "if a == \"Shiva\": #assigning  name as Shiva\n",
    "                   print('Father')# prints relation\n",
    "        \n",
    "elif a == \"Letha\":#assinging name as  Letha\n",
    "                   print('Mother')# prints relation\n",
    "        \n",
    "elif a == \"Tarun\":#assigning name as Tarun \n",
    "                   print('Brother')# prints relation\n",
    "        \n",
    "elif a == \"Kavitha\":#assigning name as Kavitha\n",
    "                   print('Sister')# prints relation\n",
    "        \n",
    "else:#otherwise prints stranger\n",
    "                   print('Stranger')# prints unknown"
   ]
  },
  {
   "cell_type": "code",
   "execution_count": null,
   "id": "ff11614f",
   "metadata": {},
   "outputs": [],
   "source": [
    "### 13. Write a python program that takes in a word and determines whether or not it is plural. A plural word is one that ends with “s”"
   ]
  },
  {
   "cell_type": "code",
   "execution_count": 28,
   "id": "4437cef5",
   "metadata": {},
   "outputs": [
    {
     "name": "stdout",
     "output_type": "stream",
     "text": [
      "Word: pencil\n",
      "word is not plural.\n"
     ]
    }
   ],
   "source": [
    "z = input(\"Word: \") # input is given\n",
    "\n",
    "if z.endswith('s'):           #checks  ifinput  ends with 's'\n",
    "    print(\"word is plural.\") # if  it is true then it prints plural\n",
    "    \n",
    "else: # if it is false  not plural\n",
    "    print(\"word is not plural.\")"
   ]
  },
  {
   "cell_type": "code",
   "execution_count": 29,
   "id": "dafe1c89",
   "metadata": {},
   "outputs": [
    {
     "name": "stdout",
     "output_type": "stream",
     "text": [
      "Word: pencils\n",
      "word is plural.\n"
     ]
    }
   ],
   "source": [
    "z = input(\"Word: \") # input is given\n",
    "\n",
    "if z.endswith('s'):           #checks  ifinput  ends with 's'\n",
    "    print(\"word is plural.\") # if  it is true then it prints plural\n",
    "    \n",
    "else: # if it is false  not plural\n",
    "    print(\"word is not plural.\")"
   ]
  },
  {
   "cell_type": "code",
   "execution_count": null,
   "id": "0e3a5cf2",
   "metadata": {},
   "outputs": [],
   "source": [
    "### 14. A company decided to give a bonus of 5% to employees if his/her year of service is more than 5 years.Ask user for their salary and year of service and print the net bonus amount."
   ]
  },
  {
   "cell_type": "code",
   "execution_count": 30,
   "id": "0b314812",
   "metadata": {},
   "outputs": [
    {
     "name": "stdout",
     "output_type": "stream",
     "text": [
      "Salary: 40000\n",
      "Years of service:3\n",
      "You are not eligible for bonus as you have less service years\n"
     ]
    }
   ],
   "source": [
    "salary = float(input(\"Salary: \")) # float values is given as input\n",
    "\n",
    "\n",
    "service_yrs = int(input(\"Years of service:\")) # integers is given as input\n",
    "\n",
    "\n",
    "if service_yrs > 5: # checks service years is  more than 5 years\n",
    "    print(\"Yours salary(+Bonus) = \",salary + (salary)*5/100) # calculating bonus \n",
    "    \n",
    "else: # if statement is false it executes else \n",
    "    print(\"You are not eligible for bonus as you have less service years\")"
   ]
  },
  {
   "cell_type": "code",
   "execution_count": 31,
   "id": "fd27b0d1",
   "metadata": {},
   "outputs": [
    {
     "name": "stdout",
     "output_type": "stream",
     "text": [
      "Salary: 40000\n",
      "Years of service:6\n",
      "Yours salary(+Bonus) =  42000.0\n"
     ]
    }
   ],
   "source": [
    "salary = float(input(\"Salary: \")) # float values is given as input\n",
    "\n",
    "\n",
    "service_yrs = int(input(\"Years of service:\")) # integers is given as input\n",
    "\n",
    "\n",
    "if service_yrs > 5: # checks service years is  more than 5 years\n",
    "    print(\"Yours salary(+Bonus) = \",salary + (salary)*5/100) # calculating bonus \n",
    "    \n",
    "else: # if statement is false it executes else \n",
    "    print(\"You are not eligible for bonus as you have less service years\")"
   ]
  },
  {
   "cell_type": "code",
   "execution_count": null,
   "id": "c5668086",
   "metadata": {},
   "outputs": [],
   "source": [
    "### 15.Take values of length and breadth of a rectangle from the user and check if it is square or not.\n"
   ]
  },
  {
   "cell_type": "code",
   "execution_count": 32,
   "id": "152fa772",
   "metadata": {},
   "outputs": [
    {
     "name": "stdout",
     "output_type": "stream",
     "text": [
      "enter the length of the figure: 10\n",
      "enter the breadth of the figure10\n",
      "The figure is a Rectangle\n"
     ]
    }
   ],
   "source": [
    "a=int(input(\"enter the length of the figure: \")) #  integer  is input of a\n",
    "\n",
    "b=int(input(\"enter the breadth of the figure\")) # integer is input of b\n",
    "\n",
    "if a==b: # checks if a=b then prints it is a square\n",
    "    print(\"The figure is a Rectangle\")\n",
    "    \n",
    "else: # otherwise prints not a square\n",
    "     print(\"the figure is not a Rectangele\")"
   ]
  },
  {
   "cell_type": "code",
   "execution_count": 33,
   "id": "e3663ac3",
   "metadata": {},
   "outputs": [
    {
     "name": "stdout",
     "output_type": "stream",
     "text": [
      "enter the length of the figure: 10\n",
      "enter the breadth of the figure20\n",
      "the figure is not a Rectangle\n"
     ]
    }
   ],
   "source": [
    "a=int(input(\"enter the length of the figure: \")) #  integer  is input of a\n",
    "\n",
    "b=int(input(\"enter the breadth of the figure\")) # integer is input of b\n",
    "\n",
    "if a==b: # checks if a=b then prints it is a square\n",
    "    print(\"The figure is a Rectangle\")\n",
    "    \n",
    "else: # otherwise prints not a square\n",
    "     print(\"the figure is not a Rectangle\")"
   ]
  },
  {
   "cell_type": "code",
   "execution_count": null,
   "id": "ccb276e2",
   "metadata": {},
   "outputs": [],
   "source": [
    "### 16.Accept any city from the user and display the momentum of the city \n",
    "Hyderabad  : “charminar”\n",
    "“Delhi”         : “red fort\n",
    "“Agra           : Taj mahal\n",
    "If the city name is not given correctly, give him a warning message.\n",
    "\n"
   ]
  },
  {
   "cell_type": "code",
   "execution_count": 84,
   "id": "6bea810e",
   "metadata": {},
   "outputs": [
    {
     "name": "stdout",
     "output_type": "stream",
     "text": [
      "enter city names: Agra\n",
      "taj mahal\n"
     ]
    }
   ],
   "source": [
    "city = input(\"enter city names: \") ## input given\n",
    "\n",
    "if city == \"Hyderabad\": \n",
    "    print(\"charminar\")\n",
    "    \n",
    "elif city == \"Delhi\":\n",
    "    print(\"red fort\")\n",
    "    \n",
    "elif city == \"Agra\":\n",
    "    print(\"taj mahal\")\n",
    "else:\n",
    "    print(\"enter wrong city name\")"
   ]
  },
  {
   "cell_type": "code",
   "execution_count": 85,
   "id": "a412e99a",
   "metadata": {},
   "outputs": [
    {
     "name": "stdout",
     "output_type": "stream",
     "text": [
      "enter city names: Guntur\n",
      "enter wrong city name\n"
     ]
    }
   ],
   "source": [
    "city = input(\"enter city names: \")\n",
    "if city == \"Hyderabad\":\n",
    "    print(\"charminar\")\n",
    "elif city == \"Delhi\":\n",
    "    print(\"red fort\")\n",
    "elif city == \"Agra\":\n",
    "    print(\"taj mahal\")\n",
    "else:\n",
    "    print(\"enter wrong city name\")"
   ]
  },
  {
   "cell_type": "code",
   "execution_count": null,
   "id": "ca450c91",
   "metadata": {},
   "outputs": [],
   "source": [
    "### 17. Write a program to check whether a person is eligible for voting or not  (voting age>=18).\n"
   ]
  },
  {
   "cell_type": "code",
   "execution_count": 82,
   "id": "d1e75588",
   "metadata": {},
   "outputs": [
    {
     "name": "stdout",
     "output_type": "stream",
     "text": [
      "Enter your age: 29\n",
      "You are eligible to vote\n"
     ]
    }
   ],
   "source": [
    "age = int(input(\"Enter your age: \"))\n",
    "\n",
    "if age>=18:\n",
    "    print(\"You are eligible to vote\")## if age is >=18 it vl print eligible to vote\n",
    "    \n",
    "else:\n",
    "    print(\"You are not eligible to vote\")    \n",
    "    "
   ]
  },
  {
   "cell_type": "code",
   "execution_count": null,
   "id": "79f10fe2",
   "metadata": {},
   "outputs": [],
   "source": [
    "### 18.Accept three sides of the triangle and check whether the triangle is possible or not.(Triangle is possible only when the sum of any two sides is greater than 3 rd side).\n"
   ]
  },
  {
   "cell_type": "code",
   "execution_count": 34,
   "id": "14facb31",
   "metadata": {},
   "outputs": [
    {
     "name": "stdout",
     "output_type": "stream",
     "text": [
      "Enter the first angle: 90\n",
      "Enter the second angle: 90\n",
      "Enter the third angle: 90\n",
      "No,triangle not possible\n"
     ]
    }
   ],
   "source": [
    "x = int(input(\"Enter the first angle: \")) # input as integer\n",
    "\n",
    "y = int(input(\"Enter the second angle: \")) # input as integer\n",
    "\n",
    "z = int(input(\"Enter the third angle: \")) #input as integer\n",
    "\n",
    "# to check whether sum of angles are 180 and each angle must not equal to 0\n",
    "\n",
    "if(x != 0 and y != 0 and z != 0 and (x + y + z)== 180): \n",
    "    \n",
    "  if((x + y)>= z or (x + z)>= y or (y + z)>= x):   # Checking sum of 2 angles greater than the third one\n",
    "      print(\"Yes,triangle is valid\")\n",
    "        \n",
    "else: # if sum of three angles are not equal to 180 then it prints triangle is not possible\n",
    "      print(\"No,triangle not possible\")"
   ]
  },
  {
   "cell_type": "code",
   "execution_count": 35,
   "id": "4569b822",
   "metadata": {},
   "outputs": [
    {
     "name": "stdout",
     "output_type": "stream",
     "text": [
      "Enter the first angle: 60\n",
      "Enter the second angle: 60\n",
      "Enter the third angle: 60\n",
      "Yes,triangle is valid\n"
     ]
    }
   ],
   "source": [
    "x = int(input(\"Enter the first angle: \")) # input as integer\n",
    "\n",
    "y = int(input(\"Enter the second angle: \")) # input as integer\n",
    "\n",
    "z = int(input(\"Enter the third angle: \")) #input as integer\n",
    "\n",
    "# to check whether sum of angles are 180 and each angle must not equal to 0\n",
    "\n",
    "if(x != 0 and y != 0 and z != 0 and (x + y + z)== 180): \n",
    "    \n",
    "  if((x + y)>= z or (x + z)>= y or (y + z)>= x):   # Checking sum of 2 angles greater than the third one\n",
    "      print(\"Yes,triangle is valid\")\n",
    "        \n",
    "else: # if sum of three angles are not equal to 180 then it prints triangle is not possible\n",
    "      print(\"No,triangle not possible\")"
   ]
  }
 ],
 "metadata": {
  "kernelspec": {
   "display_name": "Python 3 (ipykernel)",
   "language": "python",
   "name": "python3"
  },
  "language_info": {
   "codemirror_mode": {
    "name": "ipython",
    "version": 3
   },
   "file_extension": ".py",
   "mimetype": "text/x-python",
   "name": "python",
   "nbconvert_exporter": "python",
   "pygments_lexer": "ipython3",
   "version": "3.11.5"
  }
 },
 "nbformat": 4,
 "nbformat_minor": 5
}
