{
 "cells": [
  {
   "cell_type": "markdown",
   "id": "c4b85e3f",
   "metadata": {},
   "source": [
    "### Strings\n",
    "- Strings are characters or a sequence of characters enclosed in single quotes ('') or double  quotes (\" \") or triple quotes\n",
    "(''' ''').\n",
    "- Triple -quotes are used as multiline strings,multiline comments and as doc strings.\n",
    "- It is an immutable data type, which means once a string is created, it cannot be modified.\n",
    "- However, it is possible to create a new string by concatenating two or more strings"
   ]
  },
  {
   "cell_type": "code",
   "execution_count": 3,
   "id": "3c791e2c",
   "metadata": {},
   "outputs": [
    {
     "name": "stdout",
     "output_type": "stream",
     "text": [
      "this is a string, enclosed in single quotes\n",
      "this is a string, enclosed in single quotes\n",
      "this is a multi-string, \n",
      "enclosed in triple single quotes\n"
     ]
    },
    {
     "data": {
      "text/plain": [
       "'this is an informative\\nmulti-line comment,\\ncreated by using triple double quotes'"
      ]
     },
     "execution_count": 3,
     "metadata": {},
     "output_type": "execute_result"
    }
   ],
   "source": [
    "### Creating a string\n",
    "s1 = 'this is a string, enclosed in single quotes'\n",
    "s2 = 'this is a string, enclosed in single quotes'\n",
    "s3 = '''this is a multi-string, \n",
    "enclosed in triple single quotes'''\n",
    "print(s1, s2, s3, sep='\\n')\n",
    "\n",
    "\"\"\"this is an informative\n",
    "multi-line comment,\n",
    "created by using triple double quotes\"\"\"\n"
   ]
  },
  {
   "cell_type": "code",
   "execution_count": 5,
   "id": "96479d87",
   "metadata": {},
   "outputs": [
    {
     "name": "stdout",
     "output_type": "stream",
     "text": [
      "this cup now belong's to INDIA\n"
     ]
    },
    {
     "data": {
      "text/plain": [
       "\"this cup now belong's to INDIA\""
      ]
     },
     "execution_count": 5,
     "metadata": {},
     "output_type": "execute_result"
    }
   ],
   "source": [
    "# Complier error \n",
    "a = \"this cup now belong's to INDIA\" #other way to print\n",
    "print(a)\n",
    "b = 'this cup now belong\\'s to INDIA' # \\ is a escape character\n",
    "print(b)"
   ]
  },
  {
   "cell_type": "code",
   "execution_count": 5,
   "id": "aa2cef50",
   "metadata": {},
   "outputs": [
    {
     "name": "stdout",
     "output_type": "stream",
     "text": [
      "a\n",
      "\n",
      "a\tb\n",
      "c\n"
     ]
    }
   ],
   "source": [
    "### Escape character\n",
    "print('a\\n') # new line\n",
    "print('a\\tb') # tab/ four spaces\n",
    "print('ab\\rc') # moves the cursor to start of the line"
   ]
  },
  {
   "cell_type": "markdown",
   "id": "64cd51e2",
   "metadata": {},
   "source": [
    "### Raw-string and format-string\n",
    "- Reading everything in raw form .\n",
    "- A special type of string that allows you to include backslashes ( \\ ) without interpreting them as escape sequences."
   ]
  },
  {
   "cell_type": "code",
   "execution_count": 6,
   "id": "4710d498",
   "metadata": {},
   "outputs": [
    {
     "name": "stdout",
     "output_type": "stream",
     "text": [
      "c:\u0007bc\n",
      "ewfolder\\j.jpg\n",
      "c:\\abc\\newfolder\\j.jpg\n",
      "c:\\abc\\newfolder\\j.jpg\n"
     ]
    }
   ],
   "source": [
    "\n",
    "# r-strings\n",
    "print('c:\\abc\\newfolder\\j.jpg')# compliers error\n",
    "print('c:\\\\abc\\\\newfolder\\\\j.jpg') # alternative method of printing\n",
    "print(r'c:\\abc\\newfolder\\j.jpg') # using r string\n",
    "\n",
    "\n"
   ]
  },
  {
   "cell_type": "code",
   "execution_count": 7,
   "id": "67c90756",
   "metadata": {},
   "outputs": [
    {
     "name": "stdout",
     "output_type": "stream",
     "text": [
      "the volume of a cyl, whose radius is 5 whose h is 7 is 550.0\n",
      "the vol of cyl whose r and h are 5 and 7 respectively is 550.0\n"
     ]
    }
   ],
   "source": [
    "r ,h = 5,7\n",
    "vol = (22/7)*(r**2)*h\n",
    "print('the volume of a cyl, whose radius is', r,'whose h is', h, 'is', vol)\n",
    "print(f'the vol of cyl whose r and h are {r} and {h} respectively is {vol}')\n"
   ]
  },
  {
   "cell_type": "code",
   "execution_count": 4,
   "id": "303b92ff",
   "metadata": {},
   "outputs": [
    {
     "name": "stdout",
     "output_type": "stream",
     "text": [
      "a sphere with diameter 10 cms, volume will be 523.8095238095237 cubic cms\n"
     ]
    }
   ],
   "source": [
    "### Format-string\n",
    "Example for formatting string:\n",
    "volume of a sphere\n",
    "\n",
    "print(f'a sphere with diameter {10} cms, volume will be {(22/7)*((10/2)**3)*(4/3)} cubic cms')"
   ]
  },
  {
   "cell_type": "markdown",
   "id": "d13ad123",
   "metadata": {},
   "source": [
    "## String Indexing:\n",
    "\n",
    "- strings can be indexed :“Indexing” means referring to an element of an iterable by its position within the iterable.\n",
    "- since strings are sequence of chars,and this seq has an indexing value.\n",
    "\n",
    "- Indexing is of two types:\n",
    "- Accessing Characters by Positive Index Number\n",
    "- Accessing Characters by Negative Index Number\n"
   ]
  },
  {
   "cell_type": "code",
   "execution_count": 14,
   "id": "13d9a241",
   "metadata": {},
   "outputs": [
    {
     "name": "stdout",
     "output_type": "stream",
     "text": [
      "h\n"
     ]
    }
   ],
   "source": [
    "\n",
    "# positive indexing :\n",
    "    \n",
    "In positive indexing ,we move from left to right and the start index is '0' and the end index is 'n-1'\n",
    "where n is len of the string.\n",
    "x = 'Python'\n",
    "print(x[3]) # accessing h using postive indexing (left to right starts with 0 and end with n-1)"
   ]
  },
  {
   "cell_type": "markdown",
   "id": "c50a9ef5",
   "metadata": {},
   "source": [
    "# Negative indexing:\n",
    "    \n",
    "- In negative indexing ,we move from right to left and the start index is '-1' and the end index is '-n'\n",
    "- where n is len of the string.backward direction indexing"
   ]
  },
  {
   "cell_type": "code",
   "execution_count": null,
   "id": "51859071",
   "metadata": {},
   "outputs": [],
   "source": [
    "\n",
    "print(x[-3]) # accessing 'h' using negative indexing (right to left starts with -1 and end index is -n)"
   ]
  },
  {
   "cell_type": "code",
   "execution_count": 20,
   "id": "deb5b303",
   "metadata": {},
   "outputs": [
    {
     "name": "stdout",
     "output_type": "stream",
     "text": [
      "B\n"
     ]
    }
   ],
   "source": [
    "x = 'abAcBde'\n",
    "print(x[4])"
   ]
  },
  {
   "cell_type": "markdown",
   "id": "cdd4086c",
   "metadata": {},
   "source": [
    "# Slicing \n",
    "- The extraction of a part of a string, list, or tuple.\n",
    "\n",
    "- it can be viewed as : Collection[start:end:step]\n",
    "- start position is a and end is n so we start with a and we stop until m as n is not considered\n",
    "\n",
    "[start\n",
    "end\n",
    "step sclicing]\n",
    "## syntax for slicing \n",
    " -  var[start_index:end index:step_size]\n",
    "    "
   ]
  },
  {
   "cell_type": "code",
   "execution_count": 22,
   "id": "cee90017",
   "metadata": {},
   "outputs": [
    {
     "data": {
      "text/plain": [
       "'i am not sure'"
      ]
     },
     "execution_count": 22,
     "metadata": {},
     "output_type": "execute_result"
    }
   ],
   "source": [
    "x = 'i am not sure what to take as an example'\n",
    "#len(x)\n",
    "x[0:13]"
   ]
  },
  {
   "cell_type": "code",
   "execution_count": 24,
   "id": "1a7ff207",
   "metadata": {},
   "outputs": [
    {
     "name": "stdout",
     "output_type": "stream",
     "text": [
      "40\n",
      "i am not sure\n",
      "i am not sure what to take as an example\n",
      "ia o uewa otk sa xml\n",
      "i am not sure what to take as an example\n",
      "i am not sure what to take as an example\n"
     ]
    }
   ],
   "source": [
    "### Slicing (positive indexing)\n",
    "x = 'i am not sure what to take as an example'\n",
    "print(len(x))\n",
    "print(x[0:13])\n",
    "print(x[0:41])\n",
    "print(x[0:41:2])\n",
    "print(x[0:41:1])\n",
    "print(x[::])"
   ]
  },
  {
   "cell_type": "code",
   "execution_count": 26,
   "id": "7b59e5cd",
   "metadata": {},
   "outputs": [
    {
     "name": "stdout",
     "output_type": "stream",
     "text": [
      "abc def\n",
      "xyz\n"
     ]
    }
   ],
   "source": [
    "print('abc', 'def')\n",
    "print('xyz')"
   ]
  },
  {
   "cell_type": "code",
   "execution_count": 28,
   "id": "0684386b",
   "metadata": {},
   "outputs": [
    {
     "name": "stdout",
     "output_type": "stream",
     "text": [
      "python\n",
      "nohtyp\n"
     ]
    }
   ],
   "source": [
    "### Reversing the string\\\\ Negative Indexing\n",
    "x = 'python'\n",
    "print(x)\n",
    "print(x[::-1])"
   ]
  },
  {
   "cell_type": "code",
   "execution_count": 30,
   "id": "902e3d3e",
   "metadata": {},
   "outputs": [
    {
     "data": {
      "text/plain": [
       "'nohtyp'"
      ]
     },
     "execution_count": 30,
     "metadata": {},
     "output_type": "execute_result"
    }
   ],
   "source": [
    "x[::-1]"
   ]
  },
  {
   "cell_type": "code",
   "execution_count": 32,
   "id": "453dc5c8",
   "metadata": {},
   "outputs": [
    {
     "data": {
      "text/plain": [
       "'nohtyp'"
      ]
     },
     "execution_count": 32,
     "metadata": {},
     "output_type": "execute_result"
    }
   ],
   "source": [
    "x[-1:-7:-1]"
   ]
  },
  {
   "cell_type": "code",
   "execution_count": 35,
   "id": "635b601f",
   "metadata": {},
   "outputs": [
    {
     "data": {
      "text/plain": [
       "'nohty'"
      ]
     },
     "execution_count": 35,
     "metadata": {},
     "output_type": "execute_result"
    }
   ],
   "source": [
    "x[6:0:-1]"
   ]
  },
  {
   "cell_type": "code",
   "execution_count": 37,
   "id": "af54a635",
   "metadata": {
    "scrolled": true
   },
   "outputs": [
    {
     "data": {
      "text/plain": [
       "'InnoMinds'"
      ]
     },
     "execution_count": 37,
     "metadata": {},
     "output_type": "execute_result"
    }
   ],
   "source": [
    "# string concatination\n",
    "    adding 2 values or more\n",
    "# to add 2 variable\n",
    "a, b = 'Inno', 'Minds'\n",
    "c = a+b\n",
    "c"
   ]
  },
  {
   "cell_type": "code",
   "execution_count": 8,
   "id": "4be89325",
   "metadata": {},
   "outputs": [
    {
     "name": "stdout",
     "output_type": "stream",
     "text": [
      "Hello world\n",
      "15\n"
     ]
    }
   ],
   "source": [
    "# To add a space between them, add a \" \"\n",
    "a = \"Hello\"\n",
    "b = \"world\"\n",
    "c = a + \" \" + b\n",
    "## interger\n",
    "print(c)\n",
    "x = 5\n",
    "y = 10\n",
    "print(x + y)"
   ]
  },
  {
   "cell_type": "code",
   "execution_count": 39,
   "id": "85a88ac2",
   "metadata": {},
   "outputs": [
    {
     "name": "stdout",
     "output_type": "stream",
     "text": [
      "InnoMindsInnoMindsInnoMindsInnoMindsInnoMindsInnoMindsInnoMindsInnoMindsInnoMinds\n"
     ]
    }
   ],
   "source": [
    "c *= 3\n",
    "print(c)"
   ]
  },
  {
   "cell_type": "code",
   "execution_count": 42,
   "id": "b2876c13",
   "metadata": {},
   "outputs": [
    {
     "data": {
      "text/plain": [
       "'InnoMindsInnoMindsInnoMindsInnoMindsInnoMindsInnoMindsInnoMindsInnoMindsInnoMindsInnoMindsInnoMindsInnoMindsInnoMindsInnoMindsInnoMindsInnoMindsInnoMindsInnoMindsInnoMindsInnoMindsInnoMindsInnoMindsInnoMindsInnoMindsInnoMindsInnoMindsInnoMinds'"
      ]
     },
     "execution_count": 42,
     "metadata": {},
     "output_type": "execute_result"
    }
   ],
   "source": [
    "c*3"
   ]
  },
  {
   "cell_type": "code",
   "execution_count": 9,
   "id": "8bda9ec1",
   "metadata": {},
   "outputs": [
    {
     "data": {
      "text/plain": [
       "'Hello worldHello worldHello world'"
      ]
     },
     "execution_count": 9,
     "metadata": {},
     "output_type": "execute_result"
    }
   ],
   "source": [
    "c*3\n",
    "c+c+c"
   ]
  },
  {
   "cell_type": "markdown",
   "id": "2994e65f",
   "metadata": {},
   "source": [
    "## string Concatentaion \n",
    "- adding 2 values or more\n"
   ]
  },
  {
   "cell_type": "code",
   "execution_count": 11,
   "id": "f03809de",
   "metadata": {},
   "outputs": [
    {
     "name": "stdout",
     "output_type": "stream",
     "text": [
      "hihi\n",
      "hihihihihi\n"
     ]
    }
   ],
   "source": [
    "x = 'hi'\n",
    "print(x+x)  # x+x\n",
    "print(x*5)  # x+x+x+x+x"
   ]
  },
  {
   "cell_type": "code",
   "execution_count": null,
   "id": "8198df68",
   "metadata": {},
   "outputs": [],
   "source": []
  }
 ],
 "metadata": {
  "kernelspec": {
   "display_name": "Python 3 (ipykernel)",
   "language": "python",
   "name": "python3"
  },
  "language_info": {
   "codemirror_mode": {
    "name": "ipython",
    "version": 3
   },
   "file_extension": ".py",
   "mimetype": "text/x-python",
   "name": "python",
   "nbconvert_exporter": "python",
   "pygments_lexer": "ipython3",
   "version": "3.11.5"
  }
 },
 "nbformat": 4,
 "nbformat_minor": 5
}
