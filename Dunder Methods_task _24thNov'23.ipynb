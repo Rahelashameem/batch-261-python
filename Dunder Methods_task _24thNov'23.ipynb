{
 "cells": [
  {
   "cell_type": "markdown",
   "id": "491f88c3",
   "metadata": {},
   "source": [
    "# Dunder or magic methods\n",
    "\n",
    "\n",
    "-  Dunder here means “Double Under (Underscores)”. \n",
    "\n",
    "-  Because the names of dunder methods start and end with two underscores, for example __str__ or __add__\n",
    "\n",
    "-  Dunder or Magic methods in Python are the methods having two prefixes and suffix underscores in the method name.\n",
    "\n",
    "-  These are commonly used for operator overloading. \n",
    "\n",
    "-  Dunder methods are methods that allow instances of a class to interact with the built-in functions and operators of the          language.\n",
    "   \n",
    "-  Dunder methods are not invoked directly by the programmer, making it look like they are called by magic. That is why dunder      methods are also referred to as “magic methods”."
   ]
  },
  {
   "cell_type": "code",
   "execution_count": null,
   "id": "a42d1bc4",
   "metadata": {},
   "outputs": [],
   "source": [
    "-   The dunder method __init__ is responsible for initialising your instance of the class.\n",
    "\n",
    "-   The magic part of __init__ is that it automatically gets called whenever an object is created."
   ]
  },
  {
   "cell_type": "code",
   "execution_count": null,
   "id": "cc12a464",
   "metadata": {},
   "outputs": [],
   "source": [
    "## For example, if you were creating an instance of a class Square, you would create the attribute for the side length in __init__:\n",
    "\n"
   ]
  },
  {
   "cell_type": "code",
   "execution_count": 2,
   "id": "b3a779d5",
   "metadata": {},
   "outputs": [
    {
     "name": "stdout",
     "output_type": "stream",
     "text": [
      "Inside init!\n"
     ]
    }
   ],
   "source": [
    "class Square:\n",
    "    def __init__(self, side_length):\n",
    "        \"\"\"__init__ is the dunder method that INITialises the instance.\n",
    "\n",
    "        To create a square, we need to know the length of its side,\n",
    "        so that will be passed as an argument later, e.g. with Square(1).\n",
    "        To make sure the instance knows its own side length,\n",
    "        we save it with self.side_length = side_length.\n",
    "        \"\"\"\n",
    "        print(\"Inside init!\")\n",
    "        self.side_length = side_length\n",
    "\n",
    "sq = Square(1)\n",
    "# Inside init!"
   ]
  },
  {
   "cell_type": "code",
   "execution_count": null,
   "id": "c5be9661",
   "metadata": {},
   "outputs": [],
   "source": [
    "-   If we run the above code “Inside init!” being printed, even though we didnot call the method __init__ directly\n",
    "\n",
    "-   The dunder method __init__ was called implicitly by the language when we create  instance of a square."
   ]
  },
  {
   "cell_type": "markdown",
   "id": "8b8f8ee1",
   "metadata": {},
   "source": [
    "### List of Python Magic Methods "
   ]
  },
  {
   "cell_type": "code",
   "execution_count": 3,
   "id": "f1cef398",
   "metadata": {},
   "outputs": [
    {
     "data": {
      "text/plain": [
       "['__abs__',\n",
       " '__add__',\n",
       " '__and__',\n",
       " '__bool__',\n",
       " '__ceil__',\n",
       " '__class__',\n",
       " '__delattr__',\n",
       " '__dir__',\n",
       " '__divmod__',\n",
       " '__doc__',\n",
       " '__eq__',\n",
       " '__float__',\n",
       " '__floor__',\n",
       " '__floordiv__',\n",
       " '__format__',\n",
       " '__ge__',\n",
       " '__getattribute__',\n",
       " '__getnewargs__',\n",
       " '__getstate__',\n",
       " '__gt__',\n",
       " '__hash__',\n",
       " '__index__',\n",
       " '__init__',\n",
       " '__init_subclass__',\n",
       " '__int__',\n",
       " '__invert__',\n",
       " '__le__',\n",
       " '__lshift__',\n",
       " '__lt__',\n",
       " '__mod__',\n",
       " '__mul__',\n",
       " '__ne__',\n",
       " '__neg__',\n",
       " '__new__',\n",
       " '__or__',\n",
       " '__pos__',\n",
       " '__pow__',\n",
       " '__radd__',\n",
       " '__rand__',\n",
       " '__rdivmod__',\n",
       " '__reduce__',\n",
       " '__reduce_ex__',\n",
       " '__repr__',\n",
       " '__rfloordiv__',\n",
       " '__rlshift__',\n",
       " '__rmod__',\n",
       " '__rmul__',\n",
       " '__ror__',\n",
       " '__round__',\n",
       " '__rpow__',\n",
       " '__rrshift__',\n",
       " '__rshift__',\n",
       " '__rsub__',\n",
       " '__rtruediv__',\n",
       " '__rxor__',\n",
       " '__setattr__',\n",
       " '__sizeof__',\n",
       " '__str__',\n",
       " '__sub__',\n",
       " '__subclasshook__',\n",
       " '__truediv__',\n",
       " '__trunc__',\n",
       " '__xor__',\n",
       " 'as_integer_ratio',\n",
       " 'bit_count',\n",
       " 'bit_length',\n",
       " 'conjugate',\n",
       " 'denominator',\n",
       " 'from_bytes',\n",
       " 'imag',\n",
       " 'numerator',\n",
       " 'real',\n",
       " 'to_bytes']"
      ]
     },
     "execution_count": 3,
     "metadata": {},
     "output_type": "execute_result"
    }
   ],
   "source": [
    "dir(int)"
   ]
  },
  {
   "cell_type": "markdown",
   "id": "9fbfc4ec",
   "metadata": {},
   "source": [
    "## Initialization and Construction\n",
    "\n",
    "-    __new__: To get called in an object’s instantiation.\n",
    "\n",
    "-    __init__: To get called by the __new__ method.\n",
    "\n",
    "-    __del__: It is the destructor."
   ]
  },
  {
   "cell_type": "markdown",
   "id": "7d73dc3c",
   "metadata": {},
   "source": [
    "## Numeric magic methods\n",
    "\n",
    "-    __trunc__(self): Implements behavior for math.trunc()\n",
    "-    __ceil__(self): Implements behavior for math.ceil()\n",
    "-    __floor__(self): Implements behavior for math.floor()\n",
    "-    __round__(self,n): Implements behavior for the built-in round()\n",
    "-    __invert__(self): Implements behavior for inversion using the ~ operator.\n",
    "-    __abs__(self): Implements behavior for the built-in abs()\n",
    "-    __neg__(self): Implements behavior for negation\n",
    "-    __pos__(self): Implements behavior for unary positive "
   ]
  },
  {
   "cell_type": "markdown",
   "id": "fae8977b",
   "metadata": {},
   "source": [
    "## Arithmetic operators\n",
    "\n",
    "-   __add__(self, other): Implements behavior for math.trunc()\n",
    "-   __sub__(self, other): Implements behavior for math.ceil()\n",
    "-   __mul__(self, other): Implements behavior for math.floor()\n",
    "-   __floordiv__(self, other): Implements behavior for the built-in round()\n",
    "-   __div__(self, other): Implements behavior for inversion using the ~ operator.\n",
    "-   __truediv__(self, other): Implements behavior for the built-in abs()\n",
    "-   __mod__(self, other): Implements behavior for negation\n",
    "-   __divmod__(self, other): Implements behavior for unary positive \n",
    "-   __pow__: Implements behavior for exponents using the ** operator.\n",
    "-   __lshift__(self, other): Implements left bitwise shift using the << operator.\n",
    "-   __rshift__(self, other): Implements right bitwise shift using the >> operator.\n",
    "-   __and__(self, other): Implements bitwise and using the & operator.\n",
    "-   __or__(self, other): Implements bitwise or using the | operator.\n",
    "-   __xor__(self, other): Implements bitwise xor using the ^ operator."
   ]
  },
  {
   "cell_type": "markdown",
   "id": "78885375",
   "metadata": {},
   "source": [
    "## String Magic Methods\n",
    "\n",
    "-   __str__(self): Defines behavior for when str() is called on an instance of your class.\n",
    "\n",
    "-   __repr__(self): To get called by built-int repr() method to return a machine readable representation of a type.\n",
    "\n",
    "-   __unicode__(self): This method to return an unicode string of a type.\n",
    "\n",
    "-   __format__(self, formatstr): return a new style of string.\n",
    "\n",
    "-   __hash__(self): It has to return an integer, and its result is used for quick key comparison in dictionaries.\n",
    "\n",
    "-   __nonzero__(self): Defines behavior for when bool() is called on an instance of your class. \n",
    "\n",
    "-   __dir__(self): This method to return a list of attributes of a class.\n",
    "\n",
    "-   __sizeof__(self): It return the size of the object."
   ]
  },
  {
   "cell_type": "markdown",
   "id": "01ca1cef",
   "metadata": {},
   "source": [
    "## Comparison magic methods\n",
    "\n",
    "-   __eq__(self, other): Defines behavior for the equality operator, ==.\n",
    "-   __ne__(self, other): Defines behavior for the inequality operator, !=.\n",
    "-   __lt__(self, other): Defines behavior for the less-than operator, <.\n",
    "-   __gt__(self, other): Defines behavior for the greater-than operator, >.\n",
    "-   __le__(self, other): Defines behavior for the less-than-or-equal-to operator, <=.\n",
    "-   __ge__(self, other): Defines behavior for the greater-than-or-equal-to operator, >=.\n"
   ]
  },
  {
   "cell_type": "markdown",
   "id": "1fe6e2b7",
   "metadata": {},
   "source": [
    "#### Methods\n",
    "\n",
    "-   __bool__: Converts the object to a boolean value. (Object types: bool)\n",
    "\n",
    "-   __class__: Returns the class of the instance. (Object types)\n",
    "\n",
    "-   __delattr__: Deletes an attribute. (Object types)\n",
    "\n",
    "-   __doc__: Returns the docstring of the object. (Object types)\n",
    "\n",
    "-   __float__: Converts the object to a float. (Numeric types)\n",
    "\n",
    "-   __getattribute__: Gets an attribute. (Object types)\n",
    "\n",
    "-  __getnewargs__: Returns arguments for creating a new instance. (Object types)\n",
    "\n",
    "-  __getstate__: Returns the state for pickling. (Object types)\n",
    "\n",
    "-   __index__: Converts object to an index integer. (Numeric types)\n",
    "\n",
    "-   __int__: Converts the object to an integer. (Numeric types)\n",
    "\n",
    "-   __radd__: Implements right-side addition. (Numeric types)\n",
    "\n",
    "-   __rand__: Implements right-side bitwise AND. (Numeric types)\n",
    "\n",
    "-   __rdivmod__: Implements right-side divmod(). (Numeric types)\n",
    "\n",
    "-   __reduce__: Returns state for pickling. (Object types)\n",
    "\n",
    "-   __reduce_ex__: Returns state for pickling with specified protocol. (Object types)\n",
    "\n",
    "-   __rfloordiv__: Implements right-side floor division. (Numeric types)\n",
    "\n",
    "-   __rlshift__: Implements right-side left shift. (Numeric types)\n",
    "\n",
    "-   __rmod__: Implements right-side modulo. (Numeric types)\n",
    "\n",
    "-    __rmul__: Implements right-side multiplication. (Numeric types)\n",
    "\n",
    "-    __ror__: Implements right-side bitwise OR. (Numeric types)\n",
    "\n",
    "-    __rpow__: Implements right-side power. (Numeric types)\n",
    "\n",
    "-    __rrshift__: Implements right-side right shift. (Numeric types)\n",
    "\n",
    "-   __rsub__: Implements right-side subtraction. (Numeric types)\n",
    "\n",
    "-   __rtruediv__: Implements right-side true division. (Numeric types)\n",
    "\n",
    "-   __rxor__: Implements right-side bitwise XOR. (Numeric types)\n",
    "\n",
    "-   __setattr__: Sets the value of an attribute. (Object types)\n",
    "\n",
    "-   __subclasshook__: Checks if a class is a subclass. (Object types)\n",
    "\n",
    "-    as_integer_ratio: Returns a pair of integers representing the object as a ratio. (Numeric type: float)\n",
    "\n",
    "-     bit_count: Returns the number of set bits in the object. (Numeric types)\n",
    "\n",
    "-     bit_length: Returns the number of bits needed to represent the object in binary. (Numeric types)\n",
    "\n",
    "-     conjugate: Returns the complex conjugate of the object. (Complex number type)\n",
    "\n",
    "-     denominator: Returns the denominator of a fraction. (Fraction type)\n",
    "\n",
    "-     from_bytes: Creates an object from a bytes-like object. (Bytes type)\n",
    "\n",
    "-     imag: Returns the imaginary part of a complex number. (Complex number type)\n",
    "\n",
    "-     numerator: Returns the numerator of a fraction. (Fraction type)\n",
    "\n",
    "-     real: Returns the real part of a complex number. (Complex number type)\n",
    "\n",
    "-    to_bytes: Returns a bytes object representing the object. (Bytes type)"
   ]
  },
  {
   "cell_type": "markdown",
   "id": "3b57c7bd",
   "metadata": {},
   "source": [
    "## __new__ method:\n",
    "\n",
    "-   In Python the __new__() magic method is implicitly called before the __init__() method.\n",
    "\n",
    "-   The __new__() method returns a new object, which is then initialized by __init__()."
   ]
  },
  {
   "cell_type": "code",
   "execution_count": 34,
   "id": "8acc06df",
   "metadata": {},
   "outputs": [],
   "source": [
    "class Employee:\n",
    "    def __new__(cls):\n",
    "        print (\"__new__ magic method is called\")\n",
    "        inst = object.__new__(cls)\n",
    "        return inst\n",
    "    def __init__(self):\n",
    "        print (\"__init__ magic method is called\")\n",
    "        self.name='Satya'"
   ]
  },
  {
   "cell_type": "code",
   "execution_count": 35,
   "id": "517d1faf",
   "metadata": {},
   "outputs": [
    {
     "name": "stdout",
     "output_type": "stream",
     "text": [
      "__new__ magic method is called\n",
      "__init__ magic method is called\n"
     ]
    }
   ],
   "source": [
    "emp = Employee()"
   ]
  },
  {
   "cell_type": "markdown",
   "id": "27f4e185",
   "metadata": {},
   "source": [
    "## __init__ method:\n",
    "\n",
    "-    This method is Called after the instance has been created (by __new__()), but before it is returned to the caller. \n",
    "\n",
    "-    The __init__ method for initialization is invoked without any call, when an instance of a class is created, like                constructors in certain other programming languages such as C++, Java, C#, PHP, etc.\n",
    "\n",
    "-    The arguments are those passed to the class constructor expression.\n",
    "\n",
    "-     If a base class has an __init__() method, the derived class’s __init__() method, if any, must explicitly call it to ensure       proper initialization of the base class part of the instance; for example: super().__init__([args...]).\n",
    "\n",
    "-     Because __new__() and __init__() work together in constructing objects (__new__() to create it, and __init__() to               customize it), \n"
   ]
  },
  {
   "cell_type": "code",
   "execution_count": 1,
   "id": "37468bac",
   "metadata": {},
   "outputs": [
    {
     "name": "stdout",
     "output_type": "stream",
     "text": [
      "<__main__.String object at 0x0000026B1AACF850>\n"
     ]
    }
   ],
   "source": [
    "# declare our own string class\n",
    "class String:\n",
    "     \n",
    "    # magic method to initiate object\n",
    "    def __init__(self, string):\n",
    "        self.string = string\n",
    "         \n",
    "# Driver Code\n",
    "if __name__ == '__main__':\n",
    "     \n",
    "    # object creation\n",
    "    string1 = String('Hello')\n",
    " \n",
    "    # print object location\n",
    "    print(string1)"
   ]
  },
  {
   "cell_type": "markdown",
   "id": "470e6dd9",
   "metadata": {},
   "source": [
    "## __del__\n",
    "\n",
    "-    __del__ is a destructor method which is called as soon as all references of the object are deleted i.e when an object is        garbage collected.\n",
    "\n",
    "##### Syntax:\n",
    "\n",
    "-    def __del__(self):\n",
    "     body of destructor\n",
    "     .\n",
    "     ."
   ]
  },
  {
   "cell_type": "code",
   "execution_count": 36,
   "id": "c43318e6",
   "metadata": {},
   "outputs": [
    {
     "name": "stdout",
     "output_type": "stream",
     "text": [
      "Example Instance.\n",
      "Destructor called, Example deleted.\n"
     ]
    }
   ],
   "source": [
    "## By using del keyword we deleted the all references of object ‘obj’, therefore destructor invoked automatically.\n",
    "\n",
    "class Example:  \n",
    "    \n",
    "    # Initializing \n",
    "    def __init__(self):  \n",
    "        print(\"Example Instance.\") \n",
    "  \n",
    "    # Calling destructor \n",
    "    def __del__(self):  \n",
    "        print(\"Destructor called, Example deleted.\")  \n",
    "    \n",
    "obj = Example()  \n",
    "del obj  "
   ]
  },
  {
   "cell_type": "code",
   "execution_count": null,
   "id": "ef08b2f7",
   "metadata": {},
   "outputs": [],
   "source": [
    "In the above example, the destructor was called after the program ended or when all the references to object are deleted i.e when the reference count becomes zero, not when object went out of scope."
   ]
  },
  {
   "cell_type": "markdown",
   "id": "eceb4b0b",
   "metadata": {},
   "source": [
    "## __trunc__\n",
    "\n",
    "-   The Python __trunc__() method implements the behavior of the math.trunc() function.\n",
    "\n",
    "##### Syntax :\n",
    "\n",
    "-     object.__trunc__(self)\n",
    "\n",
    "-    For example, if you attempt to call math.trunc(x), Python will run the x.__trunc__() method to obtain the return value."
   ]
  },
  {
   "cell_type": "code",
   "execution_count": 39,
   "id": "a8bfe210",
   "metadata": {},
   "outputs": [],
   "source": [
    "import math\n",
    "class Person:\n",
    "    def __init__(self, age):\n",
    "        self.age = age\n",
    "    def __trunc__(self):\n",
    "        return 99\n"
   ]
  },
  {
   "cell_type": "code",
   "execution_count": 41,
   "id": "550175da",
   "metadata": {},
   "outputs": [
    {
     "name": "stdout",
     "output_type": "stream",
     "text": [
      "99\n",
      "99\n"
     ]
    }
   ],
   "source": [
    "isha = Person(42.99999)\n",
    "print(math.trunc(isha))\n",
    "\n",
    "ayra = Person(42.0)\n",
    "print(math.trunc(ayra))\n"
   ]
  },
  {
   "cell_type": "markdown",
   "id": "07fb9f1c",
   "metadata": {},
   "source": [
    "## __ceil__\n",
    "\n",
    "-   The Python __ceil__() method implements the behavior of the math.ceil() function.\n",
    "\n",
    "-   The math.ceil() method rounds a number UP to the nearest integer, if necessary, and returns the result.\n",
    "\n",
    "##### syntax\n",
    "\n",
    "-   object.__ceil__(self)\n",
    "\n",
    "-   If we  attempt to call math.ceil(x), Python will run the x.__ceil__() method to obtain the return value."
   ]
  },
  {
   "cell_type": "code",
   "execution_count": 42,
   "id": "96799f55",
   "metadata": {},
   "outputs": [],
   "source": [
    "import math\n",
    "class Person:\n",
    "    def __init__(self, age):\n",
    "        self.age = age\n",
    "    def __ceil__(self): # round up age\n",
    "        floor_value = int(self.age)\n",
    "        if floor_value < self.age:\n",
    "            return floor_value + 1\n",
    "        return floor_value"
   ]
  },
  {
   "cell_type": "code",
   "execution_count": 44,
   "id": "b933a61d",
   "metadata": {},
   "outputs": [
    {
     "name": "stdout",
     "output_type": "stream",
     "text": [
      "43\n",
      "42\n"
     ]
    }
   ],
   "source": [
    "isha = Person(42.42424242)\n",
    "print(math.ceil(isha))\n",
    "\n",
    "ayra = Person(42.0)\n",
    "print(math.ceil(ayra))"
   ]
  },
  {
   "cell_type": "markdown",
   "id": "b101edbc",
   "metadata": {},
   "source": [
    "## __floor__\n",
    "\n",
    "-   The Python __floor__() method implements the behavior of the math.floor() function.\n",
    "\n",
    "##### Syntax:\n",
    "\n",
    "-    object.__floor__(self)\n",
    "\n",
    "-   If you attempt to call math.floor(x), Python will run the x.__floor__() method to obtain the return value."
   ]
  },
  {
   "cell_type": "code",
   "execution_count": 46,
   "id": "409fdeba",
   "metadata": {},
   "outputs": [],
   "source": [
    "import math\n",
    "class Person:\n",
    "    def __init__(self, age):\n",
    "        self.age = age\n",
    "    def __floor__(self):\n",
    "        floor_value = int(self.age) # round down the age\n",
    "        return floor_value\n"
   ]
  },
  {
   "cell_type": "markdown",
   "id": "9a80c4fa",
   "metadata": {},
   "source": [
    "isha = Person(42.99999)\n",
    "print(math.floor(isha))\n",
    "\n",
    "ayra = Person(42.0)\n",
    "print(math.floor(ayra))\n"
   ]
  },
  {
   "cell_type": "markdown",
   "id": "c284c9d5",
   "metadata": {},
   "source": [
    "## __round__\n",
    "\n",
    "-   The Python __round__() method implements the built-in round() function.\n",
    "\n",
    "-   The round() function returns a floating point number that is a rounded version of the specified number, with the specified     number of decimals.\n",
    "\n",
    "-   The default number of decimals is 0, meaning that the function will return the nearest integer.\n",
    "\n",
    "##### Syntax\n",
    "\n",
    "-   object.__round__(self, ndigits=0)\n",
    "\n",
    "-    For example, if you attempt to call round(x) or round(x, ndigits), Python will run the x.__round__() or                        x.__round__(ndigits) method, respectively."
   ]
  },
  {
   "cell_type": "code",
   "execution_count": 48,
   "id": "76d296da",
   "metadata": {},
   "outputs": [],
   "source": [
    "class Person:\n",
    "    def __init__(self, age):\n",
    "        self.age = age\n",
    "    def __round__(self, ndigits=0):\n",
    "        return round(self.age)"
   ]
  },
  {
   "cell_type": "code",
   "execution_count": 49,
   "id": "d96d479a",
   "metadata": {},
   "outputs": [
    {
     "name": "stdout",
     "output_type": "stream",
     "text": [
      "42\n"
     ]
    }
   ],
   "source": [
    "isha = Person(42.42424242)\n",
    "print(round(isha))"
   ]
  },
  {
   "cell_type": "markdown",
   "id": "3a78287b",
   "metadata": {},
   "source": [
    "## __invert__\n",
    "\n",
    "-   The Python __invert__() method implements the unary arithmetic operation bitwise NOT ~.\n",
    "\n",
    "##### Syntax\n",
    "\n",
    "-    object.__invert__(self)\n",
    "\n",
    "-    So, when you cal ~x, Python will internally call x.__invert__() to obtain the inverted object. If the method is not            implemented, Python will raise a TypeError."
   ]
  },
  {
   "cell_type": "code",
   "execution_count": null,
   "id": "8bf8bc7a",
   "metadata": {},
   "outputs": [],
   "source": [
    "Python’s bitwise NOT operator ~x inverts each bit from the binary representation of integer x so that 0 becomes 1 and 1 becomes 0.\n",
    "This is semantically the same as calculating ~x == -x-1. \n",
    "For example, the bitwise NOT expression ~0 becomes -1, ~9 becomes -10, and ~32 becomes -33."
   ]
  },
  {
   "cell_type": "code",
   "execution_count": 5,
   "id": "f490d360",
   "metadata": {},
   "outputs": [],
   "source": [
    "class BinaryNumber:\n",
    "    def __init__(self, value):\n",
    "        self.value = value\n",
    "        \n",
    "    def  __invert__(self):\n",
    "        inverted_value = ~self.value\n",
    "        return BinaryNumber(inverted_value)\n",
    "    def __repr__(self):\n",
    "        return bin(self.value)"
   ]
  },
  {
   "cell_type": "code",
   "execution_count": 7,
   "id": "cc2b6f3f",
   "metadata": {},
   "outputs": [
    {
     "name": "stdout",
     "output_type": "stream",
     "text": [
      "original Binary Number: 0b101010\n",
      "Inverted Binary Number: -0b101011\n"
     ]
    }
   ],
   "source": [
    "binary_num = BinaryNumber(0b101010)\n",
    "## bitwise Not operator(~)\n",
    "inverted_num = ~binary_num\n",
    "print(\"original Binary Number:\",binary_num)\n",
    "print(\"Inverted Binary Number:\", inverted_num)"
   ]
  },
  {
   "cell_type": "markdown",
   "id": "afba1ca4",
   "metadata": {},
   "source": [
    "### __abs__ :\n",
    "\n",
    "-   __abs__() special method is used to define the behavior of the absolute value for instances of a class.\n",
    "\n",
    "-   When you apply the abs() function to an object, Python internally calls the __abs__() method of that object, if it's           defined.\n",
    "\n",
    "-  __abs__() method can be utilized in a decorator to modify the behavior of functions that return objects with an absolute        value.\n",
    "\n",
    "-  Used to implement the abs() built-in function. It returns the absolute value of the object.\n"
   ]
  },
  {
   "cell_type": "code",
   "execution_count": 8,
   "id": "d6e0a9c6",
   "metadata": {},
   "outputs": [],
   "source": [
    "class MyObject:\n",
    "    def __init__(self, value):\n",
    "        self.value = value\n",
    "    def __abs__(self):\n",
    "        return abs(self.value)"
   ]
  },
  {
   "cell_type": "code",
   "execution_count": 10,
   "id": "9702fd54",
   "metadata": {},
   "outputs": [
    {
     "name": "stdout",
     "output_type": "stream",
     "text": [
      "18\n"
     ]
    }
   ],
   "source": [
    "num = MyObject(-18)\n",
    "result = abs(num)\n",
    "print(result)"
   ]
  },
  {
   "cell_type": "markdown",
   "id": "b3807625",
   "metadata": {},
   "source": [
    "## __neg__ :\n",
    "\n",
    "-   The __neg__ method is a special method in Python used to define the behavior of the unary negation operation (-) on             instances of a class.\n",
    "\n",
    "-   It is automatically called when the - operator is applied to objects of the class in a unary context. The __neg__ method       returns the negated value of the object.\n",
    "\n",
    "-   This method is used to define the behavior of the unary negation operator(-) when applied to instances of a class.\n"
   ]
  },
  {
   "cell_type": "code",
   "execution_count": 11,
   "id": "ac4f67b0",
   "metadata": {},
   "outputs": [],
   "source": [
    "class CustomNumber:\n",
    "    def __init__(self, value):\n",
    "        self.value = value\n",
    "        \n",
    "    def __neg__(self):\n",
    "        #negate the value\n",
    "        return CustomNumber(-self.value)"
   ]
  },
  {
   "cell_type": "code",
   "execution_count": null,
   "id": "8fb2ae3e",
   "metadata": {},
   "outputs": [],
   "source": [
    "number = CustomNumber(5)\n",
    "# using the unary negation operator (-)\n",
    "negated_number = -number\n",
    "print(\"Original Number:\", number.value)\n",
    "print(\"Negated Number:\", negated_number.value)"
   ]
  },
  {
   "cell_type": "markdown",
   "id": "488b0b73",
   "metadata": {},
   "source": [
    "## __pos__ :\n",
    "\n",
    "-   The __pos__ method is a special method in Python used to define the behavior of the unary positive operation (+) on              instances of a class.\n",
    "\n",
    "-   It is automatically called when the + operator is applied to objects of the class in a unary context. The __pos__ method       returns the unchanged value of the object\n",
    "\n",
    "-   This method is used to define the behavior of the unary plus operator + when applied to instances of a class."
   ]
  },
  {
   "cell_type": "code",
   "execution_count": 14,
   "id": "e10ec774",
   "metadata": {},
   "outputs": [],
   "source": [
    "class Number:\n",
    "    def __init__(self, value):\n",
    "        self.value = value\n",
    "        \n",
    "    def __pos__(self):\n",
    "        #return the unchanged value\n",
    "        return self\n",
    "    \n",
    "    def __repr__(self):\n",
    "        return str(self.value)"
   ]
  },
  {
   "cell_type": "code",
   "execution_count": null,
   "id": "5b14df18",
   "metadata": {},
   "outputs": [],
   "source": [
    "num = Number(24)\n",
    "# using the unary positive operator (+)\n",
    "positivenumber = +num\n",
    "print(\"Original Number:\", num)\n",
    "print(\"Positive Number:\", positivenumber)"
   ]
  },
  {
   "cell_type": "markdown",
   "id": "3fc11f9d",
   "metadata": {},
   "source": [
    "## __add__ :\n",
    "\n",
    "-   __add__ special method is used to define the behavior of the addition operation for instances of a class.\n",
    "\n",
    "-   When you use the + operator on objects of a class, Python internally calls the __add__ method of those objects if it's         defined.\n",
    "\n",
    "-   Used to implement the + operator. It defines the behavior when two objects are added.\n",
    "\n",
    "##### Syntax\n",
    "\n",
    "-    object.__add__(self, other)\n",
    "\n",
    "-    Python’s object.__add__(self, other) method returns a new object that represents the sum of two objects. It implements the      addition operator + in Python."
   ]
  },
  {
   "cell_type": "code",
   "execution_count": 16,
   "id": "32a7f9e1",
   "metadata": {},
   "outputs": [],
   "source": [
    "class Data:\n",
    "    def __init__(self, value):\n",
    "        self.value = value\n",
    "        \n",
    "    def __add__(self, other):\n",
    "        return Data(self.value + other.value)"
   ]
  },
  {
   "cell_type": "code",
   "execution_count": 17,
   "id": "56ee7430",
   "metadata": {},
   "outputs": [
    {
     "name": "stdout",
     "output_type": "stream",
     "text": [
      "42\n"
     ]
    }
   ],
   "source": [
    "\n",
    "a = Data(40)\n",
    "b = Data(2)\n",
    "c = a + b\n",
    "print(c.value)"
   ]
  },
  {
   "cell_type": "markdown",
   "id": "7fbd67f0",
   "metadata": {},
   "source": [
    "## __sub__ :\n",
    "\n",
    "-   These methods define how instances of a class behave in various situations.\n",
    "\n",
    "-   The __sub__ method, specifically, is used to define the behavior of the subtraction operator (-) for objects of a class.\n",
    "\n",
    "-   The __sub__ method allows you to customize the behavior of the subtraction operator for instances of your class\n",
    "\n",
    "##### Syntax\n",
    "\n",
    "-   object.__sub__(self, other)\n",
    "\n",
    "-   Python’s object.__sub__(self, other) method returns a new object that represents the difference of two objects. It             implements the subtraction operator - in Python."
   ]
  },
  {
   "cell_type": "code",
   "execution_count": 18,
   "id": "050b0ea1",
   "metadata": {},
   "outputs": [],
   "source": [
    "class Data:\n",
    "    def __init__(self, value):\n",
    "        self.value = value\n",
    "        \n",
    "    def __sub__(self, other):\n",
    "        return Data(self.value - other.value)\n"
   ]
  },
  {
   "cell_type": "code",
   "execution_count": 19,
   "id": "74b1bd64",
   "metadata": {},
   "outputs": [
    {
     "name": "stdout",
     "output_type": "stream",
     "text": [
      "42\n"
     ]
    }
   ],
   "source": [
    "a = Data(44)\n",
    "b = Data(2)\n",
    "c = a - b\n",
    "print(c.value)"
   ]
  },
  {
   "cell_type": "markdown",
   "id": "fb269950",
   "metadata": {},
   "source": [
    "## __mul__ :\n",
    "\n",
    "-   The __mul__ method is a special method in Python used to define the behavior of the multiplication operation (*) on             instances of a class.\n",
    "\n",
    "-   It is automatically called when the * operator is applied to objects of the class. The multiplication operation involves        multiplying two values together\n",
    "\n",
    "-    This method is used to define the behavior of the multiplication operator * when applied to instances of a class.\n",
    "\n",
    "##### Syntax\n",
    "\n",
    "-    object.__mul__(self, other)\n",
    "\n",
    "-    The Python __mul__() method is called to implement the arithmetic multiplication operation *. For example to evaluate the      expression x * y, Python attempts to call x.__mul__(y)."
   ]
  },
  {
   "cell_type": "code",
   "execution_count": 20,
   "id": "65d37d41",
   "metadata": {},
   "outputs": [],
   "source": [
    "class Data:\n",
    "    def __init__(self, value):\n",
    "        self.value = value\n",
    "        \n",
    "    def __mul__(self, other):\n",
    "        return Data(self.value * other.value)"
   ]
  },
  {
   "cell_type": "code",
   "execution_count": 21,
   "id": "b16ade8d",
   "metadata": {},
   "outputs": [
    {
     "name": "stdout",
     "output_type": "stream",
     "text": [
      "42\n"
     ]
    }
   ],
   "source": [
    "a = Data(21)\n",
    "b = Data(2)\n",
    "c = a * b\n",
    "print(c.value)"
   ]
  },
  {
   "cell_type": "markdown",
   "id": "b4fda0c1",
   "metadata": {},
   "source": [
    "## __floordiv__ :\n",
    "\n",
    "-   The __floordiv__ method in Python is a special method, or dunder method, that defines the behavior of the floor division       operator (//) for instances of a class.\n",
    "\n",
    "-   When you use the // operator to perform floor division on objects of a class, Python internally calls the __floordiv__         method to determine the result of the operation.\n",
    "\n",
    "-   This method is used to define the behavior of the floor division operator // when applied to instances of a class.\n",
    "\n",
    "##### Syntax\n",
    "\n",
    "-    object.__floordiv__(self, other)\n",
    "\n",
    "-    The Python __floordiv__() method implements the integer division operation // called floor division\n",
    "\n",
    "-   For example to evaluate the expression x // y, Python attempts to call x.__floordiv__(y)\n",
    "\n",
    "-    If the method is not implemented, Python first attempts to call __rfloordiv__ on the right operand and if this isn’t            implemented either, it raises a TypeError.    "
   ]
  },
  {
   "cell_type": "code",
   "execution_count": 32,
   "id": "6ab4bd34",
   "metadata": {},
   "outputs": [],
   "source": [
    "class Number:\n",
    "        \n",
    "    def __init__(self, value):\n",
    "        self.value = value\n",
    "        \n",
    "    def __floordiv__(self, divisor):\n",
    "        if isinstance(divisor, (int, float)):\n",
    "            return Number(self.value // divisor)\n",
    "        else:\n",
    "            raise TypeError(\"Unsupported operand type\")\n",
    "    "
   ]
  },
  {
   "cell_type": "code",
   "execution_count": 34,
   "id": "7539f075",
   "metadata": {},
   "outputs": [
    {
     "name": "stdout",
     "output_type": "stream",
     "text": [
      "Result of 15 // 2: 7\n"
     ]
    }
   ],
   "source": [
    "numerator = Number(15)\n",
    "divisor = 2\n",
    "result = numerator // divisor\n",
    "print(f\"Result of {numerator.value} // {divisor}: {result.value}\")\n"
   ]
  },
  {
   "cell_type": "markdown",
   "id": "0325ad9d",
   "metadata": {},
   "source": [
    "## __truediv__ :\n",
    "\n",
    "-   One such dunder method is __truediv__ , which is used to implement the division operation (/) for objects of a class.\n",
    "\n",
    "#### Syntax\n",
    "\n",
    "-    object.__truediv__(self, other)\n",
    "\n",
    "-    The Python __truediv__() method is called to implement the normal division operation / called true division\n",
    "\n",
    "-    For example to evaluate the expression x / y, Python attempts to call x.__truediv__(y)."
   ]
  },
  {
   "cell_type": "code",
   "execution_count": 29,
   "id": "e30ce2f2",
   "metadata": {},
   "outputs": [],
   "source": [
    "class MyNumber:\n",
    "    def __init__(self, value):\n",
    "        self.value = value\n",
    "        \n",
    "    def __truediv__(self, other):\n",
    "        if other.value == 0:\n",
    "            raise ValueError(\"Cannot divide by zero\")\n",
    "        return MyNumber(self.value / other.value)    \n",
    "    def __repr__(self):\n",
    "        return str(self.value)"
   ]
  },
  {
   "cell_type": "code",
   "execution_count": 30,
   "id": "13aad7fc",
   "metadata": {},
   "outputs": [
    {
     "name": "stdout",
     "output_type": "stream",
     "text": [
      "5.0\n"
     ]
    }
   ],
   "source": [
    "num1 = MyNumber(10)\n",
    "num2 = MyNumber(2)\n",
    "# using the __truediv__ method\n",
    "result = num1 / num2\n",
    "print(result)"
   ]
  },
  {
   "cell_type": "markdown",
   "id": "e461579b",
   "metadata": {},
   "source": [
    "##  __mod__ :\n",
    "\n",
    "-    The __mod__ method is a special method in Python used to define the behavior of the modulo operation (%) on instances of a      class.\n",
    "\n",
    "-    It is automatically called when the % operator is applied to objects of the class\n",
    "\n",
    "-    This method is used to define the behavior of the modulo operator % when applied to instances of a class\n",
    "\n",
    "#### Syntax\n",
    "\n",
    "-    object.__mod__(self, other)\n",
    "\n",
    "-    The Python __mod__() method implements the modulo operation % that per default returns the remainder of dividing the left      by the right operand.\n",
    "\n",
    "-    Python attempts to call x.__mod__(y) to implement the modulo operation x%y\n"
   ]
  },
  {
   "cell_type": "code",
   "execution_count": 36,
   "id": "52ae0312",
   "metadata": {},
   "outputs": [],
   "source": [
    "class CustomNumber:\n",
    "    def __init__(self, value):\n",
    "        self.value = value\n",
    "     \n",
    "    def __mod__(self, other):\n",
    "        # calculates the remainder of the division \n",
    "        return self.value % other.value"
   ]
  },
  {
   "cell_type": "code",
   "execution_count": 38,
   "id": "7c417a10",
   "metadata": {},
   "outputs": [
    {
     "name": "stdout",
     "output_type": "stream",
     "text": [
      "Number 1: 10\n",
      "Number 2: 3\n",
      "Remainder of Number 1 / Number 2: 1\n"
     ]
    }
   ],
   "source": [
    "number1 = CustomNumber(10)\n",
    "number2 = CustomNumber(3)\n",
    "# using the modulo operator(%)\n",
    "remainder = number1 % number2\n",
    "print(\"Number 1:\", number1.value)\n",
    "print(\"Number 2:\",number2.value)\n",
    "print(\"Remainder of Number 1 / Number 2:\", remainder)"
   ]
  },
  {
   "cell_type": "markdown",
   "id": "3f826551",
   "metadata": {},
   "source": [
    "## __divmod__:\n",
    "\n",
    "-   The __divmod__method in Python is a special method, or dunder method, that allows you to customize the behavior of the         __divmod__ function for instances of a class.\n",
    "\n",
    "-   The divmod() function takes two arguments and returns a pair of numbers (a tuple) consisting of their quotient and             remainder.\n",
    "\n",
    "-   By implementing the __divmod__ method in a class, you can define how instances of that class behave when the divmod()           function is applied to them.\n",
    "\n",
    "-   This method is called to implement the behavior of the divmod() built-in function, which takes two arguments and returns a     pair of numbers (a tuple) consisting of their quotient and remainder.\n",
    "\n",
    "##### Syntax\n",
    "\n",
    "-   object.__divmod__(self, other)\n",
    "\n",
    "-   The Python __divmod__() method implements the built-in divmod operation. So, when you call divmod(a, b), Python attempts to     call x.__divmod__(y).\n"
   ]
  },
  {
   "cell_type": "code",
   "execution_count": 5,
   "id": "22f96a76",
   "metadata": {},
   "outputs": [],
   "source": [
    "class CustomNumber:\n",
    "    def __init__(self, value):\n",
    "        self.value = value\n",
    "\n",
    "    def __divmod__(self, other):\n",
    "        if other == 0:\n",
    "            raise ValueError(\"Cannot divide by zero.\")\n",
    "        \n",
    "        quotient = self.value // other.value\n",
    "        remainder = self.value % other.value\n",
    "        return CustomNumber(quotient), CustomNumber(remainder)"
   ]
  },
  {
   "cell_type": "code",
   "execution_count": 6,
   "id": "1f67bd82",
   "metadata": {},
   "outputs": [
    {
     "name": "stdout",
     "output_type": "stream",
     "text": [
      "Quotient: 3, Remainder: 1\n"
     ]
    }
   ],
   "source": [
    "# Create instances of CustomNumber\n",
    "num1 = CustomNumber(10)\n",
    "num2 = CustomNumber(3)\n",
    "\n",
    "# Use divmod() with instances of CustomNumber\n",
    "result = divmod(num1, num2)\n",
    "\n",
    "print(f\"Quotient: {result[0].value}, Remainder: {result[1].value}\")"
   ]
  },
  {
   "cell_type": "markdown",
   "id": "6bd2b487",
   "metadata": {},
   "source": [
    "## __pow__:\n",
    "\n",
    "-   The __pow__ method is a special method in Python used to define the behavior of the exponentiation operation (**) on           instances of a class.\n",
    "\n",
    "-    It is automatically called when the ** operator is applied to objects of the class. The __pow__ method allows you to            customize how instances of your class are raised to a power.\n",
    "\n",
    "-    This method is used to define the behavior of the power operator ** when applied to instances of a class.\n",
    "\n",
    "##### Syntax\n",
    "\n",
    "-    object.__pow__(self, other)\n",
    "\n",
    "-    The Python __pow__() method implements the built-in exponentiation operation. So, when you call pow(a, b) or a ** b,            Python attempts to call x.__pow__(y)."
   ]
  },
  {
   "cell_type": "code",
   "execution_count": 7,
   "id": "f85afa43",
   "metadata": {},
   "outputs": [],
   "source": [
    "class CustomNumber:\n",
    "    def __init__(self, value):\n",
    "        self.value = value\n",
    "\n",
    "    def __pow__(self, exponent):\n",
    "        result = self.value ** exponent\n",
    "        return result"
   ]
  },
  {
   "cell_type": "code",
   "execution_count": null,
   "id": "1ffbd162",
   "metadata": {},
   "outputs": [],
   "source": [
    "# Creating an instance of CustomNumber\n",
    "num = CustomNumber(3)\n",
    "\n",
    "# Using the exponentiation operator with CustomNumber object\n",
    "result = num ** 4\n",
    "\n",
    "print(f\"{num.value} raised to the power of 4 is:\", result) "
   ]
  },
  {
   "cell_type": "markdown",
   "id": "50bd7314",
   "metadata": {},
   "source": [
    "## __lshift__:\n",
    "\n",
    "-   The __lshift__ method is a special method in Python that is used to define the behavior of the left shift operation (<<) on     instances of a class. It is automatically called when the << operator is applied to objects of the class.\n",
    "\n",
    "-   The left shift operation shifts the bits of the binary representation of a number to the left by a specified number of         positions\n",
    "\n",
    "-   This method is used to define the behavior of the left shift operator << when applied to instances of a class.\n",
    "\n",
    "##### Syntax\n",
    "\n",
    "-   object.__ilshift__(self, other)\n",
    "\n",
    "-    The Python __ilshift__() magic method implements in-place bitwise left-shift operation x <<= y that calculates the left-        shift operation x << y, and assigns the result to the first operands variable x. This operation is also called augmented        arithmetic assignment. The method simply returns the new value to be assigned to the first operand."
   ]
  },
  {
   "cell_type": "code",
   "execution_count": 9,
   "id": "9af54278",
   "metadata": {},
   "outputs": [],
   "source": [
    "class CustomNumber:\n",
    "    def __init__(self, value):\n",
    "        self.value = value\n",
    "\n",
    "    def __lshift__(self, shift):\n",
    "        return self.value << shift\n"
   ]
  },
  {
   "cell_type": "code",
   "execution_count": 12,
   "id": "fec6e22b",
   "metadata": {},
   "outputs": [
    {
     "name": "stdout",
     "output_type": "stream",
     "text": [
      "Result: 32\n"
     ]
    }
   ],
   "source": [
    "# Creating an instance of CustomNumber\n",
    "num = CustomNumber(8)\n",
    "\n",
    "# Using the left shift operator with CustomNumber object\n",
    "result = num << 2\n",
    "print(\"Result:\", result) "
   ]
  },
  {
   "cell_type": "markdown",
   "id": "87a90c05",
   "metadata": {},
   "source": [
    "## __rshift__:\n",
    "\n",
    "-    The __rshift__ method is one such dunder method, and it is used to define the behavior of the right shift operator (>>)        when applied to objects of a class.\n",
    "\n",
    "-    Here are a few things to note about the __rshift__ method:\n",
    "\n",
    "-    The method is called when the right shift operator (>>) is applied to an object of the class.\n",
    "\n",
    "-    The method takes two parameters: self (the instance of the class) and other(the right operand of the right shift                operator).\n",
    "\n",
    "-    The method should return the result of the right shift operation\n",
    "\n",
    "##### Syntax\n",
    "\n",
    "-    object.__rshift__(self, other)\n",
    "\n",
    "-    The Python __rshift__() method implements the built-in >> operation. So, when you cal x >> y, Python attempts to call          x.__rshift__(y)."
   ]
  },
  {
   "cell_type": "code",
   "execution_count": 2,
   "id": "5f67499c",
   "metadata": {},
   "outputs": [],
   "source": [
    "class MyClass:\n",
    "    def __init__(self, value):\n",
    "        self.value = value\n",
    "\n",
    "    # Define the right-shift dunder method\n",
    "    def __rshift__(self, other):\n",
    "        if isinstance(other, MyClass):\n",
    "            # Custom logic for the right-shift operation\n",
    "            result_value = self.value >> other.value\n",
    "            return MyClass(result_value)\n",
    "        else:\n",
    "            # Handle the case where the right operand is not of the expected type\n",
    "            raise ValueError(\"Right operand must be an instance of MyClass\")\n"
   ]
  },
  {
   "cell_type": "code",
   "execution_count": null,
   "id": "b27508f3",
   "metadata": {},
   "outputs": [],
   "source": [
    "# Create instances of MyClass\n",
    "obj1 = MyClass(8)\n",
    "obj2 = MyClass(2)\n",
    "\n",
    "# Use the right-shift operator (>>)\n",
    "result_obj = obj1 >> obj2\n",
    "\n",
    "# Display the result\n",
    "print(result_obj.value)"
   ]
  },
  {
   "cell_type": "markdown",
   "id": "f06de899",
   "metadata": {},
   "source": [
    "## __and__:\n",
    "\n",
    "-   __add__ special method is used to define the behavior of the bitwise AND operation for instances of a class.\n",
    "\n",
    "-    When you use the & operator on objects of a class, Python internally calls the __and__ method of those objects if it's          defined.\n",
    "\n",
    "-    Used to implement the & operator. It defines the behavior when two objects are bitwise ANDed.\n",
    "\n"
   ]
  },
  {
   "cell_type": "code",
   "execution_count": 4,
   "id": "62c88d9f",
   "metadata": {},
   "outputs": [],
   "source": [
    "class BitwiseNumber:\n",
    "    def __init__(self, value):\n",
    "        self.value = value\n",
    "\n",
    "    # Define the __and__ dunder method\n",
    "    def __and__(self, other):\n",
    "        if isinstance(other, BitwiseNumber):\n",
    "            # Perform bitwise AND operation on values\n",
    "            result_value = self.value & other.value\n",
    "            return BitwiseNumber(result_value)\n",
    "        else:\n",
    "            # Handle the case where the other operand is not of the expected type\n",
    "            raise ValueError(\"Right operand must be an instance of BitwiseNumber\")"
   ]
  },
  {
   "cell_type": "code",
   "execution_count": 5,
   "id": "1ad58fb0",
   "metadata": {},
   "outputs": [
    {
     "name": "stdout",
     "output_type": "stream",
     "text": [
      "2\n"
     ]
    }
   ],
   "source": [
    "# Create instances of BitwiseNumber\n",
    "num1 = BitwiseNumber(10)   # Binary: 1010\n",
    "num2 = BitwiseNumber(6)    # Binary: 0110\n",
    "\n",
    "# Use the bitwise AND operator (&)\n",
    "result = num1 & num2\n",
    "\n",
    "# Display the result\n",
    "print(result.value)"
   ]
  },
  {
   "cell_type": "markdown",
   "id": "31799771",
   "metadata": {},
   "source": [
    "## __or__:\n",
    "\n",
    "-  The __or__ method is a special method in Python used to define the behavior of the bitwise OR operation (|) on instances of    a class. It is automatically called when the |operator is applied to objects of the class.\n",
    "\n",
    "-  The bitwise OR operation combines the binary representations of two numbers, setting a bit to 1 if it is 1 in either or both    numbers.\n",
    "\n",
    "-  This method is used to define the behavior of the bitwise OR operator( | ) when applied to instances of a class.\n"
   ]
  },
  {
   "cell_type": "code",
   "execution_count": 6,
   "id": "4c240ce1",
   "metadata": {},
   "outputs": [],
   "source": [
    "class BitwiseNumber:\n",
    "    def __init__(self, value):\n",
    "        self.value = value\n",
    "\n",
    "    # Define the __and__ dunder method\n",
    "    def __and__(self, other):\n",
    "        if isinstance(other, BitwiseNumber):\n",
    "            # Perform bitwise AND operation on values\n",
    "            result_value = self.value & other.value\n",
    "            return BitwiseNumber(result_value)\n",
    "        else:\n",
    "            # Handle the case where the other operand is not of the expected type\n",
    "            raise ValueError(\"Right operand must be an instance of BitwiseNumber\")"
   ]
  },
  {
   "cell_type": "code",
   "execution_count": 8,
   "id": "85302ea0",
   "metadata": {},
   "outputs": [
    {
     "name": "stdout",
     "output_type": "stream",
     "text": [
      "2\n"
     ]
    }
   ],
   "source": [
    "# Create instances of BitwiseNumber\n",
    "num1 = BitwiseNumber(10)   # Binary: 1010\n",
    "num2 = BitwiseNumber(6)    # Binary: 0110\n",
    "\n",
    "# Use the bitwise AND operator (&)\n",
    "result = num1 & num2\n",
    "# Display the result\n",
    "print(result.value)"
   ]
  },
  {
   "cell_type": "markdown",
   "id": "e41d37ab",
   "metadata": {},
   "source": [
    "## __Xor__:\n",
    "\n",
    "-   The __xor__ method is one of these dunder methods, and it is used to implement the XOR (exclusive or) operation for objects     of a class.\n",
    "\n",
    "-   The XOR operation returns True if exactly one of the operands is true, and False otherwise.\n",
    "\n",
    "-   In Python, the __xor__ method allows you to define the behavior of the XOR operator (^) when applied to instances of a         class."
   ]
  },
  {
   "cell_type": "code",
   "execution_count": 10,
   "id": "6a12e2fd",
   "metadata": {},
   "outputs": [],
   "source": [
    "class BitwiseNumber:\n",
    "    def __init__(self, value):\n",
    "        self.value = value\n",
    "\n",
    "    # Define the __or__ dunder method\n",
    "    def __or__(self, other):\n",
    "        if isinstance(other, BitwiseNumber):\n",
    "            # Perform bitwise OR operation on values\n",
    "            result_value = self.value | other.value\n",
    "            return BitwiseNumber(result_value)\n",
    "        else:\n",
    "            # Handle the case where the other operand is not of the expected type\n",
    "            raise ValueError(\"Right operand must be an instance of BitwiseNumber\")\n"
   ]
  },
  {
   "cell_type": "code",
   "execution_count": 11,
   "id": "d869f2d8",
   "metadata": {},
   "outputs": [
    {
     "name": "stdout",
     "output_type": "stream",
     "text": [
      "14\n"
     ]
    }
   ],
   "source": [
    "# Create instances of BitwiseNumber\n",
    "num1 = BitwiseNumber(10)   # Binary: 1010\n",
    "num2 = BitwiseNumber(6)    # Binary: 0110\n",
    "\n",
    "# Use the bitwise OR operator (|)\n",
    "result = num1 | num2\n",
    "\n",
    "# Display the result\n",
    "print(result.value)"
   ]
  }
 ],
 "metadata": {
  "kernelspec": {
   "display_name": "Python 3 (ipykernel)",
   "language": "python",
   "name": "python3"
  },
  "language_info": {
   "codemirror_mode": {
    "name": "ipython",
    "version": 3
   },
   "file_extension": ".py",
   "mimetype": "text/x-python",
   "name": "python",
   "nbconvert_exporter": "python",
   "pygments_lexer": "ipython3",
   "version": "3.11.5"
  }
 },
 "nbformat": 4,
 "nbformat_minor": 5
}
