{
 "cells": [
  {
   "cell_type": "markdown",
   "id": "90467df2",
   "metadata": {},
   "source": [
    "## Patterns:\n",
    "\n",
    "\n",
    "-    Patterns can be printed in python using simple for loops.\n",
    "\n",
    "-    First outer loop is used to handle the number of rows and the Inner nested loop is used to handle the number of columns.\n",
    "\n",
    "-    Manipulating the print statements, different number patterns, alphabet patterns, or star patterns can be printed."
   ]
  },
  {
   "cell_type": "code",
   "execution_count": null,
   "id": "8be92092",
   "metadata": {},
   "outputs": [],
   "source": [
    "# right angled triangle\n",
    "\n",
    "'''\n",
    "*\n",
    "* *\n",
    "* * *\n",
    "* * * *\n",
    "\n",
    "  '''\n",
    "        *\n",
    "      * *\n",
    "    * * *\n",
    "  * * * *\n",
    "\n",
    " '''\n",
    " * * * * *\n",
    " * * * *\n",
    " * * *\n",
    " * *\n",
    " *"
   ]
  },
  {
   "cell_type": "markdown",
   "id": "dd2d50b1",
   "metadata": {},
   "source": [
    "#####  Right Angled Triangle Pattern(hypotheneous right side)"
   ]
  },
  {
   "cell_type": "code",
   "execution_count": 1,
   "id": "9de244a3",
   "metadata": {},
   "outputs": [
    {
     "name": "stdout",
     "output_type": "stream",
     "text": [
      "* \n",
      "* * \n",
      "* * * \n",
      "* * * * \n",
      "* * * * * \n"
     ]
    }
   ],
   "source": [
    "## For-loop\n",
    "r = 5\n",
    "for i in range(1, r+1):\n",
    "    for j in range(i):\n",
    "        print('*', end= ' ')\n",
    "    print()"
   ]
  },
  {
   "cell_type": "code",
   "execution_count": 3,
   "id": "4e73294a",
   "metadata": {},
   "outputs": [],
   "source": [
    "def fooTriangle(r, c):\n",
    "    for i in range(1, r+1):\n",
    "        for j in range(i):\n",
    "            print(c, end = ' ')\n",
    "        print()  "
   ]
  },
  {
   "cell_type": "code",
   "execution_count": 4,
   "id": "da0539fc",
   "metadata": {},
   "outputs": [
    {
     "name": "stdout",
     "output_type": "stream",
     "text": [
      "/ \n",
      "/ / \n",
      "/ / / \n",
      "/ / / / \n",
      "/ / / / / \n"
     ]
    }
   ],
   "source": [
    "fooTriangle(5, '/')"
   ]
  },
  {
   "cell_type": "code",
   "execution_count": 6,
   "id": "75538ded",
   "metadata": {},
   "outputs": [],
   "source": [
    "def fooTriangle(r):\n",
    "    for i in range(1, r+1):\n",
    "        for j in range(i):\n",
    "            print(j, end = ' ')\n",
    "        print() "
   ]
  },
  {
   "cell_type": "code",
   "execution_count": 7,
   "id": "2812b72c",
   "metadata": {},
   "outputs": [
    {
     "name": "stdout",
     "output_type": "stream",
     "text": [
      "0 \n",
      "0 1 \n",
      "0 1 2 \n",
      "0 1 2 3 \n",
      "0 1 2 3 4 \n"
     ]
    }
   ],
   "source": [
    "fooTriangle(5)"
   ]
  },
  {
   "cell_type": "code",
   "execution_count": null,
   "id": "bf39617b",
   "metadata": {},
   "outputs": [],
   "source": [
    " '''\n",
    " * * * * *\n",
    " * * * *\n",
    " * * *\n",
    " * *\n",
    " *\n",
    " '''"
   ]
  },
  {
   "cell_type": "markdown",
   "id": "d36e69b7",
   "metadata": {},
   "source": [
    "##### Reverse right angled triangle using for loop"
   ]
  },
  {
   "cell_type": "code",
   "execution_count": 8,
   "id": "b4846b2f",
   "metadata": {},
   "outputs": [
    {
     "name": "stdout",
     "output_type": "stream",
     "text": [
      "* * * * * \n",
      "* * * * \n",
      "* * * \n",
      "* * \n",
      "* \n"
     ]
    }
   ],
   "source": [
    "for i in range(5, 0, -1):\n",
    "    for j in range(i):\n",
    "        print('*', end= ' ')\n",
    "    print()"
   ]
  },
  {
   "cell_type": "code",
   "execution_count": 3,
   "id": "c48a7a69",
   "metadata": {},
   "outputs": [
    {
     "name": "stdout",
     "output_type": "stream",
     "text": [
      "0 1 2 3 4 \n",
      "0 1 2 3 \n",
      "0 1 2 \n",
      "0 1 \n",
      "0 \n"
     ]
    }
   ],
   "source": [
    "r=5\n",
    "for i in range(5,0,-1):\n",
    "    for j in range(i):\n",
    "        print(j, end=' ')\n",
    "    print()"
   ]
  },
  {
   "cell_type": "markdown",
   "id": "eddbd85a",
   "metadata": {},
   "source": [
    "##### Right Angle Triangle Pattern( hypotheneous on left side)"
   ]
  },
  {
   "cell_type": "code",
   "execution_count": 4,
   "id": "067fbe8b",
   "metadata": {},
   "outputs": [
    {
     "name": "stdout",
     "output_type": "stream",
     "text": [
      "        * \n",
      "      * * \n",
      "    * * * \n",
      "  * * * * \n",
      "* * * * * \n"
     ]
    }
   ],
   "source": [
    "n=5\n",
    "for i in range(1,r+1):\n",
    "    for j in range(r,i,-1):\n",
    "        print(' ',end=' ')\n",
    "    for j in range(1,i+1):\n",
    "        print('*',end=' ')\n",
    "    print()"
   ]
  },
  {
   "cell_type": "code",
   "execution_count": 5,
   "id": "d5bc08bd",
   "metadata": {},
   "outputs": [
    {
     "name": "stdout",
     "output_type": "stream",
     "text": [
      "        1 \n",
      "      1 2 \n",
      "    1 2 3 \n",
      "  1 2 3 4 \n",
      "1 2 3 4 5 \n"
     ]
    }
   ],
   "source": [
    "n=5\n",
    "for i in range(1,r+1):\n",
    "    for j in range(r,i,-1):\n",
    "        print(' ',end=' ')\n",
    "    for j in range(1,i+1):\n",
    "        print(j,end=' ')\n",
    "    print()"
   ]
  },
  {
   "cell_type": "code",
   "execution_count": null,
   "id": "aace0727",
   "metadata": {},
   "outputs": [],
   "source": [
    "'''\n",
    "    *\n",
    "  * * *\n",
    "* * * * *\n",
    "\n",
    "'''"
   ]
  },
  {
   "cell_type": "markdown",
   "id": "df2e4508",
   "metadata": {},
   "source": [
    "##### Upper pyramid"
   ]
  },
  {
   "cell_type": "code",
   "execution_count": 10,
   "id": "3393f3d6",
   "metadata": {},
   "outputs": [
    {
     "name": "stdout",
     "output_type": "stream",
     "text": [
      "          * \n",
      "        * * * \n",
      "      * * * * * \n",
      "    * * * * * * * \n",
      "  * * * * * * * * * \n"
     ]
    }
   ],
   "source": [
    "n = 5\n",
    "for i in range(n):\n",
    "    for j in range(i,n): \n",
    "        print(' ',end=' ')\n",
    "    for j in range(i):\n",
    "            print('*',end=' ')\n",
    "    for j in range(i+1):\n",
    "                print('*',end=' ')\n",
    "    print()          \n",
    "                \n",
    "    "
   ]
  },
  {
   "cell_type": "code",
   "execution_count": 7,
   "id": "4f3f4028",
   "metadata": {},
   "outputs": [
    {
     "name": "stdout",
     "output_type": "stream",
     "text": [
      "    0\n",
      "   012\n",
      "  01234\n",
      " 0123456\n",
      "012345678\n"
     ]
    }
   ],
   "source": [
    "r=5\n",
    "for i in range(1, r + 1):\n",
    "        for j in range(r - i):\n",
    "            print(\" \", end=\"\")\n",
    "        for j in range(2 * i - 1):\n",
    "            print(j, end=\"\")\n",
    "        print()"
   ]
  },
  {
   "cell_type": "markdown",
   "id": "14488a07",
   "metadata": {},
   "source": [
    "##### Lower pyramid"
   ]
  },
  {
   "cell_type": "code",
   "execution_count": 8,
   "id": "c943775e",
   "metadata": {},
   "outputs": [
    {
     "name": "stdout",
     "output_type": "stream",
     "text": [
      "* * * * * \n",
      " * * * * \n",
      "  * * * \n",
      "   * * \n",
      "    * \n"
     ]
    }
   ],
   "source": [
    "## using for loop\n",
    "r=5   \n",
    "for i in range(r, 0, -1):\n",
    "    for j in range(0, r - i):\n",
    "        print(end = ' ') \n",
    "    for j in range(0, i):\n",
    "        print('*', end = ' ')\n",
    "    print()"
   ]
  },
  {
   "cell_type": "markdown",
   "id": "1f7929b3",
   "metadata": {},
   "source": [
    "r=5\n",
    "for i in range(r, 0, -1):\n",
    "    for j in range(0, r - i):\n",
    "        print(end = ' ') \n",
    "    for j in range(0, i):\n",
    "        print(j, end = ' ')\n",
    "    print()"
   ]
  },
  {
   "cell_type": "code",
   "execution_count": 1,
   "id": "0935297d",
   "metadata": {},
   "outputs": [
    {
     "name": "stdout",
     "output_type": "stream",
     "text": [
      "* * * * * * * * * \n",
      "  * * * * * * * \n",
      "    * * * * * \n",
      "      * * * \n",
      "        * \n"
     ]
    }
   ],
   "source": [
    "def fooPattern(n):\n",
    "    for i in range(n):\n",
    "        for j in range(i):\n",
    "            print(' ', end=' ')\n",
    "        for j in range((n-i)*2-1):\n",
    "            print('*', end=' ')\n",
    "        print()\n",
    "        \n",
    "fooPattern(5)"
   ]
  },
  {
   "cell_type": "markdown",
   "id": "0d12cfa6",
   "metadata": {},
   "source": [
    "##### Pattern-M"
   ]
  },
  {
   "cell_type": "code",
   "execution_count": 2,
   "id": "4e175cd6",
   "metadata": {},
   "outputs": [
    {
     "name": "stdout",
     "output_type": "stream",
     "text": [
      "*     *\n",
      "**   **\n",
      "* * * *\n",
      "*  *  *\n",
      "*     *\n",
      "*     *\n",
      "*     *\n"
     ]
    }
   ],
   "source": [
    "def fooPattern(n):\n",
    "    for i in range(0,n):\n",
    "        for j in range(0,n):\n",
    "            if j==0 or j==6 or ((i==j) and (j>0 and j<4)) or (i==1 and j==5) or (i==2 and j==4):\n",
    "                print(\"*\", end=\"\")\n",
    "            else:\n",
    "                print(end=\" \")\n",
    "        print()\n",
    "        \n",
    "fooPattern(7)\n"
   ]
  },
  {
   "cell_type": "markdown",
   "id": "9297307c",
   "metadata": {},
   "source": [
    "##### Rhombus Pattern"
   ]
  },
  {
   "cell_type": "code",
   "execution_count": 10,
   "id": "fd5a39b5",
   "metadata": {},
   "outputs": [
    {
     "name": "stdout",
     "output_type": "stream",
     "text": [
      "          * \n",
      "        * * * \n",
      "      * * * * * \n",
      "    * * * * * * * \n",
      "  * * * * * * * * * \n",
      "* * * * * * * * * * * \n",
      "  * * * * * * * * * \n",
      "    * * * * * * * \n",
      "      * * * * * \n",
      "        * * * \n",
      "          * \n"
     ]
    }
   ],
   "source": [
    "## using for loop\n",
    "r=3\n",
    "for i in range(n):\n",
    "    for j in range(i,n):\n",
    "        print(' ',end=' ')\n",
    "    for j in range(i):\n",
    "        print('*',end=' ')\n",
    "    for j in range(i+1):\n",
    "        print('*',end=' ')\n",
    "    print()\n",
    "for i in range(n,-1,-1):\n",
    "    for j in range(i,n):\n",
    "        print(' ',end=' ')\n",
    "    for j in range(i):\n",
    "        print('*',end=' ')\n",
    "    for j in range(i+1):\n",
    "        print('*',end=' ')\n",
    "    print()"
   ]
  },
  {
   "cell_type": "code",
   "execution_count": 11,
   "id": "acb2ab71",
   "metadata": {},
   "outputs": [
    {
     "name": "stdout",
     "output_type": "stream",
     "text": [
      "          0 \n",
      "        0 0 1 \n",
      "      0 1 0 1 2 \n",
      "    0 1 2 0 1 2 3 \n",
      "  0 1 2 3 0 1 2 3 4 \n",
      "0 1 2 3 4 0 1 2 3 4 5 \n",
      "  0 1 2 3 0 1 2 3 4 \n",
      "    0 1 2 0 1 2 3 \n",
      "      0 1 0 1 2 \n",
      "        0 0 1 \n",
      "          0 \n"
     ]
    }
   ],
   "source": [
    "r=3\n",
    "for i in range(n):\n",
    "    for j in range(i,n):\n",
    "        print(' ',end=' ')\n",
    "    for j in range(i):\n",
    "        print(j,end=' ')\n",
    "    for j in range(i+1):\n",
    "        print(j,end=' ')\n",
    "    print()\n",
    "for i in range(n,-1,-1):\n",
    "    for j in range(i,n):\n",
    "        print(' ',end=' ')\n",
    "    for j in range(i):\n",
    "        print(j,end=' ')\n",
    "    for j in range(i+1):\n",
    "        print(j,end=' ')\n",
    "    print()"
   ]
  },
  {
   "cell_type": "markdown",
   "id": "6318b2a1",
   "metadata": {},
   "source": [
    "##### Sand Glass Pattern"
   ]
  },
  {
   "cell_type": "code",
   "execution_count": 12,
   "id": "1146206e",
   "metadata": {},
   "outputs": [
    {
     "name": "stdout",
     "output_type": "stream",
     "text": [
      "  * * * * * * * * * \n",
      "    * * * * * * * \n",
      "      * * * * * \n",
      "        * * * \n",
      "          * \n",
      "          * \n",
      "        * * * \n",
      "      * * * * * \n",
      "    * * * * * * * \n",
      "  * * * * * * * * * \n"
     ]
    }
   ],
   "source": [
    "n=5\n",
    "for i in range(n-1,-1,-1):\n",
    "    for j in range(i,n):\n",
    "        print(' ',end=' ')\n",
    "    for j in range(i):\n",
    "        print('*',end=' ')\n",
    "    for j in range(i+1):\n",
    "        print('*',end=' ')\n",
    "    print()\n",
    "for i in range(n):\n",
    "    for j in range(i,n):\n",
    "        print(' ',end=' ')\n",
    "    for j in range(i):\n",
    "        print('*',end=' ')\n",
    "    for j in range(i+1):\n",
    "        print('*',end=' ')\n",
    "    print()"
   ]
  },
  {
   "cell_type": "code",
   "execution_count": 13,
   "id": "75b565a6",
   "metadata": {},
   "outputs": [
    {
     "name": "stdout",
     "output_type": "stream",
     "text": [
      "  0 1 2 3 0 1 2 3 4 \n",
      "    0 1 2 0 1 2 3 \n",
      "      0 1 0 1 2 \n",
      "        0 0 1 \n",
      "          0 \n",
      "          0 \n",
      "        0 0 1 \n",
      "      0 1 0 1 2 \n",
      "    0 1 2 0 1 2 3 \n",
      "  0 1 2 3 0 1 2 3 4 \n"
     ]
    }
   ],
   "source": [
    "h=10\n",
    "for i in range(n-1,-1,-1):\n",
    "    for j in range(i,n):\n",
    "        print(' ',end=' ')\n",
    "    for j in range(i):\n",
    "        print(j,end=' ')\n",
    "    for j in range(i+1):\n",
    "        print(j,end=' ')\n",
    "    print()\n",
    "for i in range(n):\n",
    "    for j in range(i,n):\n",
    "        print(' ',end=' ')\n",
    "    for j in range(i):\n",
    "        print(j,end=' ')\n",
    "    for j in range(i+1):\n",
    "        print(j,end=' ')\n",
    "    print()"
   ]
  },
  {
   "cell_type": "markdown",
   "id": "736251b8",
   "metadata": {},
   "source": [
    "##### Parallelogram Pattern"
   ]
  },
  {
   "cell_type": "code",
   "execution_count": 15,
   "id": "363354ae",
   "metadata": {},
   "outputs": [],
   "source": [
    "def fooParallelogram(n):\n",
    "    for i in range(n):\n",
    "        for j in range(i,n):\n",
    "            print(' ',end=' ')\n",
    "        for j in range(i,n):\n",
    "            print('*',end=' ')\n",
    "        for j in range(i+1):\n",
    "            print('*',end=' ')\n",
    "        print()"
   ]
  },
  {
   "cell_type": "code",
   "execution_count": 16,
   "id": "16ec0810",
   "metadata": {},
   "outputs": [
    {
     "name": "stdout",
     "output_type": "stream",
     "text": [
      "          * * * * * * \n",
      "        * * * * * * \n",
      "      * * * * * * \n",
      "    * * * * * * \n",
      "  * * * * * * \n"
     ]
    }
   ],
   "source": [
    "fooParallelogram(5)"
   ]
  },
  {
   "cell_type": "code",
   "execution_count": 17,
   "id": "f7ca5aa2",
   "metadata": {},
   "outputs": [],
   "source": [
    "def fooParallelogram(n):\n",
    "    for i in range(n):\n",
    "        for j in range(i,n):\n",
    "            print(' ',end=' ')\n",
    "        for j in range(i,n):\n",
    "            print(0,end=' ')\n",
    "        for j in range(i+1):\n",
    "            print(j,end=' ')\n",
    "        print()"
   ]
  },
  {
   "cell_type": "code",
   "execution_count": 18,
   "id": "c52d3871",
   "metadata": {},
   "outputs": [
    {
     "name": "stdout",
     "output_type": "stream",
     "text": [
      "          0 0 0 0 0 0 \n",
      "        0 0 0 0 0 1 \n",
      "      0 0 0 0 1 2 \n",
      "    0 0 0 1 2 3 \n",
      "  0 0 1 2 3 4 \n"
     ]
    }
   ],
   "source": [
    "fooParallelogram(5)"
   ]
  },
  {
   "cell_type": "markdown",
   "id": "36797953",
   "metadata": {},
   "source": [
    "##### Square pattern:"
   ]
  },
  {
   "cell_type": "code",
   "execution_count": 19,
   "id": "f1e7a651",
   "metadata": {},
   "outputs": [
    {
     "name": "stdout",
     "output_type": "stream",
     "text": [
      "        * * * * * * \n",
      "        * * * * * * \n",
      "        * * * * * * \n",
      "        * * * * * * \n",
      "        * * * * * * \n"
     ]
    }
   ],
   "source": [
    "for i in range(n):\n",
    "    for j in range(1,n):\n",
    "        print(' ',end=' ')\n",
    "    for j in range(1+n):\n",
    "        print('*',end=' ')\n",
    "    print()"
   ]
  },
  {
   "cell_type": "code",
   "execution_count": 21,
   "id": "6993ab50",
   "metadata": {},
   "outputs": [],
   "source": [
    "## square pattern-2\n",
    "def square(n):\n",
    "    for i in range(n):\n",
    "        for j in range(n,i-1):\n",
    "            print(' ',end=' ')\n",
    "        for j in range(i,n):\n",
    "            print('*',end=' ')\n",
    "        for j in range(i+1):\n",
    "            print('*',end=' ')\n",
    "        print()"
   ]
  },
  {
   "cell_type": "code",
   "execution_count": 22,
   "id": "01e6ac6f",
   "metadata": {},
   "outputs": [
    {
     "name": "stdout",
     "output_type": "stream",
     "text": [
      "* * * * * * * \n",
      "* * * * * * * \n",
      "* * * * * * * \n",
      "* * * * * * * \n",
      "* * * * * * * \n",
      "* * * * * * * \n"
     ]
    }
   ],
   "source": [
    "square(6)"
   ]
  },
  {
   "cell_type": "markdown",
   "id": "fb1c3268",
   "metadata": {},
   "source": []
  }
 ],
 "metadata": {
  "kernelspec": {
   "display_name": "Python 3 (ipykernel)",
   "language": "python",
   "name": "python3"
  },
  "language_info": {
   "codemirror_mode": {
    "name": "ipython",
    "version": 3
   },
   "file_extension": ".py",
   "mimetype": "text/x-python",
   "name": "python",
   "nbconvert_exporter": "python",
   "pygments_lexer": "ipython3",
   "version": "3.11.5"
  }
 },
 "nbformat": 4,
 "nbformat_minor": 5
}
