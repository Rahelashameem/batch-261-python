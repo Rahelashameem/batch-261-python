{
 "cells": [
  {
   "cell_type": "code",
   "execution_count": null,
   "id": "741860dc",
   "metadata": {},
   "outputs": [],
   "source": [
    "## Conditional statements"
   ]
  },
  {
   "cell_type": "code",
   "execution_count": null,
   "id": "30449c1e",
   "metadata": {},
   "outputs": [],
   "source": [
    "if,elif,else stmts\n"
   ]
  },
  {
   "cell_type": "code",
   "execution_count": null,
   "id": "f1f75c8d",
   "metadata": {},
   "outputs": [],
   "source": [
    "# above 80----> second round\n",
    "# above 70----> first round\n",
    "# above 60----> screening round\n",
    "# below 60----> study hard\n"
   ]
  },
  {
   "cell_type": "code",
   "execution_count": null,
   "id": "ef4457c8",
   "metadata": {},
   "outputs": [],
   "source": [
    "marks = float(input('enter your marks'))"
   ]
  },
  {
   "cell_type": "code",
   "execution_count": null,
   "id": "12cab29f",
   "metadata": {},
   "outputs": [],
   "source": [
    "ziyamarks = int(input('marks scored: '))\n",
    "\n",
    "if ziyamarks >= 80:\n",
    "    print('second round')\n",
    "elif ziyamarks >= 70:\n",
    "    print('first round')\n",
    "elif ziyamarks >= 60:\n",
    "    print('screening round')\n",
    "else:\n",
    "    print('study hard')"
   ]
  },
  {
   "cell_type": "code",
   "execution_count": null,
   "id": "9bf6eac1",
   "metadata": {},
   "outputs": [],
   "source": [
    "ziyamarks = float(input('marks scored: '))\n",
    "\n",
    "if ziyamarks >= 80:\n",
    "    print('second round')\n",
    "elif ziyamarks >= 70:\n",
    "    print('first round')\n",
    "elif ziyamarks >= 60:\n",
    "    print('screening round')\n",
    "else:\n",
    "    print('study hard')"
   ]
  },
  {
   "cell_type": "code",
   "execution_count": null,
   "id": "bcf8dbc4",
   "metadata": {},
   "outputs": [],
   "source": [
    "marks = float(input('marks scored: '))"
   ]
  },
  {
   "cell_type": "code",
   "execution_count": null,
   "id": "30299a9b",
   "metadata": {},
   "outputs": [],
   "source": [
    "if marks<=60:\n",
    "    print(\"study hard\")\n",
    "elif (marks<=70):\n",
    "    print(\"screening round\")\n",
    "elif (marks<=80):\n",
    "    print(\"first round\")\n",
    "else:\n",
    "    print(\"second round\")"
   ]
  },
  {
   "cell_type": "code",
   "execution_count": null,
   "id": "b3b4c226",
   "metadata": {},
   "outputs": [],
   "source": [
    "num = int(input())\n",
    "if num%3 ==0 and num%2 ==0:\n",
    "    print('div by 6')"
   ]
  },
  {
   "cell_type": "code",
   "execution_count": null,
   "id": "ace1edf7",
   "metadata": {},
   "outputs": [],
   "source": [
    "num = int(input())  ## for or condition if one stmt is true then true\n",
    "if num%3 ==0 or num%2 ==0:\n",
    "    print('div by 6')"
   ]
  },
  {
   "cell_type": "code",
   "execution_count": null,
   "id": "8b06684f",
   "metadata": {},
   "outputs": [],
   "source": [
    "num = int(input()) ## for and condition both stmts must be true  here only 1 stmt is true 15%3 ==0  but num%2 ==0 is not true so output not displayed\n",
    "if num%3 ==0 and num%2 ==0: \n",
    "    print('div by 6')"
   ]
  },
  {
   "cell_type": "code",
   "execution_count": 2,
   "id": "4112d558",
   "metadata": {},
   "outputs": [
    {
     "name": "stdout",
     "output_type": "stream",
     "text": [
      "15\n",
      "div by 6\n"
     ]
    }
   ],
   "source": [
    "num = int(input())  ## for or condition 1 stmts is true   then true here only 1 stmt is true 15%3 ==0 is true so output displayed \n",
    "    print('div by 6')"
   ]
  },
  {
   "cell_type": "code",
   "execution_count": 1,
   "id": "3b67ee5b",
   "metadata": {},
   "outputs": [
    {
     "name": "stdout",
     "output_type": "stream",
     "text": [
      "enter a string: !@#$%\n",
      "not upper\n"
     ]
    }
   ],
   "source": [
    "x = input('enter a string: ') # specifcying the 2nd index value\n",
    "if x[2].isupper():\n",
    "    print('upper')\n",
    "else:\n",
    "    print('not upper')\n"
   ]
  },
  {
   "cell_type": "code",
   "execution_count": 4,
   "id": "9c84f3a4",
   "metadata": {},
   "outputs": [
    {
     "data": {
      "text/plain": [
       "(65, 90)"
      ]
     },
     "execution_count": 4,
     "metadata": {},
     "output_type": "execute_result"
    }
   ],
   "source": [
    "ord('A'), ord('Z')"
   ]
  },
  {
   "cell_type": "code",
   "execution_count": 7,
   "id": "61e7dc7e",
   "metadata": {},
   "outputs": [
    {
     "name": "stdout",
     "output_type": "stream",
     "text": [
      "enter a string: dfAiy\n",
      "upper\n"
     ]
    }
   ],
   "source": [
    "x = input('enter a string: ') # \n",
    "if ord(x[2]) >= 65 and ord(x[2])<=90:\n",
    "   print('upper')\n",
    "else:\n",
    "    print('not upper')"
   ]
  },
  {
   "cell_type": "code",
   "execution_count": 6,
   "id": "d61a8e30",
   "metadata": {},
   "outputs": [
    {
     "name": "stdout",
     "output_type": "stream",
     "text": [
      "enter a string: abZer\n",
      "upper\n"
     ]
    }
   ],
   "source": [
    "x = input('enter a string: ') # \n",
    "if ord(x[2]) in range (65, 91):\n",
    "   print('upper')\n",
    "else:\n",
    "    print('not upper')"
   ]
  },
  {
   "cell_type": "code",
   "execution_count": 1,
   "id": "5fba929b",
   "metadata": {},
   "outputs": [
    {
     "name": "stdout",
     "output_type": "stream",
     "text": [
      "enter a string: ghAj\n",
      "upper\n"
     ]
    }
   ],
   "source": [
    "x = input('enter a string: ') # \n",
    "if 65 <= ord(x[2]) <= 90:\n",
    "   print('upper')\n",
    "else:\n",
    "    print('not upper')"
   ]
  },
  {
   "cell_type": "code",
   "execution_count": null,
   "id": "3a9db9c9",
   "metadata": {},
   "outputs": [],
   "source": [
    "## Nested if"
   ]
  },
  {
   "cell_type": "code",
   "execution_count": 5,
   "id": "7f4f298b",
   "metadata": {},
   "outputs": [
    {
     "name": "stdout",
     "output_type": "stream",
     "text": [
      "12\n",
      "div by 6\n"
     ]
    }
   ],
   "source": [
    "num = int(input())  ## if first condition is true then only output will be printed\n",
    "if num%3 == 0:\n",
    "  if num%2 ==0:\n",
    "    print('div by 6')"
   ]
  },
  {
   "cell_type": "code",
   "execution_count": 6,
   "id": "bcdc7a5d",
   "metadata": {},
   "outputs": [
    {
     "name": "stdout",
     "output_type": "stream",
     "text": [
      "8\n"
     ]
    }
   ],
   "source": [
    "num = int(input())  ## first condition is false so output not printed\n",
    "if num%3 == 0:\n",
    "  if num%2 ==0:\n",
    "    print('div by 6')"
   ]
  },
  {
   "cell_type": "code",
   "execution_count": 21,
   "id": "a4bdeffc",
   "metadata": {},
   "outputs": [
    {
     "name": "stdout",
     "output_type": "stream",
     "text": [
      "marks scored: 40\n",
      "study hard\n"
     ]
    }
   ],
   "source": [
    "marks = int(input('marks scored: '))\n",
    "\n",
    "if 0<=marks<=100: \n",
    "    if marks >= 80:\n",
    "        print('second round')\n",
    "    elif marks >= 70:\n",
    "        print('first round')\n",
    "    elif marks >= 60:\n",
    "        print('screening round')\n",
    "    else:\n",
    "        print('study hard')\n",
    "        \n",
    "else:\n",
    "    print('Invalid')"
   ]
  },
  {
   "cell_type": "code",
   "execution_count": 22,
   "id": "a46cb1d7",
   "metadata": {},
   "outputs": [
    {
     "name": "stdout",
     "output_type": "stream",
     "text": [
      "marks scored: 78\n",
      "first round\n"
     ]
    }
   ],
   "source": [
    "marks = int(input('marks scored: '))\n",
    "\n",
    "if marks in range(0,101): \n",
    "    if marks >= 80:\n",
    "        print('second round')\n",
    "    elif marks >= 70:\n",
    "        print('first round')\n",
    "    elif marks >= 60:\n",
    "        print('screening round')\n",
    "    else:\n",
    "        print('study hard')\n",
    "else:\n",
    "    print('Invalid')"
   ]
  },
  {
   "cell_type": "code",
   "execution_count": 30,
   "id": "aa0376b2",
   "metadata": {},
   "outputs": [
    {
     "name": "stdout",
     "output_type": "stream",
     "text": [
      "marks scored: 76\n",
      "first round\n"
     ]
    }
   ],
   "source": [
    "marks = int(input('marks scored: '))\n",
    "if marks >= 100:\n",
    "        print('invalid')\n",
    "elif marks >= 80:\n",
    "    print('second round')\n",
    "elif marks >= 70:\n",
    "    print('first round')\n",
    "elif marks >= 60:\n",
    "    print('screening round')\n",
    "\n",
    "else:\n",
    "    print('Invalid')\n",
    "    \n",
    "        \n",
    "        \n",
    "        "
   ]
  },
  {
   "cell_type": "code",
   "execution_count": null,
   "id": "e56eb0af",
   "metadata": {},
   "outputs": [],
   "source": [
    "##### 1. program to find ages and \"You are an adult\" if the age is 18 or older, otherwise prints \"You are a minor'.\n"
   ]
  },
  {
   "cell_type": "code",
   "execution_count": 1,
   "id": "8c8260dc",
   "metadata": {},
   "outputs": [
    {
     "name": "stdout",
     "output_type": "stream",
     "text": [
      "Enter your age: 25\n",
      "You are an adult\n"
     ]
    }
   ],
   "source": [
    "age = int(input(\"Enter your age: \")) ## Accept integers as input values\n",
    "if age>=18:\n",
    "    print(\"You are an adult\") # to print adult age should be >18\n",
    "else:\n",
    "    print(\"You are a minor\")   # to print minor age should be <18 \n",
    "    "
   ]
  },
  {
   "cell_type": "code",
   "execution_count": 2,
   "id": "bd0a7b7c",
   "metadata": {},
   "outputs": [
    {
     "name": "stdout",
     "output_type": "stream",
     "text": [
      "Enter your age: 7\n",
      "You are a minor\n"
     ]
    }
   ],
   "source": [
    "age = int(input(\"Enter your age: \"))\n",
    "if age>=18:\n",
    "    print(\"You are an adult\") \n",
    "else:\n",
    "    print(\"You are a minor\")    \n",
    "    "
   ]
  },
  {
   "cell_type": "code",
   "execution_count": null,
   "id": "b073344f",
   "metadata": {},
   "outputs": [],
   "source": [
    "##### 2.Program to print letter grades by taking numeric grade as input "
   ]
  },
  {
   "cell_type": "code",
   "execution_count": 14,
   "id": "f644f3cd",
   "metadata": {},
   "outputs": [
    {
     "name": "stdout",
     "output_type": "stream",
     "text": [
      "marks scored: 94\n",
      "Grade A\n"
     ]
    }
   ],
   "source": [
    "marks = int(input('marks scored: ')) ## Accept integers as inputs\n",
    "\n",
    "if 90<=marks<=100: # print 'A' if marks between 90-100\n",
    "    print('Grade A')\n",
    "elif 80<=marks<=89:\n",
    "        print('Grade B') #print 'b' if marks between 80-89\n",
    "elif 70<=marks<=79:\n",
    "        print('Grade C') #print 'c' if marks between 70-79\n",
    "elif 60<=marks<=69 :\n",
    "        print('Grade D') #print 'b' if marks between 60-69\n",
    "else:\n",
    "        print('Fail')  # print 'fail' if below 60\n",
    "        \n",
    "        \n",
    "        "
   ]
  },
  {
   "cell_type": "code",
   "execution_count": 16,
   "id": "567ed26d",
   "metadata": {},
   "outputs": [
    {
     "name": "stdout",
     "output_type": "stream",
     "text": [
      "marks scored: 55\n",
      "Fail\n"
     ]
    }
   ],
   "source": [
    "marks = int(input('marks scored: '))\n",
    "\n",
    "if 90<=marks<=100: \n",
    "    print('Grade A')\n",
    "elif 80<=marks<=89:\n",
    "        print('Grade B')\n",
    "elif 70<=marks<=79:\n",
    "        print('Grade C')\n",
    "elif 60<=marks<=69 :\n",
    "        print('Grade D')\n",
    "else:\n",
    "        print('Fail')"
   ]
  },
  {
   "cell_type": "code",
   "execution_count": null,
   "id": "10b812e8",
   "metadata": {},
   "outputs": [],
   "source": [
    "##### 3. program that calculates the Body Mass Index (BMI) of a person,input their weight in kg and height in meters."
   ]
  },
  {
   "cell_type": "code",
   "execution_count": 25,
   "id": "caaa2c89",
   "metadata": {},
   "outputs": [
    {
     "name": "stdout",
     "output_type": "stream",
     "text": [
      "Enter weight in kilograms: 60\n",
      "Enter height in meters: 1.62\n",
      "Normal weight\n"
     ]
    }
   ],
   "source": [
    "weight = int(input('Enter weight in kilograms: ')) ## int input accepts integer values\n",
    "height = float(input('Enter height in meters: '))  ## float input accepts  flaot values\n",
    "\n",
    "#### To calculate BMI if height and weight is given then we have formula\n",
    "bmi = weight/(height**2)\n",
    "\n",
    "\n",
    "##### Classification\tBMI range - kg/m2\n",
    "#####Severe Thinness\t    < 16\n",
    "#####Moderate Thinness\t16 - 17\n",
    "#####Mild Thinness\t    17 - 18.5\n",
    "#####Normal\t            18.5 - 25\n",
    "#####Overweight\t        25 - 30\n",
    "#####Obese Class I\t    30 - 35\n",
    "#####Obese Class II\t    35 - 40\n",
    "#####Obese Class III\t    > 40\n",
    "\n",
    "###### to print under weight\n",
    "if bmi <18.5:\n",
    "    print(\"Underweight\")\n",
    "elif 18.5<=bmi<24.9:\n",
    "    print(\"Normal weight\") ## to print Normal weight\n",
    "elif 25<=bmi<29.9:\n",
    "    print(\"Overweight\")  ## to print overweight \n",
    "else:\n",
    "        print(\"Obese\") \n",
    "    "
   ]
  },
  {
   "cell_type": "code",
   "execution_count": null,
   "id": "503b92a0",
   "metadata": {},
   "outputs": [],
   "source": [
    "## 4.Write a program that asks the user for three numbers and prints the maximum of the three.\n"
   ]
  },
  {
   "cell_type": "code",
   "execution_count": 24,
   "id": "027bd93a",
   "metadata": {},
   "outputs": [
    {
     "name": "stdout",
     "output_type": "stream",
     "text": [
      "Enter the first number: 70\n",
      "Enter the second number: 33\n",
      "Enter the third number: 56\n",
      "p is maximum\n"
     ]
    }
   ],
   "source": [
    "p = int(input('Enter the first number: '))  ## integer value as input\n",
    "q = int(input('Enter the second number: ')) ##integer value as input\n",
    "r = int(input('Enter the third number: '))  ##integer value as input\n",
    "\n",
    "if p>q and p>r:\n",
    "    print('p is maximum')\n",
    "elif q>p and q>r:\n",
    "    print('q is maximum')\n",
    "else:\n",
    "    print('r is maximum')\n"
   ]
  },
  {
   "cell_type": "code",
   "execution_count": null,
   "id": "9950feb3",
   "metadata": {},
   "outputs": [],
   "source": [
    "### 5.Write a program that asks the user for a temperature (in Celsius) and prints \n",
    "###\"It's freezing\" if the temperature is below 0, \"It's cool\" if it's between 0 and 10, \n",
    "### \"It's warm\" if it's between 10 and 20, and \"It's hot\" if it's above 20"
   ]
  },
  {
   "cell_type": "code",
   "execution_count": 26,
   "id": "3a0cb815",
   "metadata": {},
   "outputs": [
    {
     "name": "stdout",
     "output_type": "stream",
     "text": [
      "Enter the temperature in Celsius: 5\n",
      "It's cool\n"
     ]
    }
   ],
   "source": [
    "temperature = float(input(\"Enter the temperature in Celsius: \")) #input value is given in flaot as temperature vl be in decimals\n",
    "\n",
    "if temperature < 0: # if temp value is below 0 freezing is printed\n",
    "    print(\"It's freezing\") \n",
    "elif 0 <= temperature <= 10: # if temp value is between 0 and 10  cool is printed\n",
    "    print(\"It's cool\") \n",
    "elif 10 < temperature <= 20: # if temp value is between 10 and 20  warm is printed\n",
    "    print(\"It's warm\")\n",
    "else:# if temp value is above 20 hot is printed\n",
    "    print(\"It's hot\") "
   ]
  },
  {
   "cell_type": "code",
   "execution_count": null,
   "id": "b8b91e21",
   "metadata": {},
   "outputs": [],
   "source": [
    "## 6. Write a program that asks the user for a number (1-7) and prints the corresponding day of the week.\n"
   ]
  },
  {
   "cell_type": "code",
   "execution_count": 73,
   "id": "890493ea",
   "metadata": {},
   "outputs": [
    {
     "name": "stdout",
     "output_type": "stream",
     "text": [
      "Enter a number: 7\n",
      "Saturday\n"
     ]
    }
   ],
   "source": [
    "Days = int(input(\"Enter a number: \")) ## input given is an integer\n",
    "if 7>=Days<=1:  ## Days must be between 1 to 7\n",
    "    if Days == 1:\n",
    "        print('Sunday') ## to print sunday must be given 1\n",
    "elif Days == 2:\n",
    "    print('Monday')   ## to print monday must be given 2\n",
    "elif Days == 3:\n",
    "    print('Tuesday')   ## to print tuesday must be given 3\n",
    "elif Days == 4:\n",
    "    print('Wednesday')  ## to print wednesday must be given 4\n",
    "elif Days == 5:\n",
    "    print('Thursday') ## to print thursday must be given 5\n",
    "elif Days == 6:\n",
    "    print('Friday')    ## to print friday must be given 6         \n",
    "else:\n",
    "    print('Saturday')   ## input 7 is given it will print saturday\n",
    "        "
   ]
  },
  {
   "cell_type": "code",
   "execution_count": null,
   "id": "e0edb40d",
   "metadata": {},
   "outputs": [],
   "source": [
    "## 7.Write a program that asks the user for a number and prints \"In range\" if the number is between 10 and 20 (inclusive), and \"Out of range\" otherwise"
   ]
  },
  {
   "cell_type": "code",
   "execution_count": 76,
   "id": "0c19dc9a",
   "metadata": {},
   "outputs": [
    {
     "name": "stdout",
     "output_type": "stream",
     "text": [
      "Enter a number: 16\n",
      "In range\n"
     ]
    }
   ],
   "source": [
    "number = int(input(\"Enter a number: \")) # input given \n",
    "\n",
    "if 10 <= number <= 20:   # if num value is between 10 and 20 it vl print in range\n",
    "    print(\"In range\")   \n",
    "else: # if num value is not between 10 and 20 it vl print out of range\n",
    "    print(\"Out of range\")"
   ]
  },
  {
   "cell_type": "code",
   "execution_count": null,
   "id": "bec6e767",
   "metadata": {},
   "outputs": [],
   "source": [
    "## 8. Write a program that asks the user for an integer and prints whether it's even or odd."
   ]
  },
  {
   "cell_type": "code",
   "execution_count": 78,
   "id": "aa70c0ea",
   "metadata": {},
   "outputs": [
    {
     "name": "stdout",
     "output_type": "stream",
     "text": [
      "enter the number:  9\n",
      "Number is Odd\n"
     ]
    }
   ],
   "source": [
    "num = int(input('enter the number:  '))\n",
    "\n",
    "if num%2==0:\n",
    "    print('Number is Even') #if the given number was divisible by 2 ,then it is even number otherwise it is odd\n",
    "else:\n",
    "    print('Number is Odd')"
   ]
  },
  {
   "cell_type": "code",
   "execution_count": null,
   "id": "ca450c91",
   "metadata": {},
   "outputs": [],
   "source": [
    "##### 17. Write a program to check whether a person is eligible for voting or not  (voting age>=18).\n"
   ]
  },
  {
   "cell_type": "code",
   "execution_count": 82,
   "id": "d1e75588",
   "metadata": {},
   "outputs": [
    {
     "name": "stdout",
     "output_type": "stream",
     "text": [
      "Enter your age: 29\n",
      "You are eligible to vote\n"
     ]
    }
   ],
   "source": [
    "age = int(input(\"Enter your age: \"))\n",
    "if age>=18:\n",
    "    print(\"You are eligible to vote\") ## if age is >=18 it vl print eligible to vote\n",
    "else:\n",
    "    print(\"You are not eligible to vote\")    \n",
    "    "
   ]
  },
  {
   "cell_type": "code",
   "execution_count": null,
   "id": "ccb276e2",
   "metadata": {},
   "outputs": [],
   "source": [
    "##### 16.Accept any city from the user and display the momentum of the city \n",
    "Hyderabad  : “charminar”\n",
    "“Delhi”         : “red fort\n",
    "“Agra           : Taj mahal\n",
    "If the city name is not given correctly, give him a warning message.\n",
    "\n"
   ]
  },
  {
   "cell_type": "code",
   "execution_count": 84,
   "id": "6bea810e",
   "metadata": {},
   "outputs": [
    {
     "name": "stdout",
     "output_type": "stream",
     "text": [
      "enter city names: Agra\n",
      "taj mahal\n"
     ]
    }
   ],
   "source": [
    "city = input(\"enter city names: \")\n",
    "if city == \"Hyderabad\":\n",
    "    print(\"charminar\")\n",
    "elif city == \"Delhi\":\n",
    "    print(\"red fort\")\n",
    "elif city == \"Agra\":\n",
    "    print(\"taj mahal\")\n",
    "else:\n",
    "    print(\"enter wrong city name\")"
   ]
  },
  {
   "cell_type": "code",
   "execution_count": 85,
   "id": "a412e99a",
   "metadata": {},
   "outputs": [
    {
     "name": "stdout",
     "output_type": "stream",
     "text": [
      "enter city names: Guntur\n",
      "enter wrong city name\n"
     ]
    }
   ],
   "source": [
    "city = input(\"enter city names: \")\n",
    "if city == \"Hyderabad\":\n",
    "    print(\"charminar\")\n",
    "elif city == \"Delhi\":\n",
    "    print(\"red fort\")\n",
    "elif city == \"Agra\":\n",
    "    print(\"taj mahal\")\n",
    "else:\n",
    "    print(\"enter wrong city name\")"
   ]
  }
 ],
 "metadata": {
  "kernelspec": {
   "display_name": "Python 3 (ipykernel)",
   "language": "python",
   "name": "python3"
  },
  "language_info": {
   "codemirror_mode": {
    "name": "ipython",
    "version": 3
   },
   "file_extension": ".py",
   "mimetype": "text/x-python",
   "name": "python",
   "nbconvert_exporter": "python",
   "pygments_lexer": "ipython3",
   "version": "3.11.5"
  }
 },
 "nbformat": 4,
 "nbformat_minor": 5
}
