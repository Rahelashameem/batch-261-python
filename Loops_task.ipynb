{
 "cells": [
  {
   "cell_type": "markdown",
   "id": "b107f619",
   "metadata": {},
   "source": [
    "### 1.When resistors are connected together in series, the same current passes through each resistor in the chain and the total resistance, RT, of the circuit must be equal to the sum of all the individual resistors added together. That is:\n",
    "\n",
    "-  RT = R1 + R2 + R3 ...\n",
    "-  Create a function that takes an array of values resistance that are connected in series, and calculates the total resistance    of the circuit in ohms. The ohm is the standard unit of electrical resistance in the International System of Units ( SI )."
   ]
  },
  {
   "cell_type": "code",
   "execution_count": 20,
   "id": "147cd9c1",
   "metadata": {},
   "outputs": [
    {
     "name": "stdout",
     "output_type": "stream",
     "text": [
      "Total resistance using while loop: 15\n"
     ]
    }
   ],
   "source": [
    "### when Resistors are connected in series\n",
    "### Using While Loop\n",
    "\n",
    "R = [1,2,4,8] # Replace with your own list of resistor values\n",
    "\n",
    "TR = 0  # Calculating 1/R1 = 1/R1 + 1/R2 + 1/R3 +.....1/Rn\n",
    "\n",
    "i=0\n",
    "\n",
    "while i < len(R):\n",
    "     TR+=R[i]\n",
    "     i+= 1\n",
    "print(\"Total resistance using while loop:\", TR)\n",
    "\n"
   ]
  },
  {
   "cell_type": "code",
   "execution_count": 21,
   "id": "6741aec1",
   "metadata": {},
   "outputs": [
    {
     "name": "stdout",
     "output_type": "stream",
     "text": [
      "Total resistance using for loop: 15\n"
     ]
    }
   ],
   "source": [
    "### Using for loop calculating total resistance\n",
    "\n",
    "RT_for = 0\n",
    "\n",
    "for resistor in R:\n",
    "    RT_for += resistor\n",
    "    \n",
    "print(\"Total resistance using for loop:\", RT_for )        "
   ]
  },
  {
   "cell_type": "code",
   "execution_count": null,
   "id": "58b48151",
   "metadata": {},
   "outputs": [],
   "source": [
    "## 2. Create a function which concatenates the number 7 to the end of every chord in a list. Ignore all chords which already end with 7."
   ]
  },
  {
   "cell_type": "code",
   "execution_count": 24,
   "id": "67b451cd",
   "metadata": {},
   "outputs": [
    {
     "name": "stdout",
     "output_type": "stream",
     "text": [
      "Jazzified list using while loop: ['Am7', 'G7', 'Dm7', 'C7', 'Em7', 'F#7', 'Z@ya7']\n",
      "Jazzified list using for loop: ['Am7', 'G7', 'Dm7', 'C7', 'Em7', 'F#7', 'Z@ya7']\n"
     ]
    }
   ],
   "source": [
    "lst = [\"Am\", \"G\", \"Dm7\", \"C7\", \"Em7\", \"F#\", \"Z@ya7\"]\n",
    "concatenate = []\n",
    "i = 0\n",
    "\n",
    "# Using while loop \n",
    "\n",
    "while i < len(lst):\n",
    "    if lst[i][-1] == \"7\":\n",
    "        concatenate.append(lst[i])\n",
    "    else:\n",
    "        concatenate.append(lst[i] + \"7\")\n",
    "    i+= 1\n",
    "print(\"Jazzified list using while loop:\", concatenate)\n",
    "\n",
    "# Reset concatenate for the next loop\n",
    "concatenate = []\n",
    "\n",
    "# Using for loop \n",
    "\n",
    "for chord in lst:\n",
    "    if chord[-1] == \"7\":\n",
    "        concatenate.append( chord)\n",
    "    else:\n",
    "        concatenate.append( chord + \"7\")    \n",
    "print(\"Jazzified list using for loop:\", concatenate)        \n",
    "    \n",
    "\n"
   ]
  },
  {
   "cell_type": "code",
   "execution_count": null,
   "id": "bf310298",
   "metadata": {},
   "outputs": [],
   "source": [
    "## 3. Create a function that returns a base-2 (binary) representation of a base-10 (decimal) string number. To convert is simple: ((2) means base-2 and (10) means base-10) 010101001(2) = 1 + 8 + 32 + 128.\n",
    "\n",
    "Going from right to left, the value of the most right bit is 1, now from that every bit to the left will be x2 the value, value of an 8 bit binary numbers are (256, 128, 64, 32, 16, 8, 4, 2, 1)."
   ]
  },
  {
   "cell_type": "code",
   "execution_count": 27,
   "id": "10cfe8ac",
   "metadata": {},
   "outputs": [
    {
     "name": "stdout",
     "output_type": "stream",
     "text": [
      "Enter a number: 25\n",
      "11001"
     ]
    }
   ],
   "source": [
    "x = int(input(\"Enter a number: \"))\n",
    "l = list()\n",
    "while x!=0: ## Using while loop\n",
    "    r = x%2\n",
    "    l.append(r)\n",
    "    x=x//2\n",
    "l.reverse()\n",
    "for ele in l: ## Using for loop\n",
    "    print(ele,end=\"\")"
   ]
  },
  {
   "cell_type": "code",
   "execution_count": null,
   "id": "9c21e398",
   "metadata": {},
   "outputs": [],
   "source": [
    "## 4. Create a function that takes a string and returns the number (count) of vowels contained within it."
   ]
  },
  {
   "cell_type": "code",
   "execution_count": 28,
   "id": "8b998dae",
   "metadata": {},
   "outputs": [
    {
     "name": "stdout",
     "output_type": "stream",
     "text": [
      "Enter a string: ziya afsheen\n",
      "5\n"
     ]
    }
   ],
   "source": [
    "string = input('Enter a string: ')\n",
    "vowels = ['a', 'e', 'i', 'o', 'u']\n",
    "total = 0\n",
    "for s in string:     ### Using for loop\n",
    "    if s in vowels:\n",
    "        total += 1\n",
    "print(total)        "
   ]
  },
  {
   "cell_type": "code",
   "execution_count": 29,
   "id": "76bb6ce1",
   "metadata": {},
   "outputs": [
    {
     "name": "stdout",
     "output_type": "stream",
     "text": [
      "enter a string: nvxatungfw hj juytdcfvcgjhdsuiol\n",
      "6\n"
     ]
    }
   ],
   "source": [
    "string = input('enter a string: ')\n",
    "vowels = ['a', 'e', 'i', 'o', 'u']\n",
    "total = 0\n",
    "i = 0\n",
    "while i<len(string):\n",
    "    if string[i] in vowels:\n",
    "        total += 1\n",
    "    i+=1\n",
    "print(total)    "
   ]
  },
  {
   "cell_type": "code",
   "execution_count": null,
   "id": "f974d56a",
   "metadata": {},
   "outputs": [],
   "source": [
    "# 5.Create a function that takes a list and finds the integer which appears an odd number of times."
   ]
  },
  {
   "cell_type": "code",
   "execution_count": 31,
   "id": "343a876d",
   "metadata": {},
   "outputs": [
    {
     "name": "stdout",
     "output_type": "stream",
     "text": [
      "Numbers appearing odd number of times: [-3, -1, -2]\n"
     ]
    }
   ],
   "source": [
    "list = [1, 1, 2, -3, 5, 2, 4, 4, -1, 5, -2]\n",
    "count = {}  # Empty dictionary to store the count of each number\n",
    "i = 0\n",
    "while i < len(list):\n",
    "    num = list[i]\n",
    "    if num in count:\n",
    "        count[num] += 1\n",
    "    else: \n",
    "        count[num] = 1\n",
    "    i += 1\n",
    "oddnumbers = []\n",
    "for num, count in count.items():\n",
    "    if count % 2 != 0:\n",
    "        oddnumbers.append(num)\n",
    "print(\"Numbers appearing odd number of times:\", oddnumbers)        \n",
    "        "
   ]
  },
  {
   "cell_type": "code",
   "execution_count": null,
   "id": "604b477f",
   "metadata": {},
   "outputs": [],
   "source": [
    "# 6.Hamming distance is the number of characters that differ between two strings."
   ]
  },
  {
   "cell_type": "code",
   "execution_count": 8,
   "id": "c8df835b",
   "metadata": {},
   "outputs": [
    {
     "name": "stdout",
     "output_type": "stream",
     "text": [
      "While output: 2\n",
      "For output: 2\n"
     ]
    }
   ],
   "source": [
    "str1 = 'abcddeA'\n",
    "str2 = 'abcdbeB'\n",
    "d = 0  ## Hamming distance d=0\n",
    "i = 0\n",
    "while i < len(str1) and i < len(str2):\n",
    "    if str1[i] != str2[i]:\n",
    "        d += 1\n",
    "    i += 1\n",
    "print(\"While output:\", d)    \n",
    "d = 0  #reset to zero to start the count  fresh for the calculation using for loop\n",
    "# calculate Hamming distance using for loop\n",
    "for j in range(min(len(str1), len(str2))):\n",
    "    if str1[j] != str2[j]:\n",
    "        d += 1\n",
    "print(\"For output:\", d)        "
   ]
  },
  {
   "cell_type": "code",
   "execution_count": null,
   "id": "c360ffb3",
   "metadata": {},
   "outputs": [],
   "source": [
    "### 7. Create a function that takes a list of non-negative integers and strings and return a new list without the strings."
   ]
  },
  {
   "cell_type": "code",
   "execution_count": 9,
   "id": "87fb3399",
   "metadata": {},
   "outputs": [
    {
     "name": "stdout",
     "output_type": "stream",
     "text": [
      "while new_list: [1, 3, 5, 7]\n",
      "for new_list: [1, 3, 5, 7]\n"
     ]
    }
   ],
   "source": [
    "list = [1, 'Ziya', 3, 'Afsheen', 5, 7, 'shameem']\n",
    "num_list = []\n",
    "i = 0\n",
    "while i < len(list):\n",
    "    item = list[i]\n",
    "    # check if the item is an instance of int without using is instance\n",
    "    if type(item) == int:\n",
    "        num_list.append(item)\n",
    "    i += 1\n",
    "print(\"while new_list:\",num_list)\n",
    "\n",
    "# Reset the output_list before using the for loop\n",
    "empty_list = []\n",
    "for item in list:\n",
    "    # check if the item is an instance of int without using  is instance\n",
    "    if type(item) == int:\n",
    "        empty_list.append(item)\n",
    "print(\"for new_list:\",empty_list)        "
   ]
  },
  {
   "cell_type": "code",
   "execution_count": null,
   "id": "3870a547",
   "metadata": {},
   "outputs": [],
   "source": [
    "### 8. Given a list of numbers, create a function which returns the list but with each element's index in the list added to itself. This means you add 0 to the number at index 0, add 1 to the number at index 1, etc...\n",
    "\n",
    "## Examples\n",
    "\n",
    "-    add_indexes([0, 0, 0, 0, 0]) ➞ [0, 1, 2, 3, 4]\n",
    "\n",
    "-    add_indexes([1, 2, 3, 4, 5]) ➞ [1, 3, 5, 7, 9]\n",
    "\n",
    "-    add_indexes([5, 4, 3, 2, 1]) ➞ [5, 5, 5, 5, 5]"
   ]
  },
  {
   "cell_type": "code",
   "execution_count": 12,
   "id": "226bcd16",
   "metadata": {},
   "outputs": [
    {
     "name": "stdout",
     "output_type": "stream",
     "text": [
      "Original List: [2, 4, 6, 8, 10]\n",
      "Modified List (using while loop): [2, 5, 8, 11, 14]\n",
      "Original List: [2, 4, 6, 8, 10]\n",
      "Modified List (using for loop): [2, 5, 8, 11, 14]\n"
     ]
    }
   ],
   "source": [
    "num1_list = [2, 4, 6, 8, 10]\n",
    "i = 0\n",
    "print(\"Original List:\", num1_list)\n",
    "while i < len(num1_list):\n",
    "    num1_list[i] += i\n",
    "    i += 1\n",
    "print(\"Modified List (using while loop):\", num1_list)\n",
    "num1_list = [2, 4, 6, 8, 10]\n",
    "print(\"Original List:\", num1_list)\n",
    "for i in range(len(num1_list)):\n",
    "    num1_list[i] += i\n",
    "print(\"Modified List (using for loop):\", num1_list)"
   ]
  },
  {
   "cell_type": "code",
   "execution_count": null,
   "id": "1a341e69",
   "metadata": {},
   "outputs": [],
   "source": [
    "## 9. Triangular Number Sequence \n",
    "\n",
    "-  This Triangular Number Sequence is generated from a pattern of dots that form a triangle. The first 5 numbers of the sequence, or dots, are:\n",
    "    \n",
    "-   1, 3, 6, 10, 15\n",
    "\n",
    "-   This means that the first triangle has just one dot, the second one has three dots, the third one has 6 dots and so on.\n",
    "\n",
    "-   Write a function that returns the number of dots when given its corresponding triangle number of the sequence."
   ]
  },
  {
   "cell_type": "code",
   "execution_count": 1,
   "id": "b5f34520",
   "metadata": {},
   "outputs": [
    {
     "name": "stdout",
     "output_type": "stream",
     "text": [
      "Enter the number of terms: 12\n",
      "1 3 6 10 15 21 28 36 45 55 66 78 \n"
     ]
    }
   ],
   "source": [
    "# Using for loop\n",
    "# Get the number of terms in the sequence from the user\n",
    "num_terms = int(input(\"Enter the number of terms: \"))\n",
    "\n",
    "# Initialize a variable to store the sum\n",
    "total = 0\n",
    "\n",
    "# Use a for loop to generate the sequence\n",
    "for i in range(1, num_terms + 1):\n",
    "    total += i\n",
    "    print(total, end=' ')\n",
    "\n",
    "# Output the sequence\n",
    "print()"
   ]
  },
  {
   "cell_type": "code",
   "execution_count": 2,
   "id": "cca2731f",
   "metadata": {},
   "outputs": [
    {
     "name": "stdout",
     "output_type": "stream",
     "text": [
      "Enter the number of terms: 12\n",
      "1 3 6 10 15 21 28 36 45 55 66 78 \n"
     ]
    }
   ],
   "source": [
    "# Using while loop\n",
    "\n",
    "# Get the number of terms in the sequence from the user\n",
    "num_terms = int(input(\"Enter the number of terms: \"))\n",
    "\n",
    "# Initialize variables\n",
    "total = 0\n",
    "i = 1\n",
    "\n",
    "# Use a while loop to generate the sequence\n",
    "while i <= num_terms:\n",
    "    total += i\n",
    "    print(total, end=' ')\n",
    "    i += 1\n",
    "\n",
    "# Output the sequence\n",
    "print()"
   ]
  },
  {
   "cell_type": "code",
   "execution_count": null,
   "id": "c5a8330c",
   "metadata": {},
   "outputs": [],
   "source": [
    "## 10. Return Only the Integer\n",
    "\n",
    "-   Write a function that takes a list of elements and returns only the integers.\n",
    "\n",
    "-  Examples\n",
    "\n",
    "        - return_only_integer([9, 2, \"space\", \"car\", \"lion\", 16]) ➞ [9, 2, 16]\n",
    "\n",
    "        - return_only_integer([\"hello\", 81, \"basketball\", 123, \"fox\"]) ➞ [81, 123]\n",
    "\n",
    "        - return_only_integer([10, \"121\", 56, 20, \"car\", 3, \"lion\"]) ➞ [10, 56, 20, 3]\n",
    "\n",
    "        -  return_only_integer([\"String\",  True,  3.3,  1]) ➞ [1]\n"
   ]
  },
  {
   "cell_type": "code",
   "execution_count": 11,
   "id": "563ef8dc",
   "metadata": {},
   "outputs": [
    {
     "name": "stdout",
     "output_type": "stream",
     "text": [
      "Enter how many inputs you want to give: 5\n",
      "Enter the elements:rdfg\n",
      "Enter the elements:3789\n",
      "Enter the elements:-pkjhy\n",
      "Enter the elements:qwxcfghkjllkm\n",
      "Enter the elements:-678432190\n",
      "['3789']\n"
     ]
    }
   ],
   "source": [
    "#### USING FOR LOOP\n",
    "\n",
    "n=int(input(\"Enter how many inputs you want to give: \"))\n",
    "l=[]\n",
    "for i in range(n):\n",
    "    elements = input(\"Enter the elements:\")\n",
    "    l.append(elements)\n",
    "x=[]\n",
    "for i in l:\n",
    "    if i.isdigit():\n",
    "        x.append(i)\n",
    "print(x)"
   ]
  },
  {
   "cell_type": "code",
   "execution_count": 3,
   "id": "e49d83d8",
   "metadata": {},
   "outputs": [
    {
     "name": "stdout",
     "output_type": "stream",
     "text": [
      "[1, 2, 4]\n"
     ]
    }
   ],
   "source": [
    "# Using while loop\n",
    "\n",
    "# Input list containing mixed data types\n",
    "data = [1, 2, 'a', 3.14, 'b', 4, 5.0]\n",
    "\n",
    "# Create an empty list to store the integers\n",
    "integers = []\n",
    "\n",
    "# Initialize an index for the while loop\n",
    "index = 0\n",
    "\n",
    "# Use a while loop to iterate through the elements in the data list\n",
    "while index < len(data):\n",
    "    item = data[index]\n",
    "    if isinstance(item, int):\n",
    "        integers.append(item)\n",
    "    index += 1\n",
    "\n",
    "# Output the list containing only integers\n",
    "print(integers)"
   ]
  },
  {
   "cell_type": "code",
   "execution_count": null,
   "id": "615b3582",
   "metadata": {},
   "outputs": [],
   "source": [
    "### 11.  Is the Word an Isogram?\n",
    "-    An isogram is a word that has no duplicate letters. Create a function that takes a string and returns either True or False depending on whether or not it's an \"isogram\".\n",
    "\n",
    "#### Examples\n",
    "\n",
    "-    is_isogram(\"Algorism\") ➞ True\n",
    "\n",
    "-    is_isogram(\"PasSword\") ➞ False\n",
    "\n",
    "-    Not case sensitive.\n",
    "\n",
    "-    is_isogram(\"Consecutive\") ➞ False"
   ]
  },
  {
   "cell_type": "code",
   "execution_count": 14,
   "id": "933eaee8",
   "metadata": {},
   "outputs": [
    {
     "name": "stdout",
     "output_type": "stream",
     "text": [
      "Enter how many inputs you want to give: ziya\n",
      "True\n"
     ]
    }
   ],
   "source": [
    "x=(input(\"Enter how many inputs you want to give: \"))\n",
    "r=set()\n",
    "isogram = True\n",
    "for i in x:\n",
    "    if i in r:\n",
    "        isogram = False\n",
    "    r.add(i)\n",
    "print(isogram)"
   ]
  },
  {
   "cell_type": "code",
   "execution_count": 5,
   "id": "c7860b97",
   "metadata": {},
   "outputs": [
    {
     "name": "stdout",
     "output_type": "stream",
     "text": [
      "Enter a word: ziya\n",
      "ziya is an isogram.\n"
     ]
    }
   ],
   "source": [
    "# Using while loop\n",
    "\n",
    "word = input(\"Enter a word: \")\n",
    "is_isogram = True\n",
    "\n",
    "i = 0\n",
    "while i < len(word) and is_isogram:\n",
    "    j = i + 1\n",
    "    while j < len(word):\n",
    "        if word[i] == word[j]:\n",
    "            is_isogram = False\n",
    "            break\n",
    "        j += 1\n",
    "    i += 1\n",
    "\n",
    "if is_isogram:\n",
    "    print(f\"{word} is an isogram.\")\n",
    "else:\n",
    "    print(f\"{word} is not an isogram.\")"
   ]
  },
  {
   "cell_type": "code",
   "execution_count": null,
   "id": "4a7b2918",
   "metadata": {},
   "outputs": [],
   "source": [
    "### 12. Purge and Organize\n",
    "\n",
    "-   Given a list of numbers, write a function that returns a list that...\n",
    "\n",
    "-   Has all duplicate elements removed.\n",
    "\n",
    "-   Is sorted from least to greatest value.\n",
    "\n",
    "#### Examples\n",
    "\n",
    "-  unique_sort([1, 2, 4, 3]) ➞ [1, 2, 3, 4]\n",
    "\n",
    "-  unique_sort([1, 4, 4, 4, 4, 4, 3, 2, 1, 2]) ➞ [1, 2, 3, 4]\n",
    "\n",
    "-  unique_sort([6, 7, 3, 2, 1]) ➞ [1, 2, 3, 6, 7]"
   ]
  },
  {
   "cell_type": "code",
   "execution_count": 21,
   "id": "11c247f0",
   "metadata": {},
   "outputs": [
    {
     "name": "stdout",
     "output_type": "stream",
     "text": [
      "Enter how many numbers you want in a list : 10\n",
      "Enter the elements : 9\n",
      "Enter the elements : 4\n",
      "Enter the elements : 5\n",
      "Enter the elements : 5\n",
      "Enter the elements : 2\n",
      "Enter the elements : 8\n",
      "Enter the elements : 4\n",
      "Enter the elements : 3\n",
      "Enter the elements : 0\n",
      "Enter the elements : 1\n",
      "['0', '2', '3', '4', '5', '8', '9']\n"
     ]
    }
   ],
   "source": [
    "x = int(input(\"Enter how many numbers you want in a list : \") )\n",
    "l =[]\n",
    "for i in range(x):\n",
    "    y = input(\"Enter the elements : \")\n",
    "    sorted_list=sorted(set(l))\n",
    "    l.append(y)\n",
    "print(sorted_list)"
   ]
  },
  {
   "cell_type": "code",
   "execution_count": 6,
   "id": "cbba29bd",
   "metadata": {},
   "outputs": [
    {
     "name": "stdout",
     "output_type": "stream",
     "text": [
      "Purged and organized list: [1, 2, 3, 5, 6, 7, 8]\n"
     ]
    }
   ],
   "source": [
    "# Using while loop\n",
    "\n",
    "# Initial list with duplicate and unorganized elements\n",
    "items = [3, 2, 6, 2, 1, 3, 5, 6, 7, 8]\n",
    "\n",
    "# Create an empty list to store the unique and organized elements\n",
    "result = []\n",
    "\n",
    "# Initialize an index for the while loop\n",
    "i = 0\n",
    "\n",
    "# Use a while loop to iterate through the original list\n",
    "while i < len(items):\n",
    "    item = items[i]\n",
    "    if item not in result:\n",
    "        result.append(item)\n",
    "    i += 1\n",
    "\n",
    "# Sort the result list in ascending order\n",
    "result.sort()\n",
    "\n",
    "# Print the purged and organized list\n",
    "print(\"Purged and organized list:\", result)"
   ]
  },
  {
   "cell_type": "code",
   "execution_count": null,
   "id": "66935d5a",
   "metadata": {},
   "outputs": [],
   "source": [
    "## 13. Transform into a List with No Duplicates\n",
    "\n",
    "-    A set is a collection of unique items. A set can be formed from a list by removing all duplicate items. [1, 3, 3, 5, 5, 5]\n",
    "\n",
    "#### original list\n",
    "\n",
    "    [1, 3, 5]\n",
    "    \n",
    "#### original list transformed into a set\n",
    "\n",
    "-    Create a function that sorts a list and removes all duplicate items from it.\n",
    "\n",
    "#### Examples\n",
    "\n",
    "    setify([1, 3, 3, 5, 5]) ➞ [1, 3, 5]\n",
    "\n",
    "    setify([4, 4, 4, 4]) ➞ [4]\n",
    "\n",
    "    setify([5, 7, 8, 9, 10, 15]) ➞ [5, 7, 8, 9, 10, 15]\n",
    "\n",
    "    setify([3, 3, 3, 2, 1]) ➞ [1, 2, 3]"
   ]
  },
  {
   "cell_type": "code",
   "execution_count": 20,
   "id": "c37dd78b",
   "metadata": {},
   "outputs": [
    {
     "name": "stdout",
     "output_type": "stream",
     "text": [
      "Enter no. of elements you want in set : 5\n",
      "Enter the elements : 2\n",
      "Enter the elements : 3\n",
      "Enter the elements : 2\n",
      "Enter the elements : 1\n",
      "Enter the elements : 0\n",
      "[{0, 1, 2, 3}]\n"
     ]
    }
   ],
   "source": [
    "x = int(input(\"Enter no. of elements you want in set : \"))\n",
    "s=set()\n",
    "for i in range(x):\n",
    "    y=int(input(\"Enter the elements : \"))\n",
    "    s.add(y)\n",
    "print([s])\n",
    "       "
   ]
  },
  {
   "cell_type": "code",
   "execution_count": null,
   "id": "c9fe6ccb",
   "metadata": {},
   "outputs": [],
   "source": [
    "# Using while loop"
   ]
  },
  {
   "cell_type": "code",
   "execution_count": 7,
   "id": "0ace05d2",
   "metadata": {},
   "outputs": [
    {
     "name": "stdout",
     "output_type": "stream",
     "text": [
      "[1, 2, 3, 4, 5, 6]\n"
     ]
    }
   ],
   "source": [
    "# Input list with duplicates\n",
    "input_list = [1, 2, 2, 3, 4, 4, 5, 6, 6]\n",
    "\n",
    "# Create an empty list to store unique elements\n",
    "output_list = []\n",
    "\n",
    "# Initialize an index variable\n",
    "index = 0\n",
    "\n",
    "# Iterate through the input list using a while loop\n",
    "while index < len(input_list):\n",
    "    item = input_list[index]\n",
    "    \n",
    "    # Check if the item is not in the output list (no duplicates)\n",
    "    if item not in output_list:\n",
    "        # If not, add it to the output list\n",
    "        output_list.append(item)\n",
    "    \n",
    "    # Move to the next index\n",
    "    index += 1\n",
    "\n",
    "# Print the list with no duplicates\n",
    "print(output_list)"
   ]
  },
  {
   "cell_type": "code",
   "execution_count": null,
   "id": "159a55c3",
   "metadata": {},
   "outputs": [],
   "source": [
    "### 14. Get Student Names\n",
    "\n",
    "-   Create a function that takes a dictionary of student names and returns a list of student names in alphabetical order.\n",
    "\n",
    "#### Examples\n",
    "\n",
    "    get_student_names({\n",
    "        \n",
    "    \"Student 1\" : \"Steve\",\n",
    "        \n",
    "    \"Student 2\" : \"Becky\",\n",
    "        \n",
    "    \"Student 3\" : \"John\"})\n",
    "    \n",
    "➞ [\"Becky\", \"John\", \"Steve\"]"
   ]
  },
  {
   "cell_type": "code",
   "execution_count": 9,
   "id": "cdd7477c",
   "metadata": {},
   "outputs": [
    {
     "name": "stdout",
     "output_type": "stream",
     "text": [
      "Enter the number of students: 3\n",
      "Enter the name of student 1: ziya\n",
      "Enter the name of student 2: afsheen\n",
      "Enter the name of student 3: md\n",
      "Student Names:\n",
      "ziya\n",
      "afsheen\n",
      "md\n"
     ]
    }
   ],
   "source": [
    "# Using for loop\n",
    "# Initialize an empty list to store student names\n",
    "student_names = []\n",
    "\n",
    "# Define the number of students\n",
    "num_students = int(input(\"Enter the number of students: \"))\n",
    "\n",
    "# Use a for loop to get student names\n",
    "for i in range(num_students):\n",
    "    name = input(f\"Enter the name of student {i + 1}: \")\n",
    "    student_names.append(name)\n",
    "\n",
    "# Print the list of student names\n",
    "print(\"Student Names:\")\n",
    "for name in student_names:\n",
    "    print(name)\n",
    "    "
   ]
  },
  {
   "cell_type": "code",
   "execution_count": null,
   "id": "6cafa60d",
   "metadata": {},
   "outputs": [],
   "source": [
    "# Using while loop"
   ]
  },
  {
   "cell_type": "code",
   "execution_count": 10,
   "id": "d5d3bede",
   "metadata": {},
   "outputs": [
    {
     "name": "stdout",
     "output_type": "stream",
     "text": [
      "Enter the number of students: 3\n",
      "Enter the name of student 1: esha\n",
      "Enter the name of student 2: neha\n",
      "Enter the name of student 3: niha\n",
      "Student Names:\n",
      "esha\n",
      "neha\n",
      "niha\n"
     ]
    }
   ],
   "source": [
    "# Initialize an empty list to store student names\n",
    "student_names = []\n",
    "\n",
    "# Define the number of students\n",
    "num_students = int(input(\"Enter the number of students: \"))\n",
    "\n",
    "# Initialize a counter\n",
    "count = 0\n",
    "\n",
    "# Use a while loop to get student names\n",
    "while count < num_students:\n",
    "    name = input(f\"Enter the name of student {count + 1}: \")\n",
    "    student_names.append(name)\n",
    "    count += 1\n",
    "\n",
    "# Print the list of student names\n",
    "print(\"Student Names:\")\n",
    "for name in student_names:\n",
    "    print(name)"
   ]
  },
  {
   "cell_type": "code",
   "execution_count": null,
   "id": "5623c370",
   "metadata": {},
   "outputs": [],
   "source": [
    "### 15.Say Hello to Guests\n",
    "\n",
    "-   In this exercise you will have to:\n",
    "\n",
    "-    Take a list of names.\n",
    "-    Add \"Hello\" to every name.\n",
    "    Make one big string with all greetings.\n",
    "-   The solution should be one string with a comma in between every \"Hello (Name)\".\n",
    "\n",
    "#### Examples\n",
    "\n",
    "greet_people([\"Joe\"]) ➞ \"Hello Joe\"\n",
    "\n",
    "greet_people([\"Angela\", \"Joe\"]) ➞ \"Hello Angela, Hello Joe\"\n",
    "\n",
    "greet_people([\"Frank\", \"Angela\", \"Joe\"]) ➞ \"Hello Frank, Hello Angela, Hello Joe\""
   ]
  },
  {
   "cell_type": "code",
   "execution_count": 12,
   "id": "97d5fa33",
   "metadata": {},
   "outputs": [
    {
     "name": "stdout",
     "output_type": "stream",
     "text": [
      "Hello, ziya! Welcome to our event.\n",
      "Hello, Afsheen! Welcome to our event.\n",
      "Hello, esha! Welcome to our event.\n",
      "Hello, neha! Welcome to our event.\n",
      "Hello, aira! Welcome to our event.\n"
     ]
    }
   ],
   "source": [
    "# List of guest names\n",
    "guests = [\"ziya\",\"Afsheen\",\"esha\",\"neha\",\"aira\"]\n",
    "\n",
    "# Use a for loop to greet each guest\n",
    "for guest in guests:\n",
    "    print(f\"Hello, {guest}! Welcome to our event.\")"
   ]
  },
  {
   "cell_type": "code",
   "execution_count": 13,
   "id": "ab80fd04",
   "metadata": {},
   "outputs": [
    {
     "name": "stdout",
     "output_type": "stream",
     "text": [
      "Hello, ziya! Welcome to our event.\n",
      "Hello, esha! Welcome to our event.\n",
      "Hello, neha! Welcome to our event.\n",
      "Hello, aira! Welcome to our event.\n",
      "Hello, afsheen! Welcome to our event.\n"
     ]
    }
   ],
   "source": [
    "# List of guest names\n",
    "guests = [\"ziya\",\"esha\",\"neha\",\"aira\",\"afsheen\"]\n",
    "\n",
    "# Initialize a counter\n",
    "count = 0\n",
    "\n",
    "# Use a while loop to greet each guest\n",
    "while count < len(guests):\n",
    "    guest = guests[count]\n",
    "    print(f\"Hello, {guest}! Welcome to our event.\")\n",
    "    count += 1\n"
   ]
  },
  {
   "cell_type": "code",
   "execution_count": null,
   "id": "46fb83dd",
   "metadata": {},
   "outputs": [],
   "source": [
    "##  16.Find the Mean of All Digits\n",
    "\n",
    "-   Create a function that returns the mean of all digits.\n",
    "\n",
    "-   Examples\n",
    "-   mean(42) ➞ 3\n",
    "\n",
    "-   mean(12345) ➞ 3\n",
    "\n",
    "-   mean(666) ➞ 6"
   ]
  },
  {
   "cell_type": "code",
   "execution_count": 14,
   "id": "5ed7609c",
   "metadata": {},
   "outputs": [
    {
     "name": "stdout",
     "output_type": "stream",
     "text": [
      "Enter a number: 10\n",
      "Mean of all digits: 0.5\n"
     ]
    }
   ],
   "source": [
    "# Input a number\n",
    "num = int(input(\"Enter a number: \"))\n",
    "\n",
    "# Initialize variables to store the sum and count of digits\n",
    "total = 0\n",
    "count = 0\n",
    "\n",
    "# Calculate the sum of all digits in the number\n",
    "while num > 0:\n",
    "    digit = num % 10\n",
    "    total += digit\n",
    "    count += 1\n",
    "    num //= 10\n",
    "\n",
    "# Calculate the mean\n",
    "mean = total / count\n",
    "\n",
    "# Display the result\n",
    "print(f\"Mean of all digits: {mean}\")"
   ]
  },
  {
   "cell_type": "code",
   "execution_count": null,
   "id": "e510168b",
   "metadata": {},
   "outputs": [],
   "source": [
    "# Using while loop"
   ]
  },
  {
   "cell_type": "code",
   "execution_count": 15,
   "id": "97d28b67",
   "metadata": {},
   "outputs": [
    {
     "name": "stdout",
     "output_type": "stream",
     "text": [
      "Enter a number: 10\n",
      "Mean of all digits: 0.5\n"
     ]
    }
   ],
   "source": [
    "# Input a number\n",
    "num = int(input(\"Enter a number: \"))\n",
    "\n",
    "# Initialize variables to store the sum and count of digits\n",
    "total = 0\n",
    "count = 0\n",
    "\n",
    "# Calculate the sum of all digits in the number\n",
    "while num > 0:\n",
    "    digit = num % 10\n",
    "    total += digit\n",
    "    count += 1\n",
    "    num //= 10\n",
    "\n",
    "# Calculate the mean\n",
    "if count > 0:\n",
    "    mean = total / count\n",
    "    print(f\"Mean of all digits: {mean}\")\n",
    "else:\n",
    "    print(\"No digits to calculate the mean.\")"
   ]
  },
  {
   "cell_type": "code",
   "execution_count": null,
   "id": "cf55e21b",
   "metadata": {},
   "outputs": [],
   "source": [
    "## 17.Typing Game\n",
    "\n",
    "-   You're in the midst of creating a typing game.\n",
    "\n",
    "-    Create a function that takes in two lists: the list of user-typed words, and the list of correctly-typed words and outputs a list containing 1s (correctly-typed words) and -1s (incorrectly-typed words).\n",
    "\n",
    "-   # Inputs:\n",
    "\n",
    "-    User-typed: [\"cat\", \"blue\", \"skt\", \"umbrells\", \"paddy\"]\n",
    "    \n",
    "-    Correct: [\"cat\", \"blue\", \"sky\", \"umbrella\", \"paddy\"]\n",
    "\n",
    "# Output: [1, 1, -1, -1, 1]"
   ]
  },
  {
   "cell_type": "code",
   "execution_count": 16,
   "id": "b4a0e205",
   "metadata": {},
   "outputs": [
    {
     "name": "stdout",
     "output_type": "stream",
     "text": [
      "Type the word: apple\n",
      "banana\n",
      "Incorrect. Your final score is: 0\n"
     ]
    }
   ],
   "source": [
    "import random\n",
    "\n",
    "words = [\"apple\", \"banana\", \"cherry\", \"date\", \"elderberry\", \"fig\", \"grape\", \"honeydew\", \"kiwi\", \"lemon\", \"mango\", \"nectarine\", \"orange\", \"papaya\", \"quince\", \"raspberry\", \"strawberry\", \"tangerine\", \"watermelon\"]\n",
    "\n",
    "score = 0\n",
    "\n",
    "for word in words:\n",
    "    print(\"Type the word:\", word)\n",
    "    \n",
    "    user_input = input()\n",
    "    \n",
    "    if user_input == word:\n",
    "        print(\"Correct!\\n\")\n",
    "        score += 1\n",
    "    else:\n",
    "        print(\"Incorrect. Your final score is:\", score)\n",
    "        break"
   ]
  },
  {
   "cell_type": "code",
   "execution_count": 17,
   "id": "b09a3165",
   "metadata": {},
   "outputs": [
    {
     "name": "stdout",
     "output_type": "stream",
     "text": [
      "Type the word: lemon\n",
      "5\n",
      "Incorrect. Your score is: 0\n"
     ]
    }
   ],
   "source": [
    "import random\n",
    "\n",
    "words = [\"apple\", \"banana\", \"cherry\", \"date\", \"elderberry\", \"fig\", \"grape\", \"honeydew\", \"kiwi\", \"lemon\", \"mango\", \"nectarine\", \"orange\", \"papaya\", \"quince\", \"raspberry\", \"strawberry\", \"tangerine\", \"watermelon\"]\n",
    "\n",
    "score = 0\n",
    "\n",
    "while True:\n",
    "    word = random.choice(words)\n",
    "    print(\"Type the word:\", word)\n",
    "    \n",
    "    user_input = input()\n",
    "    \n",
    "    if user_input == word:\n",
    "        print(\"Correct!\\n\")\n",
    "        score += 1\n",
    "    else:\n",
    "        print(\"Incorrect. Your score is:\", score)\n",
    "        break"
   ]
  },
  {
   "cell_type": "code",
   "execution_count": null,
   "id": "a800c646",
   "metadata": {},
   "outputs": [],
   "source": [
    "## 18.True Ones, False Zeros\n",
    "\n",
    "-  Create a function which returns a list of booleans, from a given number. Iterating through the number one digit at a time, append True if the digit is 1 and False if it is 0.\n",
    "\n",
    "-   Examples\n",
    "\n",
    "-    integer_boolean(\"100101\") ➞ [True, False, False, True, False, True]\n",
    "\n",
    "-    integer_boolean(\"10\") ➞ [True, False]\n",
    "\n",
    "-    integer_boolean(\"001\") ➞ [False, False, True]"
   ]
  },
  {
   "cell_type": "code",
   "execution_count": 18,
   "id": "b84b28cf",
   "metadata": {},
   "outputs": [
    {
     "name": "stdout",
     "output_type": "stream",
     "text": [
      "[1, 0, 1, 0, 1, 0, 1, 0, 1, 0]\n"
     ]
    }
   ],
   "source": [
    "# Define the length of the sequence\n",
    "sequence_length = 10\n",
    "\n",
    "# Initialize an empty list to store the values\n",
    "code = []\n",
    "\n",
    "# Use a for loop to generate the sequence\n",
    "for i in range(sequence_length):\n",
    "    # Use an if statement to generate True (1) or False (0) alternately\n",
    "    if i % 2 == 0:\n",
    "        code.append(1)  # True\n",
    "    else:\n",
    "        code.append(0)  # False\n",
    "\n",
    "# Print the generated code\n",
    "print(code)"
   ]
  },
  {
   "cell_type": "code",
   "execution_count": 19,
   "id": "1368b50c",
   "metadata": {},
   "outputs": [
    {
     "name": "stdout",
     "output_type": "stream",
     "text": [
      "[0, 1, 0, 1, 0, 1, 0, 1, 0, 1]\n"
     ]
    }
   ],
   "source": [
    "# Define the length of the sequence\n",
    "sequence_length = 10\n",
    "\n",
    "# Initialize a counter and an empty list to store the values\n",
    "count = 0\n",
    "code = []\n",
    "\n",
    "# Use a while loop to generate the sequence\n",
    "while count < sequence_length:\n",
    "    # Use the counter to determine True (1) or False (0)\n",
    "    value = count % 2\n",
    "    code.append(value)\n",
    "\n",
    "    # Increment the counter\n",
    "    count += 1\n",
    "\n",
    "# Print the generated code\n",
    "print(code)"
   ]
  },
  {
   "cell_type": "code",
   "execution_count": null,
   "id": "c511082f",
   "metadata": {},
   "outputs": [],
   "source": []
  },
  {
   "cell_type": "code",
   "execution_count": null,
   "id": "d226288e",
   "metadata": {},
   "outputs": [],
   "source": []
  }
 ],
 "metadata": {
  "kernelspec": {
   "display_name": "Python 3 (ipykernel)",
   "language": "python",
   "name": "python3"
  },
  "language_info": {
   "codemirror_mode": {
    "name": "ipython",
    "version": 3
   },
   "file_extension": ".py",
   "mimetype": "text/x-python",
   "name": "python",
   "nbconvert_exporter": "python",
   "pygments_lexer": "ipython3",
   "version": "3.11.5"
  }
 },
 "nbformat": 4,
 "nbformat_minor": 5
}
