{
 "cells": [
  {
   "cell_type": "markdown",
   "id": "47115d7a",
   "metadata": {},
   "source": [
    "# Class\n",
    "\n",
    "    - A class is a user-defined blueprint or prototype from which objects are created.\n",
    "    - Defines the properties (attributes) and behaviors (methods) that the objects belonging to that class will have.\n"
   ]
  },
  {
   "cell_type": "code",
   "execution_count": 14,
   "id": "59bc1d2a",
   "metadata": {
    "scrolled": true
   },
   "outputs": [
    {
     "name": "stdout",
     "output_type": "stream",
     "text": [
      " Hello <class 'str'>\n"
     ]
    }
   ],
   "source": [
    "x = \" Hello\"\n",
    "print(x, type(x))"
   ]
  },
  {
   "cell_type": "code",
   "execution_count": null,
   "id": "e86a577c",
   "metadata": {},
   "outputs": [],
   "source": []
  },
  {
   "cell_type": "markdown",
   "id": "deac56f6",
   "metadata": {},
   "source": [
    "### ASCII Values\n",
    "- It is a numeric value given to different characters and symbols, for computers to store and manipulate. \n",
    "- The characters that can be in the form of upper function and lower function of alphabets like, (A,B,C,D,...),(a,b,c,d,...).\n"
   ]
  },
  {
   "cell_type": "code",
   "execution_count": 1,
   "id": "1a0d9619",
   "metadata": {},
   "outputs": [
    {
     "data": {
      "text/plain": [
       "65"
      ]
     },
     "execution_count": 1,
     "metadata": {},
     "output_type": "execute_result"
    }
   ],
   "source": [
    "ord(\"A\")"
   ]
  },
  {
   "cell_type": "code",
   "execution_count": 2,
   "id": "43e24436",
   "metadata": {},
   "outputs": [
    {
     "data": {
      "text/plain": [
       "97"
      ]
     },
     "execution_count": 2,
     "metadata": {},
     "output_type": "execute_result"
    }
   ],
   "source": [
    "ord(\"a\")"
   ]
  },
  {
   "cell_type": "markdown",
   "id": "525abfb9",
   "metadata": {},
   "source": [
    "## Methods in String\n",
    "\n",
    "- strings are immutable,the resulting strings from string methods have a new memory location.\n",
    "- In order to use these strings, we need re-assign it to a variable."
   ]
  },
  {
   "cell_type": "code",
   "execution_count": 4,
   "id": "030c0d30",
   "metadata": {},
   "outputs": [
    {
     "name": "stdout",
     "output_type": "stream",
     "text": [
      " Hello <class 'str'>\n"
     ]
    }
   ],
   "source": [
    "x = \" Hello\"\n",
    "print(x, type(x))"
   ]
  },
  {
   "cell_type": "code",
   "execution_count": 5,
   "id": "472c45e3",
   "metadata": {},
   "outputs": [
    {
     "data": {
      "text/plain": [
       "['__add__',\n",
       " '__class__',\n",
       " '__contains__',\n",
       " '__delattr__',\n",
       " '__dir__',\n",
       " '__doc__',\n",
       " '__eq__',\n",
       " '__format__',\n",
       " '__ge__',\n",
       " '__getattribute__',\n",
       " '__getitem__',\n",
       " '__getnewargs__',\n",
       " '__getstate__',\n",
       " '__gt__',\n",
       " '__hash__',\n",
       " '__init__',\n",
       " '__init_subclass__',\n",
       " '__iter__',\n",
       " '__le__',\n",
       " '__len__',\n",
       " '__lt__',\n",
       " '__mod__',\n",
       " '__mul__',\n",
       " '__ne__',\n",
       " '__new__',\n",
       " '__reduce__',\n",
       " '__reduce_ex__',\n",
       " '__repr__',\n",
       " '__rmod__',\n",
       " '__rmul__',\n",
       " '__setattr__',\n",
       " '__sizeof__',\n",
       " '__str__',\n",
       " '__subclasshook__',\n",
       " 'capitalize',\n",
       " 'casefold',\n",
       " 'center',\n",
       " 'count',\n",
       " 'encode',\n",
       " 'endswith',\n",
       " 'expandtabs',\n",
       " 'find',\n",
       " 'format',\n",
       " 'format_map',\n",
       " 'index',\n",
       " 'isalnum',\n",
       " 'isalpha',\n",
       " 'isascii',\n",
       " 'isdecimal',\n",
       " 'isdigit',\n",
       " 'isidentifier',\n",
       " 'islower',\n",
       " 'isnumeric',\n",
       " 'isprintable',\n",
       " 'isspace',\n",
       " 'istitle',\n",
       " 'isupper',\n",
       " 'join',\n",
       " 'ljust',\n",
       " 'lower',\n",
       " 'lstrip',\n",
       " 'maketrans',\n",
       " 'partition',\n",
       " 'removeprefix',\n",
       " 'removesuffix',\n",
       " 'replace',\n",
       " 'rfind',\n",
       " 'rindex',\n",
       " 'rjust',\n",
       " 'rpartition',\n",
       " 'rsplit',\n",
       " 'rstrip',\n",
       " 'split',\n",
       " 'splitlines',\n",
       " 'startswith',\n",
       " 'strip',\n",
       " 'swapcase',\n",
       " 'title',\n",
       " 'translate',\n",
       " 'upper',\n",
       " 'zfill']"
      ]
     },
     "execution_count": 5,
     "metadata": {},
     "output_type": "execute_result"
    }
   ],
   "source": [
    "dir(x)"
   ]
  },
  {
   "cell_type": "markdown",
   "id": "73ef82f7",
   "metadata": {},
   "source": [
    "# # String_Upper_Case()\n",
    "\n",
    "- This method changes all the characters in a string to capital alphabets"
   ]
  },
  {
   "cell_type": "code",
   "execution_count": 6,
   "id": "1278135b",
   "metadata": {},
   "outputs": [
    {
     "data": {
      "text/plain": [
       "'PYTHON'"
      ]
     },
     "execution_count": 6,
     "metadata": {},
     "output_type": "execute_result"
    }
   ],
   "source": [
    "x = \"Python\"\n",
    "x.upper()"
   ]
  },
  {
   "cell_type": "code",
   "execution_count": null,
   "id": "4f6fa3d3",
   "metadata": {},
   "outputs": [],
   "source": [
    "## String_lower_case() \n",
    "\n",
    "- This method changes all the characters in a string to small letters.x = \"Python\"\n",
    "print(x)\n",
    "x.lower()"
   ]
  },
  {
   "cell_type": "markdown",
   "id": "4fe63e53",
   "metadata": {},
   "source": [
    "x = \"PYTHON\"\n",
    "x.lower()"
   ]
  },
  {
   "cell_type": "code",
   "execution_count": 23,
   "id": "a5722050",
   "metadata": {},
   "outputs": [
    {
     "data": {
      "text/plain": [
       "'SHE SELLS SEASHELLS BY THE SEASHORE'"
      ]
     },
     "execution_count": 23,
     "metadata": {},
     "output_type": "execute_result"
    }
   ],
   "source": [
    "# Upper case\n",
    "str = \"She sells seashells by the seashore\"\n",
    "str.upper()"
   ]
  },
  {
   "cell_type": "code",
   "execution_count": 25,
   "id": "547f2cc3",
   "metadata": {},
   "outputs": [
    {
     "data": {
      "text/plain": [
       "'she sells seashells by the seashore'"
      ]
     },
     "execution_count": 25,
     "metadata": {},
     "output_type": "execute_result"
    }
   ],
   "source": [
    "# Lower case\n",
    "str.lower()"
   ]
  },
  {
   "cell_type": "markdown",
   "id": "45f98395",
   "metadata": {},
   "source": [
    "* Strings are <u>**'immutable'**<\\u>, the resulting strings from string methods have a new memeory location.\n",
    "- in order to use strings, we need to reassign it to a variable."
   ]
  },
  {
   "cell_type": "code",
   "execution_count": 8,
   "id": "e6451d2a",
   "metadata": {},
   "outputs": [
    {
     "data": {
      "text/plain": [
       "'ABC'"
      ]
     },
     "execution_count": 8,
     "metadata": {},
     "output_type": "execute_result"
    }
   ],
   "source": [
    "x = 'ABC'\n",
    "x.upper()"
   ]
  },
  {
   "cell_type": "code",
   "execution_count": 9,
   "id": "13aa75e8",
   "metadata": {},
   "outputs": [
    {
     "name": "stdout",
     "output_type": "stream",
     "text": [
      "140706321734120 2722025714080\n"
     ]
    }
   ],
   "source": [
    "print(id(x), id(x.upper))"
   ]
  },
  {
   "cell_type": "code",
   "execution_count": 10,
   "id": "36bb4de2",
   "metadata": {},
   "outputs": [
    {
     "data": {
      "text/plain": [
       "'abc'"
      ]
     },
     "execution_count": 10,
     "metadata": {},
     "output_type": "execute_result"
    }
   ],
   "source": [
    "x = 'abc'\n",
    "x.lower()\n"
   ]
  },
  {
   "cell_type": "code",
   "execution_count": 11,
   "id": "d1f28c56",
   "metadata": {},
   "outputs": [
    {
     "name": "stdout",
     "output_type": "stream",
     "text": [
      "140706321286224 2722025715360\n"
     ]
    }
   ],
   "source": [
    "print(id(x),id(x.lower))"
   ]
  },
  {
   "cell_type": "markdown",
   "id": "3caeca47",
   "metadata": {},
   "source": [
    "## Capitalize()\n",
    "\n",
    "- In pyhton capitalize() will convert the first character into capital letter and the remaining characters will be in lower       case.\n",
    "\n"
   ]
  },
  {
   "cell_type": "markdown",
   "id": "3908fb66",
   "metadata": {},
   "source": [
    "str = \"She sells seashells by the seashore\"\n",
    "str.capitalize()"
   ]
  },
  {
   "cell_type": "markdown",
   "id": "7adf053e",
   "metadata": {},
   "source": [
    "## title() \n",
    "\n",
    "- The title function will convert the given input of a every string of first character into the uppercase form.\n",
    "- converts first alphabet of every word will be in capital case'\n"
   ]
  },
  {
   "cell_type": "code",
   "execution_count": 14,
   "id": "8bf3b968",
   "metadata": {},
   "outputs": [
    {
     "data": {
      "text/plain": [
       "'She Sells Seashells By The Seashore'"
      ]
     },
     "execution_count": 14,
     "metadata": {},
     "output_type": "execute_result"
    }
   ],
   "source": [
    "str.title()"
   ]
  },
  {
   "cell_type": "code",
   "execution_count": 38,
   "id": "4ac4e9cd",
   "metadata": {},
   "outputs": [
    {
     "data": {
      "text/plain": [
       "'123Abc !Def Zx 1234!!@@C'"
      ]
     },
     "execution_count": 38,
     "metadata": {},
     "output_type": "execute_result"
    }
   ],
   "source": [
    "## title()\n",
    "'123abc !def zx 1234!!@@c'.title()"
   ]
  },
  {
   "cell_type": "markdown",
   "id": "8ef7f7af",
   "metadata": {},
   "source": [
    "## Split()\n",
    "\n",
    "- The split() function means it will give the each and every string into the new line."
   ]
  },
  {
   "cell_type": "markdown",
   "id": "8021c39f",
   "metadata": {},
   "source": [
    "str.split()"
   ]
  },
  {
   "cell_type": "markdown",
   "id": "adc90d48",
   "metadata": {},
   "source": [
    "## Swapcase()\n",
    "\n",
    "- This method changes capital letters to small letters and small letters to capital letters.\n"
   ]
  },
  {
   "cell_type": "code",
   "execution_count": 16,
   "id": "ffe07bf6",
   "metadata": {},
   "outputs": [
    {
     "data": {
      "text/plain": [
       "'sHE SELLS SEASHELLS BY THE SEASHORE'"
      ]
     },
     "execution_count": 16,
     "metadata": {},
     "output_type": "execute_result"
    }
   ],
   "source": [
    "str.swapcase()"
   ]
  },
  {
   "cell_type": "markdown",
   "id": "3bae9922",
   "metadata": {},
   "source": [
    "## casefold()\n",
    "\n",
    "- The casefold() changes string lower case to more lowercase, special character like germen character (ß) is already in lower     case so, the lower method doesn’t make the conversion.\n",
    "\n",
    "- The casefold() method will convert ß to its equivalent character ss.\n",
    "  'German ss is '\n",
    "  "
   ]
  },
  {
   "cell_type": "code",
   "execution_count": 17,
   "id": "53cea8bc",
   "metadata": {},
   "outputs": [
    {
     "data": {
      "text/plain": [
       "'ss'"
      ]
     },
     "execution_count": 17,
     "metadata": {},
     "output_type": "execute_result"
    }
   ],
   "source": [
    "x = 'ß'\n",
    "x.casefold()"
   ]
  },
  {
   "cell_type": "markdown",
   "id": "91f21cdc",
   "metadata": {},
   "source": [
    "### Take a two strings of your choice\n",
    "\n",
    "   #### 1) Reverse one string\n",
    "   \n",
    "      - it begins with index -1 to -n , where n is length of string\n",
    "\n",
    "      - negitive indexing moves from right to left.\n",
    "   \n",
    "  "
   ]
  },
  {
   "cell_type": "code",
   "execution_count": 18,
   "id": "d788ee2d",
   "metadata": {},
   "outputs": [
    {
     "data": {
      "text/plain": [
       "'dlroW'"
      ]
     },
     "execution_count": 18,
     "metadata": {},
     "output_type": "execute_result"
    }
   ],
   "source": [
    "   a = 'Hello'\n",
    "   b = 'World'\n",
    "   b = b[::-1]\n",
    "   b"
   ]
  },
  {
   "cell_type": "markdown",
   "id": "83747675",
   "metadata": {},
   "source": [
    "####  2) Concatenate these two strings\n",
    "    \n",
    "     -  string concatenation is the operation of joining character strings end-to-end."
   ]
  },
  {
   "cell_type": "code",
   "execution_count": 21,
   "id": "5d21df57",
   "metadata": {},
   "outputs": [
    {
     "data": {
      "text/plain": [
       "'HelloWorld'"
      ]
     },
     "execution_count": 21,
     "metadata": {},
     "output_type": "execute_result"
    }
   ],
   "source": [
    "     a = 'Hello'\n",
    "     b =  'World'\n",
    "     c = a + b\n",
    "     c\n"
   ]
  },
  {
   "cell_type": "markdown",
   "id": "2b87a264",
   "metadata": {},
   "source": [
    "####  3) Get the alternate chars of the concatenate string in reverse order.\n",
    "\n",
    "     - first, we take the two strings then, we add the strings by using concatination operation and assign these value to new          variable these variable will reverse the string by using reverse operation, and to get alternative values to that string        we use step_size value as -2 then we get the required alternate chars of the concatenate string in reverse order."
   ]
  },
  {
   "cell_type": "code",
   "execution_count": 22,
   "id": "3a7835b7",
   "metadata": {},
   "outputs": [
    {
     "data": {
      "text/plain": [
       "'drWle'"
      ]
     },
     "execution_count": 22,
     "metadata": {},
     "output_type": "execute_result"
    }
   ],
   "source": [
    "a = 'Hello'\n",
    "b = 'World'\n",
    "c = a + b\n",
    "c = c[::-2]\n",
    "c"
   ]
  }
 ],
 "metadata": {
  "kernelspec": {
   "display_name": "Python 3 (ipykernel)",
   "language": "python",
   "name": "python3"
  },
  "language_info": {
   "codemirror_mode": {
    "name": "ipython",
    "version": 3
   },
   "file_extension": ".py",
   "mimetype": "text/x-python",
   "name": "python",
   "nbconvert_exporter": "python",
   "pygments_lexer": "ipython3",
   "version": "3.11.5"
  }
 },
 "nbformat": 4,
 "nbformat_minor": 5
}
